{
 "cells": [
  {
   "cell_type": "markdown",
   "metadata": {},
   "source": [
    "---\n",
    "\n",
    "**<font color=\"green\">Комментарий ревьюера V2</font>**\n",
    "\n",
    "Привет еще раз)\n",
    "\n",
    "\n",
    "---"
   ]
  },
  {
   "cell_type": "markdown",
   "metadata": {},
   "source": [
    "---\n",
    "\n",
    "**<font color=\"green\">Комментарий ревьюера V2</font>**\n",
    "\n",
    "Привет! Спасибо за доработку задания\n",
    "\n",
    "\n",
    "---\n"
   ]
  },
  {
   "cell_type": "markdown",
   "metadata": {},
   "source": [
    "---\n",
    "\n",
    "**<font color=\"green\">Комментарий ревьюера</font>**\n",
    "\n",
    "Привет, Роман! Спасибо тебе за выполненное задание!\n",
    "Меня зовут Горленко Екатерина, я буду проверять твою работу.\n",
    "\n",
    "По ходу тетрадки ты найдешь комментарии к проекту, они будут в отдельных ячейках Markdown с заголовком «Комментарий ревьюера». Постарайся учесть эти комментарии для дальнейших проектов.\n",
    "\n",
    "Пожалуйста, не удаляй комментарии. Будет здорово, если для своих ответов ты тоже выберешь какой-то **<font color=\"blue\">заметный цвет</font>**  или **формат**, так мне будет легче отследить изменения.\n",
    "\n",
    "---\n",
    "\n",
    "Я буду красить комментарии цветом:\n",
    "\n",
    "<div class=\"alert alert-block alert-danger\">\n",
    "    \n",
    "\n",
    "### Комментарий от ревьюера\n",
    "\n",
    "Такой комментарий нужно исправить обязательно, он критически влияет на удачное выполнение проекта.\n",
    "</div>\n",
    "    \n",
    "---\n",
    "\n",
    "<div class=\"alert alert-block alert-warning\">\n",
    "    \n",
    "\n",
    "### Комментарий от ревьюера\n",
    "\n",
    "\n",
    "Такой комментарий является рекомендацией или советом. Можешь использовать их на своё усмотрение.\n",
    "</div>\n",
    "\n",
    "---\n",
    "\n",
    "<div class=\"alert alert-block alert-success\">\n",
    "    \n",
    "\n",
    "### Комментарий от ревьюера\n",
    "\n",
    "Такой комментарий  говорит о том, что было сделано что-то качественное и правильное =)\n",
    "</div>\n",
    "\n",
    "---\n",
    "\n",
    "\n"
   ]
  },
  {
   "cell_type": "markdown",
   "metadata": {},
   "source": [
    "# Аналитика в Яндекс.Афише"
   ]
  },
  {
   "cell_type": "markdown",
   "metadata": {},
   "source": [
    "Цель исследования: помочь маркетологам Яндекс.Афиши оптимизировать маркетинговые затраты. В распоряжении есть данные от Яндекс.Афиши с июня 2017 по конец мая 2018 года:\n",
    "* лог сервера с данными о посещениях сайта Яндекс.Афиши,\n",
    "* выгрузка всех заказов за этот период,\n",
    "* статистика рекламных расходов.  \n",
    "\n",
    "По результатам необходимо ответить на следующие вопросы:  \n",
    "* как люди пользуются продуктом?\n",
    "* когда они начинают покупать?\n",
    "* сколько денег приносит каждый клиент?\n",
    "* когда клиент окупается?"
   ]
  },
  {
   "cell_type": "markdown",
   "metadata": {},
   "source": [
    " ---\n",
    "\n",
    "<div class=\"alert alert-block alert-warning\">\n",
    "    \n",
    "\n",
    "### Комментарий от ревьюера\n",
    "\n",
    "В начале работы всегда важно отметить цель - основной вопрос, на который ты даешь ответ своим исследованием. Чем твоя работа полезна получателю, на какой бизнес вопрос она ответит. И хорошо бы обозначить план работы, чтобы дать понять читателю, что тут будет происходить.\n",
    "</div>\n",
    "\n",
    "---\n"
   ]
  },
  {
   "cell_type": "markdown",
   "metadata": {},
   "source": [
    "<div class=\"alert alert-block alert-info\">\n",
    "\n",
    "### Комментарий от студента  \n",
    "    \n",
    "Исправил \n",
    "</div>"
   ]
  },
  {
   "cell_type": "markdown",
   "metadata": {},
   "source": [
    "---\n",
    "\n",
    "<div class=\"alert alert-block alert-success\">\n",
    "    \n",
    "\n",
    "### Комментарий от ревьюера V2\n",
    "\n",
    "Отлично, принимается)\n",
    "\n",
    "</div>\n",
    "\n",
    "---\n"
   ]
  },
  {
   "cell_type": "markdown",
   "metadata": {},
   "source": [
    "## Выгрузка данных"
   ]
  },
  {
   "cell_type": "code",
   "execution_count": 1,
   "metadata": {},
   "outputs": [],
   "source": [
    "# Импортируем необходимые библиотеки и модули\n",
    "import pandas as pd\n",
    "import numpy as np\n",
    "import matplotlib.pyplot as plt\n",
    "import seaborn as sns\n",
    "import calendar\n",
    "from scipy import stats as st"
   ]
  },
  {
   "cell_type": "code",
   "execution_count": 2,
   "metadata": {},
   "outputs": [
    {
     "data": {
      "text/html": [
       "<div>\n",
       "<style scoped>\n",
       "    .dataframe tbody tr th:only-of-type {\n",
       "        vertical-align: middle;\n",
       "    }\n",
       "\n",
       "    .dataframe tbody tr th {\n",
       "        vertical-align: top;\n",
       "    }\n",
       "\n",
       "    .dataframe thead th {\n",
       "        text-align: right;\n",
       "    }\n",
       "</style>\n",
       "<table border=\"1\" class=\"dataframe\">\n",
       "  <thead>\n",
       "    <tr style=\"text-align: right;\">\n",
       "      <th></th>\n",
       "      <th>Device</th>\n",
       "      <th>End Ts</th>\n",
       "      <th>Source Id</th>\n",
       "      <th>Start Ts</th>\n",
       "      <th>Uid</th>\n",
       "    </tr>\n",
       "  </thead>\n",
       "  <tbody>\n",
       "    <tr>\n",
       "      <td>0</td>\n",
       "      <td>touch</td>\n",
       "      <td>2017-12-20 17:38:00</td>\n",
       "      <td>4</td>\n",
       "      <td>2017-12-20 17:20:00</td>\n",
       "      <td>16879256277535980062</td>\n",
       "    </tr>\n",
       "    <tr>\n",
       "      <td>1</td>\n",
       "      <td>desktop</td>\n",
       "      <td>2018-02-19 17:21:00</td>\n",
       "      <td>2</td>\n",
       "      <td>2018-02-19 16:53:00</td>\n",
       "      <td>104060357244891740</td>\n",
       "    </tr>\n",
       "    <tr>\n",
       "      <td>2</td>\n",
       "      <td>touch</td>\n",
       "      <td>2017-07-01 01:54:00</td>\n",
       "      <td>5</td>\n",
       "      <td>2017-07-01 01:54:00</td>\n",
       "      <td>7459035603376831527</td>\n",
       "    </tr>\n",
       "    <tr>\n",
       "      <td>3</td>\n",
       "      <td>desktop</td>\n",
       "      <td>2018-05-20 11:23:00</td>\n",
       "      <td>9</td>\n",
       "      <td>2018-05-20 10:59:00</td>\n",
       "      <td>16174680259334210214</td>\n",
       "    </tr>\n",
       "    <tr>\n",
       "      <td>4</td>\n",
       "      <td>desktop</td>\n",
       "      <td>2017-12-27 14:06:00</td>\n",
       "      <td>3</td>\n",
       "      <td>2017-12-27 14:06:00</td>\n",
       "      <td>9969694820036681168</td>\n",
       "    </tr>\n",
       "    <tr>\n",
       "      <td>5</td>\n",
       "      <td>desktop</td>\n",
       "      <td>2017-09-03 21:36:00</td>\n",
       "      <td>5</td>\n",
       "      <td>2017-09-03 21:35:00</td>\n",
       "      <td>16007536194108375387</td>\n",
       "    </tr>\n",
       "    <tr>\n",
       "      <td>6</td>\n",
       "      <td>desktop</td>\n",
       "      <td>2018-01-30 12:09:00</td>\n",
       "      <td>1</td>\n",
       "      <td>2018-01-30 11:13:00</td>\n",
       "      <td>6661610529277171451</td>\n",
       "    </tr>\n",
       "    <tr>\n",
       "      <td>7</td>\n",
       "      <td>touch</td>\n",
       "      <td>2017-11-05 15:15:00</td>\n",
       "      <td>3</td>\n",
       "      <td>2017-11-05 15:14:00</td>\n",
       "      <td>11423865690854540312</td>\n",
       "    </tr>\n",
       "    <tr>\n",
       "      <td>8</td>\n",
       "      <td>desktop</td>\n",
       "      <td>2017-07-19 10:44:00</td>\n",
       "      <td>3</td>\n",
       "      <td>2017-07-19 10:41:00</td>\n",
       "      <td>2987360259350925644</td>\n",
       "    </tr>\n",
       "    <tr>\n",
       "      <td>9</td>\n",
       "      <td>desktop</td>\n",
       "      <td>2017-11-08 13:43:00</td>\n",
       "      <td>5</td>\n",
       "      <td>2017-11-08 13:42:00</td>\n",
       "      <td>1289240080042562063</td>\n",
       "    </tr>\n",
       "  </tbody>\n",
       "</table>\n",
       "</div>"
      ],
      "text/plain": [
       "    Device               End Ts  Source Id             Start Ts  \\\n",
       "0    touch  2017-12-20 17:38:00          4  2017-12-20 17:20:00   \n",
       "1  desktop  2018-02-19 17:21:00          2  2018-02-19 16:53:00   \n",
       "2    touch  2017-07-01 01:54:00          5  2017-07-01 01:54:00   \n",
       "3  desktop  2018-05-20 11:23:00          9  2018-05-20 10:59:00   \n",
       "4  desktop  2017-12-27 14:06:00          3  2017-12-27 14:06:00   \n",
       "5  desktop  2017-09-03 21:36:00          5  2017-09-03 21:35:00   \n",
       "6  desktop  2018-01-30 12:09:00          1  2018-01-30 11:13:00   \n",
       "7    touch  2017-11-05 15:15:00          3  2017-11-05 15:14:00   \n",
       "8  desktop  2017-07-19 10:44:00          3  2017-07-19 10:41:00   \n",
       "9  desktop  2017-11-08 13:43:00          5  2017-11-08 13:42:00   \n",
       "\n",
       "                    Uid  \n",
       "0  16879256277535980062  \n",
       "1    104060357244891740  \n",
       "2   7459035603376831527  \n",
       "3  16174680259334210214  \n",
       "4   9969694820036681168  \n",
       "5  16007536194108375387  \n",
       "6   6661610529277171451  \n",
       "7  11423865690854540312  \n",
       "8   2987360259350925644  \n",
       "9   1289240080042562063  "
      ]
     },
     "execution_count": 2,
     "metadata": {},
     "output_type": "execute_result"
    }
   ],
   "source": [
    "# Считаем данные из датасета visits_log, проверим корректность выгрузки\n",
    "visits_log = pd.read_csv('/datasets/visits_log.csv')\n",
    "visits_log.head(10) "
   ]
  },
  {
   "cell_type": "code",
   "execution_count": 3,
   "metadata": {},
   "outputs": [
    {
     "name": "stdout",
     "output_type": "stream",
     "text": [
      "<class 'pandas.core.frame.DataFrame'>\n",
      "RangeIndex: 359400 entries, 0 to 359399\n",
      "Data columns (total 5 columns):\n",
      "Device       359400 non-null object\n",
      "End Ts       359400 non-null object\n",
      "Source Id    359400 non-null int64\n",
      "Start Ts     359400 non-null object\n",
      "Uid          359400 non-null uint64\n",
      "dtypes: int64(1), object(3), uint64(1)\n",
      "memory usage: 13.7+ MB\n"
     ]
    },
    {
     "data": {
      "text/html": [
       "<div>\n",
       "<style scoped>\n",
       "    .dataframe tbody tr th:only-of-type {\n",
       "        vertical-align: middle;\n",
       "    }\n",
       "\n",
       "    .dataframe tbody tr th {\n",
       "        vertical-align: top;\n",
       "    }\n",
       "\n",
       "    .dataframe thead th {\n",
       "        text-align: right;\n",
       "    }\n",
       "</style>\n",
       "<table border=\"1\" class=\"dataframe\">\n",
       "  <thead>\n",
       "    <tr style=\"text-align: right;\">\n",
       "      <th></th>\n",
       "      <th>Source Id</th>\n",
       "      <th>Uid</th>\n",
       "    </tr>\n",
       "  </thead>\n",
       "  <tbody>\n",
       "    <tr>\n",
       "      <td>count</td>\n",
       "      <td>359400.000000</td>\n",
       "      <td>3.594000e+05</td>\n",
       "    </tr>\n",
       "    <tr>\n",
       "      <td>mean</td>\n",
       "      <td>3.750515</td>\n",
       "      <td>9.202557e+18</td>\n",
       "    </tr>\n",
       "    <tr>\n",
       "      <td>std</td>\n",
       "      <td>1.917116</td>\n",
       "      <td>5.298433e+18</td>\n",
       "    </tr>\n",
       "    <tr>\n",
       "      <td>min</td>\n",
       "      <td>1.000000</td>\n",
       "      <td>1.186350e+13</td>\n",
       "    </tr>\n",
       "    <tr>\n",
       "      <td>25%</td>\n",
       "      <td>3.000000</td>\n",
       "      <td>4.613407e+18</td>\n",
       "    </tr>\n",
       "    <tr>\n",
       "      <td>50%</td>\n",
       "      <td>4.000000</td>\n",
       "      <td>9.227413e+18</td>\n",
       "    </tr>\n",
       "    <tr>\n",
       "      <td>75%</td>\n",
       "      <td>5.000000</td>\n",
       "      <td>1.372824e+19</td>\n",
       "    </tr>\n",
       "    <tr>\n",
       "      <td>max</td>\n",
       "      <td>10.000000</td>\n",
       "      <td>1.844668e+19</td>\n",
       "    </tr>\n",
       "  </tbody>\n",
       "</table>\n",
       "</div>"
      ],
      "text/plain": [
       "           Source Id           Uid\n",
       "count  359400.000000  3.594000e+05\n",
       "mean        3.750515  9.202557e+18\n",
       "std         1.917116  5.298433e+18\n",
       "min         1.000000  1.186350e+13\n",
       "25%         3.000000  4.613407e+18\n",
       "50%         4.000000  9.227413e+18\n",
       "75%         5.000000  1.372824e+19\n",
       "max        10.000000  1.844668e+19"
      ]
     },
     "execution_count": 3,
     "metadata": {},
     "output_type": "execute_result"
    }
   ],
   "source": [
    "# Расмотрим общую информацию о данных\n",
    "visits_log.info()\n",
    "visits_log.describe()"
   ]
  },
  {
   "cell_type": "code",
   "execution_count": 4,
   "metadata": {},
   "outputs": [
    {
     "data": {
      "text/plain": [
       "0"
      ]
     },
     "execution_count": 4,
     "metadata": {},
     "output_type": "execute_result"
    }
   ],
   "source": [
    "# Проверим таблицу на наличие дуликатов\n",
    "visits_log.duplicated().sum()"
   ]
  },
  {
   "cell_type": "markdown",
   "metadata": {},
   "source": [
    "В таблице visits_log 5 столбцов. В них содержится лог сервера с информацией о посещениях сайта:  \n",
    "* **Device** — категория устройства пользователя\n",
    "* **End Ts** — дата и время окончания сессии\n",
    "* **Source Id** — идентификатор рекламного источника, из которого пришел пользователь\n",
    "* **Start Ts** — дата и время начала сессии\n",
    "* **Uid** — уникальный идентификатор пользователя\n",
    "\n",
    "В данных нет пропусков и нет дубликатов. Столбцы **End Ts** и **Start Ts** необходимо привести к временному типу. Необходимо переименовать имена всех столбцов, приведя их к нижнему регистру и убрав пробелы."
   ]
  },
  {
   "cell_type": "code",
   "execution_count": 5,
   "metadata": {},
   "outputs": [
    {
     "data": {
      "text/html": [
       "<div>\n",
       "<style scoped>\n",
       "    .dataframe tbody tr th:only-of-type {\n",
       "        vertical-align: middle;\n",
       "    }\n",
       "\n",
       "    .dataframe tbody tr th {\n",
       "        vertical-align: top;\n",
       "    }\n",
       "\n",
       "    .dataframe thead th {\n",
       "        text-align: right;\n",
       "    }\n",
       "</style>\n",
       "<table border=\"1\" class=\"dataframe\">\n",
       "  <thead>\n",
       "    <tr style=\"text-align: right;\">\n",
       "      <th></th>\n",
       "      <th>Buy Ts</th>\n",
       "      <th>Revenue</th>\n",
       "      <th>Uid</th>\n",
       "    </tr>\n",
       "  </thead>\n",
       "  <tbody>\n",
       "    <tr>\n",
       "      <td>0</td>\n",
       "      <td>2017-06-01 00:10:00</td>\n",
       "      <td>17.00</td>\n",
       "      <td>10329302124590727494</td>\n",
       "    </tr>\n",
       "    <tr>\n",
       "      <td>1</td>\n",
       "      <td>2017-06-01 00:25:00</td>\n",
       "      <td>0.55</td>\n",
       "      <td>11627257723692907447</td>\n",
       "    </tr>\n",
       "    <tr>\n",
       "      <td>2</td>\n",
       "      <td>2017-06-01 00:27:00</td>\n",
       "      <td>0.37</td>\n",
       "      <td>17903680561304213844</td>\n",
       "    </tr>\n",
       "    <tr>\n",
       "      <td>3</td>\n",
       "      <td>2017-06-01 00:29:00</td>\n",
       "      <td>0.55</td>\n",
       "      <td>16109239769442553005</td>\n",
       "    </tr>\n",
       "    <tr>\n",
       "      <td>4</td>\n",
       "      <td>2017-06-01 07:58:00</td>\n",
       "      <td>0.37</td>\n",
       "      <td>14200605875248379450</td>\n",
       "    </tr>\n",
       "    <tr>\n",
       "      <td>5</td>\n",
       "      <td>2017-06-01 08:43:00</td>\n",
       "      <td>0.18</td>\n",
       "      <td>10402394430196413321</td>\n",
       "    </tr>\n",
       "    <tr>\n",
       "      <td>6</td>\n",
       "      <td>2017-06-01 08:54:00</td>\n",
       "      <td>1.83</td>\n",
       "      <td>12464626743129688638</td>\n",
       "    </tr>\n",
       "    <tr>\n",
       "      <td>7</td>\n",
       "      <td>2017-06-01 09:22:00</td>\n",
       "      <td>1.22</td>\n",
       "      <td>3644482766749211722</td>\n",
       "    </tr>\n",
       "    <tr>\n",
       "      <td>8</td>\n",
       "      <td>2017-06-01 09:22:00</td>\n",
       "      <td>3.30</td>\n",
       "      <td>17542070709969841479</td>\n",
       "    </tr>\n",
       "    <tr>\n",
       "      <td>9</td>\n",
       "      <td>2017-06-01 09:23:00</td>\n",
       "      <td>0.37</td>\n",
       "      <td>1074355127080856382</td>\n",
       "    </tr>\n",
       "  </tbody>\n",
       "</table>\n",
       "</div>"
      ],
      "text/plain": [
       "                Buy Ts  Revenue                   Uid\n",
       "0  2017-06-01 00:10:00    17.00  10329302124590727494\n",
       "1  2017-06-01 00:25:00     0.55  11627257723692907447\n",
       "2  2017-06-01 00:27:00     0.37  17903680561304213844\n",
       "3  2017-06-01 00:29:00     0.55  16109239769442553005\n",
       "4  2017-06-01 07:58:00     0.37  14200605875248379450\n",
       "5  2017-06-01 08:43:00     0.18  10402394430196413321\n",
       "6  2017-06-01 08:54:00     1.83  12464626743129688638\n",
       "7  2017-06-01 09:22:00     1.22   3644482766749211722\n",
       "8  2017-06-01 09:22:00     3.30  17542070709969841479\n",
       "9  2017-06-01 09:23:00     0.37   1074355127080856382"
      ]
     },
     "execution_count": 5,
     "metadata": {},
     "output_type": "execute_result"
    }
   ],
   "source": [
    "# Считаем данные из датасета orders_log, проверим корректность выгрузки\n",
    "orders_log = pd.read_csv('/datasets/orders_log.csv')\n",
    "orders_log.head(10) "
   ]
  },
  {
   "cell_type": "code",
   "execution_count": 6,
   "metadata": {
    "scrolled": false
   },
   "outputs": [
    {
     "name": "stdout",
     "output_type": "stream",
     "text": [
      "<class 'pandas.core.frame.DataFrame'>\n",
      "RangeIndex: 50415 entries, 0 to 50414\n",
      "Data columns (total 3 columns):\n",
      "Buy Ts     50415 non-null object\n",
      "Revenue    50415 non-null float64\n",
      "Uid        50415 non-null uint64\n",
      "dtypes: float64(1), object(1), uint64(1)\n",
      "memory usage: 1.2+ MB\n"
     ]
    },
    {
     "data": {
      "text/html": [
       "<div>\n",
       "<style scoped>\n",
       "    .dataframe tbody tr th:only-of-type {\n",
       "        vertical-align: middle;\n",
       "    }\n",
       "\n",
       "    .dataframe tbody tr th {\n",
       "        vertical-align: top;\n",
       "    }\n",
       "\n",
       "    .dataframe thead th {\n",
       "        text-align: right;\n",
       "    }\n",
       "</style>\n",
       "<table border=\"1\" class=\"dataframe\">\n",
       "  <thead>\n",
       "    <tr style=\"text-align: right;\">\n",
       "      <th></th>\n",
       "      <th>Revenue</th>\n",
       "      <th>Uid</th>\n",
       "    </tr>\n",
       "  </thead>\n",
       "  <tbody>\n",
       "    <tr>\n",
       "      <td>count</td>\n",
       "      <td>50415.000000</td>\n",
       "      <td>5.041500e+04</td>\n",
       "    </tr>\n",
       "    <tr>\n",
       "      <td>mean</td>\n",
       "      <td>4.999647</td>\n",
       "      <td>9.098161e+18</td>\n",
       "    </tr>\n",
       "    <tr>\n",
       "      <td>std</td>\n",
       "      <td>21.818359</td>\n",
       "      <td>5.285742e+18</td>\n",
       "    </tr>\n",
       "    <tr>\n",
       "      <td>min</td>\n",
       "      <td>0.000000</td>\n",
       "      <td>3.135781e+14</td>\n",
       "    </tr>\n",
       "    <tr>\n",
       "      <td>25%</td>\n",
       "      <td>1.220000</td>\n",
       "      <td>4.533567e+18</td>\n",
       "    </tr>\n",
       "    <tr>\n",
       "      <td>50%</td>\n",
       "      <td>2.500000</td>\n",
       "      <td>9.102274e+18</td>\n",
       "    </tr>\n",
       "    <tr>\n",
       "      <td>75%</td>\n",
       "      <td>4.890000</td>\n",
       "      <td>1.368290e+19</td>\n",
       "    </tr>\n",
       "    <tr>\n",
       "      <td>max</td>\n",
       "      <td>2633.280000</td>\n",
       "      <td>1.844617e+19</td>\n",
       "    </tr>\n",
       "  </tbody>\n",
       "</table>\n",
       "</div>"
      ],
      "text/plain": [
       "            Revenue           Uid\n",
       "count  50415.000000  5.041500e+04\n",
       "mean       4.999647  9.098161e+18\n",
       "std       21.818359  5.285742e+18\n",
       "min        0.000000  3.135781e+14\n",
       "25%        1.220000  4.533567e+18\n",
       "50%        2.500000  9.102274e+18\n",
       "75%        4.890000  1.368290e+19\n",
       "max     2633.280000  1.844617e+19"
      ]
     },
     "execution_count": 6,
     "metadata": {},
     "output_type": "execute_result"
    }
   ],
   "source": [
    "# Расмотрим общую информацию о данных\n",
    "orders_log.info()\n",
    "orders_log.describe()"
   ]
  },
  {
   "cell_type": "code",
   "execution_count": 7,
   "metadata": {},
   "outputs": [
    {
     "data": {
      "text/plain": [
       "0"
      ]
     },
     "execution_count": 7,
     "metadata": {},
     "output_type": "execute_result"
    }
   ],
   "source": [
    "# Проверим таблицу на наличие дуликатов\n",
    "orders_log.duplicated().sum()"
   ]
  },
  {
   "cell_type": "markdown",
   "metadata": {},
   "source": [
    "В таблице orders 3 столбцов. В них содержится лог сервера с информацией о посещениях сайта:  \n",
    "* **Buy Ts** — дата и время заказа\n",
    "* **Revenue** — выручка Яндекс.Афиши с этого заказа\n",
    "* **Uid** — уникальный id пользователя, который сделал заказ\n",
    "\n",
    "В данных нет пропусков и дубликатов. Столбец **Buy Ts** необходимо привести к временному типу. Необходимо переименовать имена всех столбцов, приведя их к нижнему регистру и убрав пробелы."
   ]
  },
  {
   "cell_type": "code",
   "execution_count": 8,
   "metadata": {},
   "outputs": [
    {
     "data": {
      "text/html": [
       "<div>\n",
       "<style scoped>\n",
       "    .dataframe tbody tr th:only-of-type {\n",
       "        vertical-align: middle;\n",
       "    }\n",
       "\n",
       "    .dataframe tbody tr th {\n",
       "        vertical-align: top;\n",
       "    }\n",
       "\n",
       "    .dataframe thead th {\n",
       "        text-align: right;\n",
       "    }\n",
       "</style>\n",
       "<table border=\"1\" class=\"dataframe\">\n",
       "  <thead>\n",
       "    <tr style=\"text-align: right;\">\n",
       "      <th></th>\n",
       "      <th>source_id</th>\n",
       "      <th>dt</th>\n",
       "      <th>costs</th>\n",
       "    </tr>\n",
       "  </thead>\n",
       "  <tbody>\n",
       "    <tr>\n",
       "      <td>0</td>\n",
       "      <td>1</td>\n",
       "      <td>2017-06-01</td>\n",
       "      <td>75.20</td>\n",
       "    </tr>\n",
       "    <tr>\n",
       "      <td>1</td>\n",
       "      <td>1</td>\n",
       "      <td>2017-06-02</td>\n",
       "      <td>62.25</td>\n",
       "    </tr>\n",
       "    <tr>\n",
       "      <td>2</td>\n",
       "      <td>1</td>\n",
       "      <td>2017-06-03</td>\n",
       "      <td>36.53</td>\n",
       "    </tr>\n",
       "    <tr>\n",
       "      <td>3</td>\n",
       "      <td>1</td>\n",
       "      <td>2017-06-04</td>\n",
       "      <td>55.00</td>\n",
       "    </tr>\n",
       "    <tr>\n",
       "      <td>4</td>\n",
       "      <td>1</td>\n",
       "      <td>2017-06-05</td>\n",
       "      <td>57.08</td>\n",
       "    </tr>\n",
       "    <tr>\n",
       "      <td>5</td>\n",
       "      <td>1</td>\n",
       "      <td>2017-06-06</td>\n",
       "      <td>40.39</td>\n",
       "    </tr>\n",
       "    <tr>\n",
       "      <td>6</td>\n",
       "      <td>1</td>\n",
       "      <td>2017-06-07</td>\n",
       "      <td>40.59</td>\n",
       "    </tr>\n",
       "    <tr>\n",
       "      <td>7</td>\n",
       "      <td>1</td>\n",
       "      <td>2017-06-08</td>\n",
       "      <td>56.63</td>\n",
       "    </tr>\n",
       "    <tr>\n",
       "      <td>8</td>\n",
       "      <td>1</td>\n",
       "      <td>2017-06-09</td>\n",
       "      <td>40.16</td>\n",
       "    </tr>\n",
       "    <tr>\n",
       "      <td>9</td>\n",
       "      <td>1</td>\n",
       "      <td>2017-06-10</td>\n",
       "      <td>43.24</td>\n",
       "    </tr>\n",
       "  </tbody>\n",
       "</table>\n",
       "</div>"
      ],
      "text/plain": [
       "   source_id          dt  costs\n",
       "0          1  2017-06-01  75.20\n",
       "1          1  2017-06-02  62.25\n",
       "2          1  2017-06-03  36.53\n",
       "3          1  2017-06-04  55.00\n",
       "4          1  2017-06-05  57.08\n",
       "5          1  2017-06-06  40.39\n",
       "6          1  2017-06-07  40.59\n",
       "7          1  2017-06-08  56.63\n",
       "8          1  2017-06-09  40.16\n",
       "9          1  2017-06-10  43.24"
      ]
     },
     "execution_count": 8,
     "metadata": {},
     "output_type": "execute_result"
    }
   ],
   "source": [
    "# Считаем данные из датасета costs, проверим корректность выгрузки\n",
    "costs = pd.read_csv('/datasets/costs.csv')\n",
    "costs.head(10) "
   ]
  },
  {
   "cell_type": "code",
   "execution_count": 9,
   "metadata": {
    "scrolled": false
   },
   "outputs": [
    {
     "name": "stdout",
     "output_type": "stream",
     "text": [
      "<class 'pandas.core.frame.DataFrame'>\n",
      "RangeIndex: 2542 entries, 0 to 2541\n",
      "Data columns (total 3 columns):\n",
      "source_id    2542 non-null int64\n",
      "dt           2542 non-null object\n",
      "costs        2542 non-null float64\n",
      "dtypes: float64(1), int64(1), object(1)\n",
      "memory usage: 59.7+ KB\n"
     ]
    },
    {
     "data": {
      "text/html": [
       "<div>\n",
       "<style scoped>\n",
       "    .dataframe tbody tr th:only-of-type {\n",
       "        vertical-align: middle;\n",
       "    }\n",
       "\n",
       "    .dataframe tbody tr th {\n",
       "        vertical-align: top;\n",
       "    }\n",
       "\n",
       "    .dataframe thead th {\n",
       "        text-align: right;\n",
       "    }\n",
       "</style>\n",
       "<table border=\"1\" class=\"dataframe\">\n",
       "  <thead>\n",
       "    <tr style=\"text-align: right;\">\n",
       "      <th></th>\n",
       "      <th>source_id</th>\n",
       "      <th>costs</th>\n",
       "    </tr>\n",
       "  </thead>\n",
       "  <tbody>\n",
       "    <tr>\n",
       "      <td>count</td>\n",
       "      <td>2542.000000</td>\n",
       "      <td>2542.000000</td>\n",
       "    </tr>\n",
       "    <tr>\n",
       "      <td>mean</td>\n",
       "      <td>4.857199</td>\n",
       "      <td>129.477427</td>\n",
       "    </tr>\n",
       "    <tr>\n",
       "      <td>std</td>\n",
       "      <td>3.181581</td>\n",
       "      <td>156.296628</td>\n",
       "    </tr>\n",
       "    <tr>\n",
       "      <td>min</td>\n",
       "      <td>1.000000</td>\n",
       "      <td>0.540000</td>\n",
       "    </tr>\n",
       "    <tr>\n",
       "      <td>25%</td>\n",
       "      <td>2.000000</td>\n",
       "      <td>21.945000</td>\n",
       "    </tr>\n",
       "    <tr>\n",
       "      <td>50%</td>\n",
       "      <td>4.000000</td>\n",
       "      <td>77.295000</td>\n",
       "    </tr>\n",
       "    <tr>\n",
       "      <td>75%</td>\n",
       "      <td>9.000000</td>\n",
       "      <td>170.065000</td>\n",
       "    </tr>\n",
       "    <tr>\n",
       "      <td>max</td>\n",
       "      <td>10.000000</td>\n",
       "      <td>1788.280000</td>\n",
       "    </tr>\n",
       "  </tbody>\n",
       "</table>\n",
       "</div>"
      ],
      "text/plain": [
       "         source_id        costs\n",
       "count  2542.000000  2542.000000\n",
       "mean      4.857199   129.477427\n",
       "std       3.181581   156.296628\n",
       "min       1.000000     0.540000\n",
       "25%       2.000000    21.945000\n",
       "50%       4.000000    77.295000\n",
       "75%       9.000000   170.065000\n",
       "max      10.000000  1788.280000"
      ]
     },
     "execution_count": 9,
     "metadata": {},
     "output_type": "execute_result"
    }
   ],
   "source": [
    "# Расмотрим общую информацию о данных\n",
    "costs.info()\n",
    "costs.describe()"
   ]
  },
  {
   "cell_type": "code",
   "execution_count": 10,
   "metadata": {},
   "outputs": [
    {
     "data": {
      "text/plain": [
       "0"
      ]
     },
     "execution_count": 10,
     "metadata": {},
     "output_type": "execute_result"
    }
   ],
   "source": [
    "# Проверим таблицу на наличие дуликатов\n",
    "costs.duplicated().sum()"
   ]
  },
  {
   "cell_type": "markdown",
   "metadata": {},
   "source": [
    "В таблице orders 3 столбцов. В них содержится лог сервера с информацией о посещениях сайта:  \n",
    "* **source_id** — идентификатор рекламного источника\n",
    "* **dt** — дата\n",
    "* **costs** — затраты на этот рекламный источник в этот день\n",
    "\n",
    "В данных нет пропусков и дубликатов. Столбец **dt** необходимо привести к временному типу."
   ]
  },
  {
   "cell_type": "markdown",
   "metadata": {},
   "source": [
    "## Предобработка данных"
   ]
  },
  {
   "cell_type": "code",
   "execution_count": 11,
   "metadata": {},
   "outputs": [
    {
     "data": {
      "text/html": [
       "<div>\n",
       "<style scoped>\n",
       "    .dataframe tbody tr th:only-of-type {\n",
       "        vertical-align: middle;\n",
       "    }\n",
       "\n",
       "    .dataframe tbody tr th {\n",
       "        vertical-align: top;\n",
       "    }\n",
       "\n",
       "    .dataframe thead th {\n",
       "        text-align: right;\n",
       "    }\n",
       "</style>\n",
       "<table border=\"1\" class=\"dataframe\">\n",
       "  <thead>\n",
       "    <tr style=\"text-align: right;\">\n",
       "      <th></th>\n",
       "      <th>device</th>\n",
       "      <th>end_ts</th>\n",
       "      <th>source_id</th>\n",
       "      <th>start_ts</th>\n",
       "      <th>uid</th>\n",
       "    </tr>\n",
       "  </thead>\n",
       "  <tbody>\n",
       "    <tr>\n",
       "      <td>0</td>\n",
       "      <td>touch</td>\n",
       "      <td>2017-12-20 17:38:00</td>\n",
       "      <td>4</td>\n",
       "      <td>2017-12-20 17:20:00</td>\n",
       "      <td>16879256277535980062</td>\n",
       "    </tr>\n",
       "    <tr>\n",
       "      <td>1</td>\n",
       "      <td>desktop</td>\n",
       "      <td>2018-02-19 17:21:00</td>\n",
       "      <td>2</td>\n",
       "      <td>2018-02-19 16:53:00</td>\n",
       "      <td>104060357244891740</td>\n",
       "    </tr>\n",
       "    <tr>\n",
       "      <td>2</td>\n",
       "      <td>touch</td>\n",
       "      <td>2017-07-01 01:54:00</td>\n",
       "      <td>5</td>\n",
       "      <td>2017-07-01 01:54:00</td>\n",
       "      <td>7459035603376831527</td>\n",
       "    </tr>\n",
       "    <tr>\n",
       "      <td>3</td>\n",
       "      <td>desktop</td>\n",
       "      <td>2018-05-20 11:23:00</td>\n",
       "      <td>9</td>\n",
       "      <td>2018-05-20 10:59:00</td>\n",
       "      <td>16174680259334210214</td>\n",
       "    </tr>\n",
       "    <tr>\n",
       "      <td>4</td>\n",
       "      <td>desktop</td>\n",
       "      <td>2017-12-27 14:06:00</td>\n",
       "      <td>3</td>\n",
       "      <td>2017-12-27 14:06:00</td>\n",
       "      <td>9969694820036681168</td>\n",
       "    </tr>\n",
       "  </tbody>\n",
       "</table>\n",
       "</div>"
      ],
      "text/plain": [
       "    device               end_ts  source_id             start_ts  \\\n",
       "0    touch  2017-12-20 17:38:00          4  2017-12-20 17:20:00   \n",
       "1  desktop  2018-02-19 17:21:00          2  2018-02-19 16:53:00   \n",
       "2    touch  2017-07-01 01:54:00          5  2017-07-01 01:54:00   \n",
       "3  desktop  2018-05-20 11:23:00          9  2018-05-20 10:59:00   \n",
       "4  desktop  2017-12-27 14:06:00          3  2017-12-27 14:06:00   \n",
       "\n",
       "                    uid  \n",
       "0  16879256277535980062  \n",
       "1    104060357244891740  \n",
       "2   7459035603376831527  \n",
       "3  16174680259334210214  \n",
       "4   9969694820036681168  "
      ]
     },
     "execution_count": 11,
     "metadata": {},
     "output_type": "execute_result"
    }
   ],
   "source": [
    "# Переведм именна столбцов в нижний регистр и уберем пробелы\n",
    "visits_log.columns = visits_log.columns.str.lower()\n",
    "visits_log.columns = visits_log.columns.str.replace(' ', '_')\n",
    "visits_log.head()"
   ]
  },
  {
   "cell_type": "code",
   "execution_count": 12,
   "metadata": {},
   "outputs": [
    {
     "data": {
      "text/html": [
       "<div>\n",
       "<style scoped>\n",
       "    .dataframe tbody tr th:only-of-type {\n",
       "        vertical-align: middle;\n",
       "    }\n",
       "\n",
       "    .dataframe tbody tr th {\n",
       "        vertical-align: top;\n",
       "    }\n",
       "\n",
       "    .dataframe thead th {\n",
       "        text-align: right;\n",
       "    }\n",
       "</style>\n",
       "<table border=\"1\" class=\"dataframe\">\n",
       "  <thead>\n",
       "    <tr style=\"text-align: right;\">\n",
       "      <th></th>\n",
       "      <th>uid</th>\n",
       "      <th>start_ts</th>\n",
       "      <th>end_ts</th>\n",
       "      <th>device</th>\n",
       "      <th>source_id</th>\n",
       "    </tr>\n",
       "  </thead>\n",
       "  <tbody>\n",
       "    <tr>\n",
       "      <td>0</td>\n",
       "      <td>16879256277535980062</td>\n",
       "      <td>2017-12-20 17:20:00</td>\n",
       "      <td>2017-12-20 17:38:00</td>\n",
       "      <td>touch</td>\n",
       "      <td>4</td>\n",
       "    </tr>\n",
       "    <tr>\n",
       "      <td>1</td>\n",
       "      <td>104060357244891740</td>\n",
       "      <td>2018-02-19 16:53:00</td>\n",
       "      <td>2018-02-19 17:21:00</td>\n",
       "      <td>desktop</td>\n",
       "      <td>2</td>\n",
       "    </tr>\n",
       "    <tr>\n",
       "      <td>2</td>\n",
       "      <td>7459035603376831527</td>\n",
       "      <td>2017-07-01 01:54:00</td>\n",
       "      <td>2017-07-01 01:54:00</td>\n",
       "      <td>touch</td>\n",
       "      <td>5</td>\n",
       "    </tr>\n",
       "    <tr>\n",
       "      <td>3</td>\n",
       "      <td>16174680259334210214</td>\n",
       "      <td>2018-05-20 10:59:00</td>\n",
       "      <td>2018-05-20 11:23:00</td>\n",
       "      <td>desktop</td>\n",
       "      <td>9</td>\n",
       "    </tr>\n",
       "    <tr>\n",
       "      <td>4</td>\n",
       "      <td>9969694820036681168</td>\n",
       "      <td>2017-12-27 14:06:00</td>\n",
       "      <td>2017-12-27 14:06:00</td>\n",
       "      <td>desktop</td>\n",
       "      <td>3</td>\n",
       "    </tr>\n",
       "  </tbody>\n",
       "</table>\n",
       "</div>"
      ],
      "text/plain": [
       "                    uid             start_ts               end_ts   device  \\\n",
       "0  16879256277535980062  2017-12-20 17:20:00  2017-12-20 17:38:00    touch   \n",
       "1    104060357244891740  2018-02-19 16:53:00  2018-02-19 17:21:00  desktop   \n",
       "2   7459035603376831527  2017-07-01 01:54:00  2017-07-01 01:54:00    touch   \n",
       "3  16174680259334210214  2018-05-20 10:59:00  2018-05-20 11:23:00  desktop   \n",
       "4   9969694820036681168  2017-12-27 14:06:00  2017-12-27 14:06:00  desktop   \n",
       "\n",
       "   source_id  \n",
       "0          4  \n",
       "1          2  \n",
       "2          5  \n",
       "3          9  \n",
       "4          3  "
      ]
     },
     "execution_count": 12,
     "metadata": {},
     "output_type": "execute_result"
    }
   ],
   "source": [
    "# Поменяем порядок столбцов для удобства\n",
    "visits_log = visits_log[['uid', 'start_ts', 'end_ts',  'device', 'source_id']] \n",
    "visits_log.head()"
   ]
  },
  {
   "cell_type": "code",
   "execution_count": 13,
   "metadata": {},
   "outputs": [
    {
     "name": "stdout",
     "output_type": "stream",
     "text": [
      "<class 'pandas.core.frame.DataFrame'>\n",
      "RangeIndex: 359400 entries, 0 to 359399\n",
      "Data columns (total 5 columns):\n",
      "uid          359400 non-null uint64\n",
      "start_ts     359400 non-null datetime64[ns]\n",
      "end_ts       359400 non-null datetime64[ns]\n",
      "device       359400 non-null object\n",
      "source_id    359400 non-null int64\n",
      "dtypes: datetime64[ns](2), int64(1), object(1), uint64(1)\n",
      "memory usage: 13.7+ MB\n"
     ]
    }
   ],
   "source": [
    "# Приведем столбцы к временному типу\n",
    "visits_log['end_ts'] = pd.to_datetime(visits_log['end_ts'], format='%Y-%m-%d %H:%M:%S')\n",
    "visits_log['start_ts'] = pd.to_datetime(visits_log['start_ts'], format='%Y-%m-%d %H:%M:%S')\n",
    "visits_log.info()"
   ]
  },
  {
   "cell_type": "code",
   "execution_count": 14,
   "metadata": {},
   "outputs": [
    {
     "data": {
      "text/html": [
       "<div>\n",
       "<style scoped>\n",
       "    .dataframe tbody tr th:only-of-type {\n",
       "        vertical-align: middle;\n",
       "    }\n",
       "\n",
       "    .dataframe tbody tr th {\n",
       "        vertical-align: top;\n",
       "    }\n",
       "\n",
       "    .dataframe thead th {\n",
       "        text-align: right;\n",
       "    }\n",
       "</style>\n",
       "<table border=\"1\" class=\"dataframe\">\n",
       "  <thead>\n",
       "    <tr style=\"text-align: right;\">\n",
       "      <th></th>\n",
       "      <th>buy_ts</th>\n",
       "      <th>revenue</th>\n",
       "      <th>uid</th>\n",
       "    </tr>\n",
       "  </thead>\n",
       "  <tbody>\n",
       "    <tr>\n",
       "      <td>0</td>\n",
       "      <td>2017-06-01 00:10:00</td>\n",
       "      <td>17.00</td>\n",
       "      <td>10329302124590727494</td>\n",
       "    </tr>\n",
       "    <tr>\n",
       "      <td>1</td>\n",
       "      <td>2017-06-01 00:25:00</td>\n",
       "      <td>0.55</td>\n",
       "      <td>11627257723692907447</td>\n",
       "    </tr>\n",
       "    <tr>\n",
       "      <td>2</td>\n",
       "      <td>2017-06-01 00:27:00</td>\n",
       "      <td>0.37</td>\n",
       "      <td>17903680561304213844</td>\n",
       "    </tr>\n",
       "    <tr>\n",
       "      <td>3</td>\n",
       "      <td>2017-06-01 00:29:00</td>\n",
       "      <td>0.55</td>\n",
       "      <td>16109239769442553005</td>\n",
       "    </tr>\n",
       "    <tr>\n",
       "      <td>4</td>\n",
       "      <td>2017-06-01 07:58:00</td>\n",
       "      <td>0.37</td>\n",
       "      <td>14200605875248379450</td>\n",
       "    </tr>\n",
       "  </tbody>\n",
       "</table>\n",
       "</div>"
      ],
      "text/plain": [
       "                buy_ts  revenue                   uid\n",
       "0  2017-06-01 00:10:00    17.00  10329302124590727494\n",
       "1  2017-06-01 00:25:00     0.55  11627257723692907447\n",
       "2  2017-06-01 00:27:00     0.37  17903680561304213844\n",
       "3  2017-06-01 00:29:00     0.55  16109239769442553005\n",
       "4  2017-06-01 07:58:00     0.37  14200605875248379450"
      ]
     },
     "execution_count": 14,
     "metadata": {},
     "output_type": "execute_result"
    }
   ],
   "source": [
    "# Переведм именна столбцов в нижний регистр и уберем пробелы\n",
    "orders_log.columns = orders_log.columns.str.lower()\n",
    "orders_log.columns = orders_log.columns.str.replace(' ', '_')\n",
    "orders_log.head()"
   ]
  },
  {
   "cell_type": "code",
   "execution_count": 15,
   "metadata": {},
   "outputs": [
    {
     "name": "stdout",
     "output_type": "stream",
     "text": [
      "<class 'pandas.core.frame.DataFrame'>\n",
      "RangeIndex: 50415 entries, 0 to 50414\n",
      "Data columns (total 3 columns):\n",
      "buy_ts     50415 non-null datetime64[ns]\n",
      "revenue    50415 non-null float64\n",
      "uid        50415 non-null uint64\n",
      "dtypes: datetime64[ns](1), float64(1), uint64(1)\n",
      "memory usage: 1.2 MB\n"
     ]
    }
   ],
   "source": [
    "# Приведем столбцы к временному типу\n",
    "orders_log['buy_ts'] = pd.to_datetime(orders_log['buy_ts'], format='%Y-%m-%d %H:%M:%S')\n",
    "orders_log.info()"
   ]
  },
  {
   "cell_type": "code",
   "execution_count": 16,
   "metadata": {},
   "outputs": [
    {
     "name": "stdout",
     "output_type": "stream",
     "text": [
      "<class 'pandas.core.frame.DataFrame'>\n",
      "RangeIndex: 2542 entries, 0 to 2541\n",
      "Data columns (total 3 columns):\n",
      "source_id    2542 non-null int64\n",
      "dt           2542 non-null datetime64[ns]\n",
      "costs        2542 non-null float64\n",
      "dtypes: datetime64[ns](1), float64(1), int64(1)\n",
      "memory usage: 59.7 KB\n"
     ]
    }
   ],
   "source": [
    "# Приведем столбец к временному типу\n",
    "costs['dt'] = pd.to_datetime(costs['dt'], format='%Y-%m-%d %H:%M:%S')\n",
    "costs.info()"
   ]
  },
  {
   "cell_type": "code",
   "execution_count": 17,
   "metadata": {},
   "outputs": [
    {
     "data": {
      "text/plain": [
       "uid          35794\n",
       "start_ts     35794\n",
       "end_ts       35794\n",
       "device       35794\n",
       "source_id    35794\n",
       "dtype: int64"
      ]
     },
     "execution_count": 17,
     "metadata": {},
     "output_type": "execute_result"
    }
   ],
   "source": [
    "# Проверим, сколько сессий с нулевой длительностью\n",
    "visits_log.query('start_ts == end_ts').count()"
   ]
  },
  {
   "cell_type": "markdown",
   "metadata": {},
   "source": [
    "Сессий весьма много. Это может быть вызвано как быстро перванным сеансом на стороне пользователя, так и ошибкой при выгрузке из базы данных. В любом случае от этих строк можно избавиться."
   ]
  },
  {
   "cell_type": "code",
   "execution_count": 18,
   "metadata": {},
   "outputs": [
    {
     "data": {
      "text/plain": [
       "uid          0\n",
       "start_ts     0\n",
       "end_ts       0\n",
       "device       0\n",
       "source_id    0\n",
       "dtype: int64"
      ]
     },
     "execution_count": 18,
     "metadata": {},
     "output_type": "execute_result"
    }
   ],
   "source": [
    "# Удалим строки и проверим результат\n",
    "visits_log = visits_log.drop(visits_log.query('start_ts == end_ts').index)\n",
    "visits_log.query('start_ts == end_ts').count()"
   ]
  },
  {
   "cell_type": "code",
   "execution_count": 19,
   "metadata": {},
   "outputs": [
    {
     "data": {
      "text/plain": [
       "desktop    238878\n",
       "touch       84728\n",
       "Name: device, dtype: int64"
      ]
     },
     "execution_count": 19,
     "metadata": {},
     "output_type": "execute_result"
    }
   ],
   "source": [
    "# Проверим какими девайсами пользуются пользователи\n",
    "visits_log['device'].value_counts()"
   ]
  },
  {
   "cell_type": "markdown",
   "metadata": {},
   "source": [
    "Всего два типа устройств. Десктопные девайсы в три раза превышают мобильные по количеству."
   ]
  },
  {
   "cell_type": "code",
   "execution_count": 20,
   "metadata": {},
   "outputs": [
    {
     "data": {
      "text/plain": [
       "4     90896\n",
       "3     76585\n",
       "5     59520\n",
       "2     43468\n",
       "1     32146\n",
       "9     11980\n",
       "10     8971\n",
       "7        35\n",
       "6         5\n",
       "Name: source_id, dtype: int64"
      ]
     },
     "execution_count": 20,
     "metadata": {},
     "output_type": "execute_result"
    }
   ],
   "source": [
    "# Проверим с каких рекламных источников пришли клиенты\n",
    "visits_log['source_id'].value_counts()"
   ]
  },
  {
   "cell_type": "code",
   "execution_count": 21,
   "metadata": {},
   "outputs": [
    {
     "data": {
      "text/plain": [
       "5     364\n",
       "9     363\n",
       "3     363\n",
       "1     363\n",
       "10    363\n",
       "4     363\n",
       "2     363\n",
       "Name: source_id, dtype: int64"
      ]
     },
     "execution_count": 21,
     "metadata": {},
     "output_type": "execute_result"
    }
   ],
   "source": [
    "# Проверим какие рекламные источники есть в затратах\n",
    "costs['source_id'].value_counts()"
   ]
  },
  {
   "cell_type": "markdown",
   "metadata": {},
   "source": [
    "Видим, что в *visits_log* есть два источника (6 и 7), которых нет в *costs*. Не зная расшифровки источников трудно судить, баг это или нет. В любом случае этот нюанс нужно будет учесть при подсчете экономических показателей."
   ]
  },
  {
   "cell_type": "markdown",
   "metadata": {},
   "source": [
    "### Промежуточный вывод  \n",
    "Мы привели данные к нужным типам, избавились от лишних данных, и выделили ряд ключевых моментов, которые нужно будет учесть при дальнейшем анализе."
   ]
  },
  {
   "cell_type": "markdown",
   "metadata": {},
   "source": [
    " ---\n",
    "\n",
    "<div class=\"alert alert-block alert-warning\">\n",
    "    \n",
    "\n",
    "### Комментарий от ревьюера\n",
    "\n",
    "Хороший блок, ты глубоко смотришь данные и первые выводы уже готовы. Стоит делать краткое резюме (выводы) в конце раздела, чтобы зафиксировать проделанные преобразования.\n",
    "</div>\n",
    "\n",
    "---\n"
   ]
  },
  {
   "cell_type": "markdown",
   "metadata": {},
   "source": [
    "<div class=\"alert alert-block alert-info\">\n",
    "\n",
    "### Комментарий от студента  \n",
    "    \n",
    "Исправил \n",
    "</div>"
   ]
  },
  {
   "cell_type": "markdown",
   "metadata": {},
   "source": [
    "---\n",
    "\n",
    "<div class=\"alert alert-block alert-success\">\n",
    "    \n",
    "\n",
    "### Комментарий от ревьюера V2\n",
    "\n",
    "Супер\n",
    "\n",
    "</div>\n",
    "\n",
    "---\n"
   ]
  },
  {
   "cell_type": "markdown",
   "metadata": {},
   "source": [
    "## Исследовательский анализ данных"
   ]
  },
  {
   "cell_type": "markdown",
   "metadata": {},
   "source": [
    "### Анализ продукта  "
   ]
  },
  {
   "cell_type": "markdown",
   "metadata": {},
   "source": [
    "Узнаем, сколько людей пользуются сервисом в день, неделю, месяц. Для этого посчитаем три показателя:  \n",
    "* **DAU** — количество уникальных пользователей в день;  \n",
    "* **WAU** — количество уникальных пользователей в неделю;  \n",
    "* **MAU** — количество уникальных пользователей в месяц.  "
   ]
  },
  {
   "cell_type": "code",
   "execution_count": 22,
   "metadata": {},
   "outputs": [
    {
     "data": {
      "text/html": [
       "<div>\n",
       "<style scoped>\n",
       "    .dataframe tbody tr th:only-of-type {\n",
       "        vertical-align: middle;\n",
       "    }\n",
       "\n",
       "    .dataframe tbody tr th {\n",
       "        vertical-align: top;\n",
       "    }\n",
       "\n",
       "    .dataframe thead th {\n",
       "        text-align: right;\n",
       "    }\n",
       "</style>\n",
       "<table border=\"1\" class=\"dataframe\">\n",
       "  <thead>\n",
       "    <tr style=\"text-align: right;\">\n",
       "      <th></th>\n",
       "      <th>uid</th>\n",
       "      <th>start_ts</th>\n",
       "      <th>end_ts</th>\n",
       "      <th>device</th>\n",
       "      <th>source_id</th>\n",
       "      <th>first_visit_datetime</th>\n",
       "    </tr>\n",
       "  </thead>\n",
       "  <tbody>\n",
       "    <tr>\n",
       "      <td>0</td>\n",
       "      <td>16879256277535980062</td>\n",
       "      <td>2017-12-20 17:20:00</td>\n",
       "      <td>2017-12-20 17:38:00</td>\n",
       "      <td>touch</td>\n",
       "      <td>4</td>\n",
       "      <td>2017-12-20 17:20:00</td>\n",
       "    </tr>\n",
       "    <tr>\n",
       "      <td>1</td>\n",
       "      <td>104060357244891740</td>\n",
       "      <td>2018-02-19 16:53:00</td>\n",
       "      <td>2018-02-19 17:21:00</td>\n",
       "      <td>desktop</td>\n",
       "      <td>2</td>\n",
       "      <td>2018-02-19 16:53:00</td>\n",
       "    </tr>\n",
       "    <tr>\n",
       "      <td>3</td>\n",
       "      <td>16174680259334210214</td>\n",
       "      <td>2018-05-20 10:59:00</td>\n",
       "      <td>2018-05-20 11:23:00</td>\n",
       "      <td>desktop</td>\n",
       "      <td>9</td>\n",
       "      <td>2018-03-09 20:05:00</td>\n",
       "    </tr>\n",
       "    <tr>\n",
       "      <td>5</td>\n",
       "      <td>16007536194108375387</td>\n",
       "      <td>2017-09-03 21:35:00</td>\n",
       "      <td>2017-09-03 21:36:00</td>\n",
       "      <td>desktop</td>\n",
       "      <td>5</td>\n",
       "      <td>2017-09-03 21:35:00</td>\n",
       "    </tr>\n",
       "    <tr>\n",
       "      <td>6</td>\n",
       "      <td>6661610529277171451</td>\n",
       "      <td>2018-01-30 11:13:00</td>\n",
       "      <td>2018-01-30 12:09:00</td>\n",
       "      <td>desktop</td>\n",
       "      <td>1</td>\n",
       "      <td>2017-06-29 09:00:00</td>\n",
       "    </tr>\n",
       "  </tbody>\n",
       "</table>\n",
       "</div>"
      ],
      "text/plain": [
       "                    uid            start_ts              end_ts   device  \\\n",
       "0  16879256277535980062 2017-12-20 17:20:00 2017-12-20 17:38:00    touch   \n",
       "1    104060357244891740 2018-02-19 16:53:00 2018-02-19 17:21:00  desktop   \n",
       "3  16174680259334210214 2018-05-20 10:59:00 2018-05-20 11:23:00  desktop   \n",
       "5  16007536194108375387 2017-09-03 21:35:00 2017-09-03 21:36:00  desktop   \n",
       "6   6661610529277171451 2018-01-30 11:13:00 2018-01-30 12:09:00  desktop   \n",
       "\n",
       "   source_id first_visit_datetime  \n",
       "0          4  2017-12-20 17:20:00  \n",
       "1          2  2018-02-19 16:53:00  \n",
       "3          9  2018-03-09 20:05:00  \n",
       "5          5  2017-09-03 21:35:00  \n",
       "6          1  2017-06-29 09:00:00  "
      ]
     },
     "execution_count": 22,
     "metadata": {},
     "output_type": "execute_result"
    }
   ],
   "source": [
    "# Для каждого пользователя добавим время первого визита\n",
    "visits_log = (visits_log\n",
    "              .join(\n",
    "                  visits_log\n",
    "                  .groupby('uid')\n",
    "                  .agg(first_visit_datetime=('start_ts','min')),\n",
    "                  on='uid'))\n",
    "visits_log.head()"
   ]
  },
  {
   "cell_type": "code",
   "execution_count": 23,
   "metadata": {},
   "outputs": [
    {
     "data": {
      "text/html": [
       "<div>\n",
       "<style scoped>\n",
       "    .dataframe tbody tr th:only-of-type {\n",
       "        vertical-align: middle;\n",
       "    }\n",
       "\n",
       "    .dataframe tbody tr th {\n",
       "        vertical-align: top;\n",
       "    }\n",
       "\n",
       "    .dataframe thead th {\n",
       "        text-align: right;\n",
       "    }\n",
       "</style>\n",
       "<table border=\"1\" class=\"dataframe\">\n",
       "  <thead>\n",
       "    <tr style=\"text-align: right;\">\n",
       "      <th></th>\n",
       "      <th>uid</th>\n",
       "      <th>start_ts</th>\n",
       "      <th>end_ts</th>\n",
       "      <th>device</th>\n",
       "      <th>source_id</th>\n",
       "      <th>first_visit_datetime</th>\n",
       "      <th>session_year</th>\n",
       "      <th>session_month</th>\n",
       "      <th>session_week</th>\n",
       "      <th>session_date</th>\n",
       "    </tr>\n",
       "  </thead>\n",
       "  <tbody>\n",
       "    <tr>\n",
       "      <td>0</td>\n",
       "      <td>16879256277535980062</td>\n",
       "      <td>2017-12-20 17:20:00</td>\n",
       "      <td>2017-12-20 17:38:00</td>\n",
       "      <td>touch</td>\n",
       "      <td>4</td>\n",
       "      <td>2017-12-20 17:20:00</td>\n",
       "      <td>2017</td>\n",
       "      <td>12</td>\n",
       "      <td>51</td>\n",
       "      <td>2017-12-20</td>\n",
       "    </tr>\n",
       "    <tr>\n",
       "      <td>1</td>\n",
       "      <td>104060357244891740</td>\n",
       "      <td>2018-02-19 16:53:00</td>\n",
       "      <td>2018-02-19 17:21:00</td>\n",
       "      <td>desktop</td>\n",
       "      <td>2</td>\n",
       "      <td>2018-02-19 16:53:00</td>\n",
       "      <td>2018</td>\n",
       "      <td>2</td>\n",
       "      <td>8</td>\n",
       "      <td>2018-02-19</td>\n",
       "    </tr>\n",
       "    <tr>\n",
       "      <td>3</td>\n",
       "      <td>16174680259334210214</td>\n",
       "      <td>2018-05-20 10:59:00</td>\n",
       "      <td>2018-05-20 11:23:00</td>\n",
       "      <td>desktop</td>\n",
       "      <td>9</td>\n",
       "      <td>2018-03-09 20:05:00</td>\n",
       "      <td>2018</td>\n",
       "      <td>5</td>\n",
       "      <td>20</td>\n",
       "      <td>2018-05-20</td>\n",
       "    </tr>\n",
       "    <tr>\n",
       "      <td>5</td>\n",
       "      <td>16007536194108375387</td>\n",
       "      <td>2017-09-03 21:35:00</td>\n",
       "      <td>2017-09-03 21:36:00</td>\n",
       "      <td>desktop</td>\n",
       "      <td>5</td>\n",
       "      <td>2017-09-03 21:35:00</td>\n",
       "      <td>2017</td>\n",
       "      <td>9</td>\n",
       "      <td>35</td>\n",
       "      <td>2017-09-03</td>\n",
       "    </tr>\n",
       "    <tr>\n",
       "      <td>6</td>\n",
       "      <td>6661610529277171451</td>\n",
       "      <td>2018-01-30 11:13:00</td>\n",
       "      <td>2018-01-30 12:09:00</td>\n",
       "      <td>desktop</td>\n",
       "      <td>1</td>\n",
       "      <td>2017-06-29 09:00:00</td>\n",
       "      <td>2018</td>\n",
       "      <td>1</td>\n",
       "      <td>5</td>\n",
       "      <td>2018-01-30</td>\n",
       "    </tr>\n",
       "  </tbody>\n",
       "</table>\n",
       "</div>"
      ],
      "text/plain": [
       "                    uid            start_ts              end_ts   device  \\\n",
       "0  16879256277535980062 2017-12-20 17:20:00 2017-12-20 17:38:00    touch   \n",
       "1    104060357244891740 2018-02-19 16:53:00 2018-02-19 17:21:00  desktop   \n",
       "3  16174680259334210214 2018-05-20 10:59:00 2018-05-20 11:23:00  desktop   \n",
       "5  16007536194108375387 2017-09-03 21:35:00 2017-09-03 21:36:00  desktop   \n",
       "6   6661610529277171451 2018-01-30 11:13:00 2018-01-30 12:09:00  desktop   \n",
       "\n",
       "   source_id first_visit_datetime  session_year  session_month  session_week  \\\n",
       "0          4  2017-12-20 17:20:00          2017             12            51   \n",
       "1          2  2018-02-19 16:53:00          2018              2             8   \n",
       "3          9  2018-03-09 20:05:00          2018              5            20   \n",
       "5          5  2017-09-03 21:35:00          2017              9            35   \n",
       "6          1  2017-06-29 09:00:00          2018              1             5   \n",
       "\n",
       "  session_date  \n",
       "0   2017-12-20  \n",
       "1   2018-02-19  \n",
       "3   2018-05-20  \n",
       "5   2017-09-03  \n",
       "6   2018-01-30  "
      ]
     },
     "execution_count": 23,
     "metadata": {},
     "output_type": "execute_result"
    }
   ],
   "source": [
    "# Добавим тсолбцы, необходимые для дальнейшего анализа\n",
    "visits_log['session_year']  = visits_log['start_ts'].dt.year\n",
    "visits_log['session_month'] = visits_log['start_ts'].dt.month\n",
    "visits_log['session_week']  = visits_log['start_ts'].dt.week\n",
    "visits_log['session_date'] = visits_log['start_ts'].dt.date\n",
    "visits_log.head()"
   ]
  },
  {
   "cell_type": "code",
   "execution_count": 24,
   "metadata": {},
   "outputs": [
    {
     "name": "stdout",
     "output_type": "stream",
     "text": [
      "Количество уникальных пользователей в день (DAU): 817\n",
      "Количество уникальных пользователей в неделю (WAU): 5148\n",
      "Количество уникальных пользователей в месяц (MAU): 20955\n"
     ]
    }
   ],
   "source": [
    "# Изучим посещаемость ресурса\n",
    "dau_total = visits_log.groupby('session_date').agg(dau=('uid','nunique')).mean()\n",
    "wau_total = visits_log.groupby(['session_year', 'session_week']).agg(wau=('uid','nunique')).mean() \n",
    "mau_total = visits_log.groupby(['session_year', 'session_month']).agg(mau=('uid','nunique')).mean()\n",
    "\n",
    "print(\"Количество уникальных пользователей в день (DAU):\", int(dau_total))\n",
    "print(\"Количество уникальных пользователей в неделю (WAU):\", int(wau_total))\n",
    "print(\"Количество уникальных пользователей в месяц (MAU):\", int(mau_total))"
   ]
  },
  {
   "cell_type": "markdown",
   "metadata": {},
   "source": [
    "***"
   ]
  },
  {
   "cell_type": "markdown",
   "metadata": {},
   "source": [
    "Узнаем количество сессий в день."
   ]
  },
  {
   "cell_type": "code",
   "execution_count": 25,
   "metadata": {},
   "outputs": [
    {
     "name": "stdout",
     "output_type": "stream",
     "text": [
      "Среднее количество сессий в день: 889\n",
      "Медианное количество сессий в день: 898\n"
     ]
    }
   ],
   "source": [
    "sessions = visits_log.groupby('session_date').agg(sessions_per_day=('uid','count'))\n",
    "print(\"Среднее количество сессий в день:\", int(sessions.mean()))\n",
    "print(\"Медианное количество сессий в день:\", int(sessions.median()))"
   ]
  },
  {
   "cell_type": "code",
   "execution_count": 26,
   "metadata": {},
   "outputs": [
    {
     "data": {
      "image/png": "[encoded data removed]",
      "text/plain": [
       "<Figure size 1080x504 with 1 Axes>"
      ]
     },
     "metadata": {
      "needs_background": "light"
     },
     "output_type": "display_data"
    }
   ],
   "source": [
    "# Построим график по количеству сессий\n",
    "sessions.plot(figsize=(15,7));"
   ]
  },
  {
   "cell_type": "markdown",
   "metadata": {},
   "source": [
    "---\n",
    "\n",
    "<div class=\"alert alert-block alert-warning\">\n",
    "    \n",
    "\n",
    "### Комментарий от ревьюера\n",
    "\n",
    "Чтобы перед графиком не выводились лишние надписи, используй знак \";\" в конце кода (поправила на этом графике)\n",
    "</div>\n",
    "\n",
    "---\n"
   ]
  },
  {
   "cell_type": "markdown",
   "metadata": {},
   "source": [
    "<div class=\"alert alert-block alert-info\">\n",
    "\n",
    "### Комментарий от студента  \n",
    "    \n",
    "Исправил \n",
    "</div>"
   ]
  },
  {
   "cell_type": "markdown",
   "metadata": {},
   "source": [
    "Видим сильный всплекс посещаемости в конце ноября 17 года (скорее всего вызван удачной рекламной интеграцией или каким-то очень \"хайповым\" событием), а также проседание до полного нуля в начале апреля (скорее всего вызвано техническими работами или падением серверов)."
   ]
  },
  {
   "cell_type": "markdown",
   "metadata": {},
   "source": [
    "\n",
    "---\n",
    "\n",
    "<div class=\"alert alert-block alert-success\">\n",
    "    \n",
    "\n",
    "### Комментарий от ревьюера\n",
    "\n",
    "Тут все хорошо, двигаемся дальше ). Отлично что отметил аномалии\n",
    "</div>\n",
    "\n",
    "---\n"
   ]
  },
  {
   "cell_type": "markdown",
   "metadata": {},
   "source": [
    "***"
   ]
  },
  {
   "cell_type": "markdown",
   "metadata": {},
   "source": [
    "Узнаем сколько длится одна сессия. Для этого посчитаем ASL, среднюю продолжительность сессии."
   ]
  },
  {
   "cell_type": "code",
   "execution_count": 27,
   "metadata": {},
   "outputs": [
    {
     "data": {
      "image/png": "[encoded data removed]",
      "text/plain": [
       "<Figure size 1080x504 with 1 Axes>"
      ]
     },
     "metadata": {
      "needs_background": "light"
     },
     "output_type": "display_data"
    }
   ],
   "source": [
    "# Посчитаем длительнность каждой сессии\n",
    "visits_log['session_duration_sec'] = (visits_log['end_ts'] - visits_log['start_ts']).dt.seconds\n",
    "visits_log['session_duration_sec'].hist(figsize=(15,7), bins=50, range=(0,3000));"
   ]
  },
  {
   "cell_type": "markdown",
   "metadata": {},
   "source": [
    "Распределение далеко от нормального, поэтому вместо среднего расчитаем моду."
   ]
  },
  {
   "cell_type": "code",
   "execution_count": 28,
   "metadata": {
    "scrolled": true
   },
   "outputs": [
    {
     "name": "stdout",
     "output_type": "stream",
     "text": [
      "Средняя продолжительность сессии (ASL): 60 сек.\n"
     ]
    }
   ],
   "source": [
    "print(\"Средняя продолжительность сессии (ASL): {} сек.\".format(int(visits_log['session_duration_sec'].mode())))"
   ]
  },
  {
   "cell_type": "markdown",
   "metadata": {},
   "source": [
    "---\n",
    "\n",
    "\n",
    "<div class=\"alert alert-block alert-success\">\n",
    "    \n",
    "\n",
    "### Комментарий от ревьюера\n",
    "\n",
    "Верный комментарий про вид распределения и моду - этот параметр в данном случае подходит лучше всего\n",
    "\n",
    "</div>\n",
    "    \n",
    "---\n"
   ]
  },
  {
   "cell_type": "markdown",
   "metadata": {},
   "source": [
    "***"
   ]
  },
  {
   "cell_type": "markdown",
   "metadata": {},
   "source": [
    "Узнаем, как часто люди возвращаются. Для этого посчитаем Retention Rate, который показывает, сколько пользователей из когорты относительно их изначального числа вернулось в последующие периоды."
   ]
  },
  {
   "cell_type": "code",
   "execution_count": 29,
   "metadata": {},
   "outputs": [
    {
     "data": {
      "text/html": [
       "<div>\n",
       "<style scoped>\n",
       "    .dataframe tbody tr th:only-of-type {\n",
       "        vertical-align: middle;\n",
       "    }\n",
       "\n",
       "    .dataframe tbody tr th {\n",
       "        vertical-align: top;\n",
       "    }\n",
       "\n",
       "    .dataframe thead th {\n",
       "        text-align: right;\n",
       "    }\n",
       "</style>\n",
       "<table border=\"1\" class=\"dataframe\">\n",
       "  <thead>\n",
       "    <tr style=\"text-align: right;\">\n",
       "      <th></th>\n",
       "      <th>activity_month</th>\n",
       "      <th>first_activity_month</th>\n",
       "    </tr>\n",
       "  </thead>\n",
       "  <tbody>\n",
       "    <tr>\n",
       "      <td>0</td>\n",
       "      <td>2017-12-01</td>\n",
       "      <td>2017-12-01</td>\n",
       "    </tr>\n",
       "    <tr>\n",
       "      <td>1</td>\n",
       "      <td>2018-02-01</td>\n",
       "      <td>2018-02-01</td>\n",
       "    </tr>\n",
       "    <tr>\n",
       "      <td>3</td>\n",
       "      <td>2018-05-01</td>\n",
       "      <td>2018-03-01</td>\n",
       "    </tr>\n",
       "    <tr>\n",
       "      <td>5</td>\n",
       "      <td>2017-09-01</td>\n",
       "      <td>2017-09-01</td>\n",
       "    </tr>\n",
       "    <tr>\n",
       "      <td>6</td>\n",
       "      <td>2018-01-01</td>\n",
       "      <td>2017-06-01</td>\n",
       "    </tr>\n",
       "  </tbody>\n",
       "</table>\n",
       "</div>"
      ],
      "text/plain": [
       "  activity_month first_activity_month\n",
       "0     2017-12-01           2017-12-01\n",
       "1     2018-02-01           2018-02-01\n",
       "3     2018-05-01           2018-03-01\n",
       "5     2017-09-01           2017-09-01\n",
       "6     2018-01-01           2017-06-01"
      ]
     },
     "execution_count": 29,
     "metadata": {},
     "output_type": "execute_result"
    }
   ],
   "source": [
    "# Создадим столбцы с месяцем визита и месяцем первой покупки\n",
    "visits_log['activity_month'] = visits_log['start_ts'].astype('datetime64[M]')\n",
    "visits_log['first_activity_month'] = visits_log['first_visit_datetime'].astype('datetime64[M]')\n",
    "visits_log.head()[['activity_month', 'first_activity_month']] "
   ]
  },
  {
   "cell_type": "code",
   "execution_count": 30,
   "metadata": {},
   "outputs": [
    {
     "data": {
      "text/html": [
       "<div>\n",
       "<style scoped>\n",
       "    .dataframe tbody tr th:only-of-type {\n",
       "        vertical-align: middle;\n",
       "    }\n",
       "\n",
       "    .dataframe tbody tr th {\n",
       "        vertical-align: top;\n",
       "    }\n",
       "\n",
       "    .dataframe thead th {\n",
       "        text-align: right;\n",
       "    }\n",
       "</style>\n",
       "<table border=\"1\" class=\"dataframe\">\n",
       "  <thead>\n",
       "    <tr style=\"text-align: right;\">\n",
       "      <th></th>\n",
       "      <th>first_activity_month</th>\n",
       "      <th>cohort_lifetime</th>\n",
       "      <th>uid</th>\n",
       "    </tr>\n",
       "  </thead>\n",
       "  <tbody>\n",
       "    <tr>\n",
       "      <td>0</td>\n",
       "      <td>2017-06-01</td>\n",
       "      <td>0.0</td>\n",
       "      <td>11885</td>\n",
       "    </tr>\n",
       "    <tr>\n",
       "      <td>1</td>\n",
       "      <td>2017-06-01</td>\n",
       "      <td>1.0</td>\n",
       "      <td>900</td>\n",
       "    </tr>\n",
       "    <tr>\n",
       "      <td>2</td>\n",
       "      <td>2017-06-01</td>\n",
       "      <td>2.0</td>\n",
       "      <td>606</td>\n",
       "    </tr>\n",
       "    <tr>\n",
       "      <td>3</td>\n",
       "      <td>2017-06-01</td>\n",
       "      <td>3.0</td>\n",
       "      <td>710</td>\n",
       "    </tr>\n",
       "    <tr>\n",
       "      <td>4</td>\n",
       "      <td>2017-06-01</td>\n",
       "      <td>4.0</td>\n",
       "      <td>777</td>\n",
       "    </tr>\n",
       "  </tbody>\n",
       "</table>\n",
       "</div>"
      ],
      "text/plain": [
       "  first_activity_month  cohort_lifetime    uid\n",
       "0           2017-06-01              0.0  11885\n",
       "1           2017-06-01              1.0    900\n",
       "2           2017-06-01              2.0    606\n",
       "3           2017-06-01              3.0    710\n",
       "4           2017-06-01              4.0    777"
      ]
     },
     "execution_count": 30,
     "metadata": {},
     "output_type": "execute_result"
    }
   ],
   "source": [
    "# Посчитаем время жизни каждой когорты и сгруппируем пользователй по когортам\n",
    "visits_log['cohort_lifetime'] = (visits_log['activity_month'] - visits_log['first_activity_month']) / np.timedelta64(1,'M')\n",
    "visits_log['cohort_lifetime'] = round(visits_log['cohort_lifetime'].astype('float'))\n",
    "cohorts = visits_log.groupby(['first_activity_month','cohort_lifetime']).agg({'uid':'nunique'}).reset_index()\n",
    "cohorts.head()"
   ]
  },
  {
   "cell_type": "code",
   "execution_count": 31,
   "metadata": {},
   "outputs": [
    {
     "data": {
      "text/html": [
       "<div>\n",
       "<style scoped>\n",
       "    .dataframe tbody tr th:only-of-type {\n",
       "        vertical-align: middle;\n",
       "    }\n",
       "\n",
       "    .dataframe tbody tr th {\n",
       "        vertical-align: top;\n",
       "    }\n",
       "\n",
       "    .dataframe thead th {\n",
       "        text-align: right;\n",
       "    }\n",
       "</style>\n",
       "<table border=\"1\" class=\"dataframe\">\n",
       "  <thead>\n",
       "    <tr style=\"text-align: right;\">\n",
       "      <th></th>\n",
       "      <th>first_activity_month</th>\n",
       "      <th>cohort_users</th>\n",
       "    </tr>\n",
       "  </thead>\n",
       "  <tbody>\n",
       "    <tr>\n",
       "      <td>0</td>\n",
       "      <td>2017-06-01</td>\n",
       "      <td>11885</td>\n",
       "    </tr>\n",
       "    <tr>\n",
       "      <td>12</td>\n",
       "      <td>2017-07-01</td>\n",
       "      <td>11825</td>\n",
       "    </tr>\n",
       "    <tr>\n",
       "      <td>23</td>\n",
       "      <td>2017-08-01</td>\n",
       "      <td>9214</td>\n",
       "    </tr>\n",
       "    <tr>\n",
       "      <td>33</td>\n",
       "      <td>2017-09-01</td>\n",
       "      <td>15125</td>\n",
       "    </tr>\n",
       "    <tr>\n",
       "      <td>42</td>\n",
       "      <td>2017-10-01</td>\n",
       "      <td>23538</td>\n",
       "    </tr>\n",
       "  </tbody>\n",
       "</table>\n",
       "</div>"
      ],
      "text/plain": [
       "   first_activity_month  cohort_users\n",
       "0            2017-06-01         11885\n",
       "12           2017-07-01         11825\n",
       "23           2017-08-01          9214\n",
       "33           2017-09-01         15125\n",
       "42           2017-10-01         23538"
      ]
     },
     "execution_count": 31,
     "metadata": {},
     "output_type": "execute_result"
    }
   ],
   "source": [
    "# Посчитаем вспомогательный столбец для расчета нулевого периода\n",
    "initial_users_count = (cohorts\n",
    "                       .query('cohort_lifetime==0')[['first_activity_month','uid']]\n",
    "                       .rename(columns={'uid':'cohort_users'}))\n",
    "initial_users_count.head()"
   ]
  },
  {
   "cell_type": "code",
   "execution_count": 32,
   "metadata": {},
   "outputs": [
    {
     "data": {
      "text/html": [
       "<div>\n",
       "<style scoped>\n",
       "    .dataframe tbody tr th:only-of-type {\n",
       "        vertical-align: middle;\n",
       "    }\n",
       "\n",
       "    .dataframe tbody tr th {\n",
       "        vertical-align: top;\n",
       "    }\n",
       "\n",
       "    .dataframe thead th {\n",
       "        text-align: right;\n",
       "    }\n",
       "</style>\n",
       "<table border=\"1\" class=\"dataframe\">\n",
       "  <thead>\n",
       "    <tr style=\"text-align: right;\">\n",
       "      <th></th>\n",
       "      <th>first_activity_month</th>\n",
       "      <th>cohort_lifetime</th>\n",
       "      <th>uid</th>\n",
       "      <th>cohort_users</th>\n",
       "      <th>retention</th>\n",
       "    </tr>\n",
       "  </thead>\n",
       "  <tbody>\n",
       "    <tr>\n",
       "      <td>0</td>\n",
       "      <td>2017-06-01</td>\n",
       "      <td>0.0</td>\n",
       "      <td>11885</td>\n",
       "      <td>11885</td>\n",
       "      <td>1.000000</td>\n",
       "    </tr>\n",
       "    <tr>\n",
       "      <td>1</td>\n",
       "      <td>2017-06-01</td>\n",
       "      <td>1.0</td>\n",
       "      <td>900</td>\n",
       "      <td>11885</td>\n",
       "      <td>0.075726</td>\n",
       "    </tr>\n",
       "    <tr>\n",
       "      <td>2</td>\n",
       "      <td>2017-06-01</td>\n",
       "      <td>2.0</td>\n",
       "      <td>606</td>\n",
       "      <td>11885</td>\n",
       "      <td>0.050989</td>\n",
       "    </tr>\n",
       "    <tr>\n",
       "      <td>3</td>\n",
       "      <td>2017-06-01</td>\n",
       "      <td>3.0</td>\n",
       "      <td>710</td>\n",
       "      <td>11885</td>\n",
       "      <td>0.059739</td>\n",
       "    </tr>\n",
       "    <tr>\n",
       "      <td>4</td>\n",
       "      <td>2017-06-01</td>\n",
       "      <td>4.0</td>\n",
       "      <td>777</td>\n",
       "      <td>11885</td>\n",
       "      <td>0.065377</td>\n",
       "    </tr>\n",
       "  </tbody>\n",
       "</table>\n",
       "</div>"
      ],
      "text/plain": [
       "  first_activity_month  cohort_lifetime    uid  cohort_users  retention\n",
       "0           2017-06-01              0.0  11885         11885   1.000000\n",
       "1           2017-06-01              1.0    900         11885   0.075726\n",
       "2           2017-06-01              2.0    606         11885   0.050989\n",
       "3           2017-06-01              3.0    710         11885   0.059739\n",
       "4           2017-06-01              4.0    777         11885   0.065377"
      ]
     },
     "execution_count": 32,
     "metadata": {},
     "output_type": "execute_result"
    }
   ],
   "source": [
    "# Объединим таблицы и посчитаем retention rate\n",
    "cohorts = cohorts.merge(initial_users_count,on='first_activity_month')\n",
    "cohorts['retention'] = cohorts['uid'] / cohorts['cohort_users']\n",
    "cohorts.head()"
   ]
  },
  {
   "cell_type": "code",
   "execution_count": 33,
   "metadata": {
    "scrolled": false
   },
   "outputs": [
    {
     "data": {
      "text/html": [
       "<div>\n",
       "<style scoped>\n",
       "    .dataframe tbody tr th:only-of-type {\n",
       "        vertical-align: middle;\n",
       "    }\n",
       "\n",
       "    .dataframe tbody tr th {\n",
       "        vertical-align: top;\n",
       "    }\n",
       "\n",
       "    .dataframe thead th {\n",
       "        text-align: right;\n",
       "    }\n",
       "</style>\n",
       "<table border=\"1\" class=\"dataframe\">\n",
       "  <thead>\n",
       "    <tr style=\"text-align: right;\">\n",
       "      <th>cohort_lifetime</th>\n",
       "      <th>0.0</th>\n",
       "      <th>1.0</th>\n",
       "      <th>2.0</th>\n",
       "      <th>3.0</th>\n",
       "      <th>4.0</th>\n",
       "      <th>5.0</th>\n",
       "      <th>6.0</th>\n",
       "      <th>7.0</th>\n",
       "      <th>8.0</th>\n",
       "      <th>9.0</th>\n",
       "      <th>10.0</th>\n",
       "      <th>11.0</th>\n",
       "    </tr>\n",
       "    <tr>\n",
       "      <th>first_activity_month</th>\n",
       "      <th></th>\n",
       "      <th></th>\n",
       "      <th></th>\n",
       "      <th></th>\n",
       "      <th></th>\n",
       "      <th></th>\n",
       "      <th></th>\n",
       "      <th></th>\n",
       "      <th></th>\n",
       "      <th></th>\n",
       "      <th></th>\n",
       "      <th></th>\n",
       "    </tr>\n",
       "  </thead>\n",
       "  <tbody>\n",
       "    <tr>\n",
       "      <td>2017-06-01</td>\n",
       "      <td>1.0</td>\n",
       "      <td>0.075726</td>\n",
       "      <td>0.050989</td>\n",
       "      <td>0.059739</td>\n",
       "      <td>0.065377</td>\n",
       "      <td>0.067480</td>\n",
       "      <td>0.057720</td>\n",
       "      <td>0.056121</td>\n",
       "      <td>0.050989</td>\n",
       "      <td>0.049727</td>\n",
       "      <td>0.038115</td>\n",
       "      <td>0.043921</td>\n",
       "    </tr>\n",
       "    <tr>\n",
       "      <td>2017-07-01</td>\n",
       "      <td>1.0</td>\n",
       "      <td>0.054545</td>\n",
       "      <td>0.050402</td>\n",
       "      <td>0.055645</td>\n",
       "      <td>0.056660</td>\n",
       "      <td>0.046512</td>\n",
       "      <td>0.044059</td>\n",
       "      <td>0.044059</td>\n",
       "      <td>0.037886</td>\n",
       "      <td>0.027315</td>\n",
       "      <td>0.027061</td>\n",
       "      <td>NaN</td>\n",
       "    </tr>\n",
       "    <tr>\n",
       "      <td>2017-08-01</td>\n",
       "      <td>1.0</td>\n",
       "      <td>0.074452</td>\n",
       "      <td>0.060451</td>\n",
       "      <td>0.060451</td>\n",
       "      <td>0.047970</td>\n",
       "      <td>0.041459</td>\n",
       "      <td>0.036249</td>\n",
       "      <td>0.037660</td>\n",
       "      <td>0.027133</td>\n",
       "      <td>0.024745</td>\n",
       "      <td>NaN</td>\n",
       "      <td>NaN</td>\n",
       "    </tr>\n",
       "    <tr>\n",
       "      <td>2017-09-01</td>\n",
       "      <td>1.0</td>\n",
       "      <td>0.083570</td>\n",
       "      <td>0.067769</td>\n",
       "      <td>0.049322</td>\n",
       "      <td>0.038083</td>\n",
       "      <td>0.036959</td>\n",
       "      <td>0.035372</td>\n",
       "      <td>0.022876</td>\n",
       "      <td>0.022744</td>\n",
       "      <td>NaN</td>\n",
       "      <td>NaN</td>\n",
       "      <td>NaN</td>\n",
       "    </tr>\n",
       "    <tr>\n",
       "      <td>2017-10-01</td>\n",
       "      <td>1.0</td>\n",
       "      <td>0.078129</td>\n",
       "      <td>0.050811</td>\n",
       "      <td>0.037811</td>\n",
       "      <td>0.033648</td>\n",
       "      <td>0.031184</td>\n",
       "      <td>0.020775</td>\n",
       "      <td>0.019798</td>\n",
       "      <td>NaN</td>\n",
       "      <td>NaN</td>\n",
       "      <td>NaN</td>\n",
       "      <td>NaN</td>\n",
       "    </tr>\n",
       "  </tbody>\n",
       "</table>\n",
       "</div>"
      ],
      "text/plain": [
       "cohort_lifetime       0.0       1.0       2.0       3.0       4.0       5.0   \\\n",
       "first_activity_month                                                           \n",
       "2017-06-01             1.0  0.075726  0.050989  0.059739  0.065377  0.067480   \n",
       "2017-07-01             1.0  0.054545  0.050402  0.055645  0.056660  0.046512   \n",
       "2017-08-01             1.0  0.074452  0.060451  0.060451  0.047970  0.041459   \n",
       "2017-09-01             1.0  0.083570  0.067769  0.049322  0.038083  0.036959   \n",
       "2017-10-01             1.0  0.078129  0.050811  0.037811  0.033648  0.031184   \n",
       "\n",
       "cohort_lifetime           6.0       7.0       8.0       9.0       10.0  \\\n",
       "first_activity_month                                                     \n",
       "2017-06-01            0.057720  0.056121  0.050989  0.049727  0.038115   \n",
       "2017-07-01            0.044059  0.044059  0.037886  0.027315  0.027061   \n",
       "2017-08-01            0.036249  0.037660  0.027133  0.024745       NaN   \n",
       "2017-09-01            0.035372  0.022876  0.022744       NaN       NaN   \n",
       "2017-10-01            0.020775  0.019798       NaN       NaN       NaN   \n",
       "\n",
       "cohort_lifetime           11.0  \n",
       "first_activity_month            \n",
       "2017-06-01            0.043921  \n",
       "2017-07-01                 NaN  \n",
       "2017-08-01                 NaN  \n",
       "2017-09-01                 NaN  \n",
       "2017-10-01                 NaN  "
      ]
     },
     "execution_count": 33,
     "metadata": {},
     "output_type": "execute_result"
    }
   ],
   "source": [
    "# Построим сводную таблицу и тепловую карту по ней\n",
    "retention_pivot = (cohorts.pivot_table(index='first_activity_month', columns='cohort_lifetime',\n",
    "                                       values='retention', aggfunc='sum'))\n",
    "retention_pivot.head()"
   ]
  },
  {
   "cell_type": "code",
   "execution_count": 34,
   "metadata": {},
   "outputs": [
    {
     "data": {
      "image/png": "[encoded data removed]",
      "text/plain": [
       "<Figure size 936x648 with 2 Axes>"
      ]
     },
     "metadata": {},
     "output_type": "display_data"
    }
   ],
   "source": [
    "# Построим тепловую карту\n",
    "sns.set(style='white')\n",
    "plt.figure(figsize=(13, 9))\n",
    "sns.heatmap(retention_pivot, annot=True, fmt='.1%', linewidths=1, linecolor='gray',  cmap=sns.cm.rocket_r)\n",
    "plt.title('Retention Rate, %')\n",
    "plt.xlabel(\"Время жизни когорты\")\n",
    "plt.ylabel(\"Месяц первой активности\");"
   ]
  },
  {
   "cell_type": "markdown",
   "metadata": {},
   "source": [
    "Коэффициент возврата довольно низкий для всех когорт. Для первой, июньской, значения чуть повыше. Кроме того осенью в первый меяц жизни когорты наблюдаем чуть более высокий процент."
   ]
  },
  {
   "cell_type": "markdown",
   "metadata": {},
   "source": [
    "---\n",
    "\n",
    "\n",
    "<div class=\"alert alert-block alert-success\">\n",
    "    \n",
    "\n",
    "### Комментарий от ревьюера\n",
    "\n",
    "Наглядный график и верные выводы\n",
    "\n",
    "</div>\n",
    "    \n",
    "---\n"
   ]
  },
  {
   "cell_type": "markdown",
   "metadata": {},
   "source": [
    "### Анализ продаж"
   ]
  },
  {
   "cell_type": "markdown",
   "metadata": {},
   "source": [
    "Узнаем, когда люди начинают покупать. Для этого посчитаем, сколько времени проходит от первого визита до первой покупки и проанализируем распределение этих времен."
   ]
  },
  {
   "cell_type": "code",
   "execution_count": 35,
   "metadata": {},
   "outputs": [
    {
     "data": {
      "text/html": [
       "<div>\n",
       "<style scoped>\n",
       "    .dataframe tbody tr th:only-of-type {\n",
       "        vertical-align: middle;\n",
       "    }\n",
       "\n",
       "    .dataframe tbody tr th {\n",
       "        vertical-align: top;\n",
       "    }\n",
       "\n",
       "    .dataframe thead th {\n",
       "        text-align: right;\n",
       "    }\n",
       "</style>\n",
       "<table border=\"1\" class=\"dataframe\">\n",
       "  <thead>\n",
       "    <tr style=\"text-align: right;\">\n",
       "      <th></th>\n",
       "      <th>first_buy_ts</th>\n",
       "    </tr>\n",
       "    <tr>\n",
       "      <th>uid</th>\n",
       "      <th></th>\n",
       "    </tr>\n",
       "  </thead>\n",
       "  <tbody>\n",
       "    <tr>\n",
       "      <td>313578113262317</td>\n",
       "      <td>2018-01-03 21:51:00</td>\n",
       "    </tr>\n",
       "    <tr>\n",
       "      <td>1575281904278712</td>\n",
       "      <td>2017-06-03 10:13:00</td>\n",
       "    </tr>\n",
       "    <tr>\n",
       "      <td>2429014661409475</td>\n",
       "      <td>2017-10-11 18:33:00</td>\n",
       "    </tr>\n",
       "    <tr>\n",
       "      <td>2464366381792757</td>\n",
       "      <td>2018-01-28 15:54:00</td>\n",
       "    </tr>\n",
       "    <tr>\n",
       "      <td>2551852515556206</td>\n",
       "      <td>2017-11-24 10:14:00</td>\n",
       "    </tr>\n",
       "  </tbody>\n",
       "</table>\n",
       "</div>"
      ],
      "text/plain": [
       "                        first_buy_ts\n",
       "uid                                 \n",
       "313578113262317  2018-01-03 21:51:00\n",
       "1575281904278712 2017-06-03 10:13:00\n",
       "2429014661409475 2017-10-11 18:33:00\n",
       "2464366381792757 2018-01-28 15:54:00\n",
       "2551852515556206 2017-11-24 10:14:00"
      ]
     },
     "execution_count": 35,
     "metadata": {},
     "output_type": "execute_result"
    }
   ],
   "source": [
    "# Узнаем время первой покупки для каджого пользователя\n",
    "first_buy_ts = orders_log.groupby('uid').agg(first_buy_ts=('buy_ts','min'))\n",
    "first_buy_ts.head()"
   ]
  },
  {
   "cell_type": "code",
   "execution_count": 36,
   "metadata": {},
   "outputs": [
    {
     "data": {
      "text/html": [
       "<div>\n",
       "<style scoped>\n",
       "    .dataframe tbody tr th:only-of-type {\n",
       "        vertical-align: middle;\n",
       "    }\n",
       "\n",
       "    .dataframe tbody tr th {\n",
       "        vertical-align: top;\n",
       "    }\n",
       "\n",
       "    .dataframe thead th {\n",
       "        text-align: right;\n",
       "    }\n",
       "</style>\n",
       "<table border=\"1\" class=\"dataframe\">\n",
       "  <thead>\n",
       "    <tr style=\"text-align: right;\">\n",
       "      <th></th>\n",
       "      <th>uid</th>\n",
       "      <th>start_ts</th>\n",
       "      <th>end_ts</th>\n",
       "      <th>device</th>\n",
       "      <th>source_id</th>\n",
       "      <th>first_visit_datetime</th>\n",
       "      <th>session_year</th>\n",
       "      <th>session_month</th>\n",
       "      <th>session_week</th>\n",
       "      <th>session_date</th>\n",
       "      <th>session_duration_sec</th>\n",
       "      <th>activity_month</th>\n",
       "      <th>first_activity_month</th>\n",
       "      <th>cohort_lifetime</th>\n",
       "      <th>first_buy_ts</th>\n",
       "    </tr>\n",
       "  </thead>\n",
       "  <tbody>\n",
       "    <tr>\n",
       "      <td>0</td>\n",
       "      <td>16879256277535980062</td>\n",
       "      <td>2017-12-20 17:20:00</td>\n",
       "      <td>2017-12-20 17:38:00</td>\n",
       "      <td>touch</td>\n",
       "      <td>4</td>\n",
       "      <td>2017-12-20 17:20:00</td>\n",
       "      <td>2017</td>\n",
       "      <td>12</td>\n",
       "      <td>51</td>\n",
       "      <td>2017-12-20</td>\n",
       "      <td>1080</td>\n",
       "      <td>2017-12-01</td>\n",
       "      <td>2017-12-01</td>\n",
       "      <td>0.0</td>\n",
       "      <td>NaT</td>\n",
       "    </tr>\n",
       "    <tr>\n",
       "      <td>1</td>\n",
       "      <td>104060357244891740</td>\n",
       "      <td>2018-02-19 16:53:00</td>\n",
       "      <td>2018-02-19 17:21:00</td>\n",
       "      <td>desktop</td>\n",
       "      <td>2</td>\n",
       "      <td>2018-02-19 16:53:00</td>\n",
       "      <td>2018</td>\n",
       "      <td>2</td>\n",
       "      <td>8</td>\n",
       "      <td>2018-02-19</td>\n",
       "      <td>1680</td>\n",
       "      <td>2018-02-01</td>\n",
       "      <td>2018-02-01</td>\n",
       "      <td>0.0</td>\n",
       "      <td>NaT</td>\n",
       "    </tr>\n",
       "    <tr>\n",
       "      <td>3</td>\n",
       "      <td>16174680259334210214</td>\n",
       "      <td>2018-05-20 10:59:00</td>\n",
       "      <td>2018-05-20 11:23:00</td>\n",
       "      <td>desktop</td>\n",
       "      <td>9</td>\n",
       "      <td>2018-03-09 20:05:00</td>\n",
       "      <td>2018</td>\n",
       "      <td>5</td>\n",
       "      <td>20</td>\n",
       "      <td>2018-05-20</td>\n",
       "      <td>1440</td>\n",
       "      <td>2018-05-01</td>\n",
       "      <td>2018-03-01</td>\n",
       "      <td>2.0</td>\n",
       "      <td>2018-03-09 20:25:00</td>\n",
       "    </tr>\n",
       "    <tr>\n",
       "      <td>5</td>\n",
       "      <td>16007536194108375387</td>\n",
       "      <td>2017-09-03 21:35:00</td>\n",
       "      <td>2017-09-03 21:36:00</td>\n",
       "      <td>desktop</td>\n",
       "      <td>5</td>\n",
       "      <td>2017-09-03 21:35:00</td>\n",
       "      <td>2017</td>\n",
       "      <td>9</td>\n",
       "      <td>35</td>\n",
       "      <td>2017-09-03</td>\n",
       "      <td>60</td>\n",
       "      <td>2017-09-01</td>\n",
       "      <td>2017-09-01</td>\n",
       "      <td>0.0</td>\n",
       "      <td>2017-09-04 12:46:00</td>\n",
       "    </tr>\n",
       "    <tr>\n",
       "      <td>6</td>\n",
       "      <td>6661610529277171451</td>\n",
       "      <td>2018-01-30 11:13:00</td>\n",
       "      <td>2018-01-30 12:09:00</td>\n",
       "      <td>desktop</td>\n",
       "      <td>1</td>\n",
       "      <td>2017-06-29 09:00:00</td>\n",
       "      <td>2018</td>\n",
       "      <td>1</td>\n",
       "      <td>5</td>\n",
       "      <td>2018-01-30</td>\n",
       "      <td>3360</td>\n",
       "      <td>2018-01-01</td>\n",
       "      <td>2017-06-01</td>\n",
       "      <td>7.0</td>\n",
       "      <td>NaT</td>\n",
       "    </tr>\n",
       "  </tbody>\n",
       "</table>\n",
       "</div>"
      ],
      "text/plain": [
       "                    uid            start_ts              end_ts   device  \\\n",
       "0  16879256277535980062 2017-12-20 17:20:00 2017-12-20 17:38:00    touch   \n",
       "1    104060357244891740 2018-02-19 16:53:00 2018-02-19 17:21:00  desktop   \n",
       "3  16174680259334210214 2018-05-20 10:59:00 2018-05-20 11:23:00  desktop   \n",
       "5  16007536194108375387 2017-09-03 21:35:00 2017-09-03 21:36:00  desktop   \n",
       "6   6661610529277171451 2018-01-30 11:13:00 2018-01-30 12:09:00  desktop   \n",
       "\n",
       "   source_id first_visit_datetime  session_year  session_month  session_week  \\\n",
       "0          4  2017-12-20 17:20:00          2017             12            51   \n",
       "1          2  2018-02-19 16:53:00          2018              2             8   \n",
       "3          9  2018-03-09 20:05:00          2018              5            20   \n",
       "5          5  2017-09-03 21:35:00          2017              9            35   \n",
       "6          1  2017-06-29 09:00:00          2018              1             5   \n",
       "\n",
       "  session_date  session_duration_sec activity_month first_activity_month  \\\n",
       "0   2017-12-20                  1080     2017-12-01           2017-12-01   \n",
       "1   2018-02-19                  1680     2018-02-01           2018-02-01   \n",
       "3   2018-05-20                  1440     2018-05-01           2018-03-01   \n",
       "5   2017-09-03                    60     2017-09-01           2017-09-01   \n",
       "6   2018-01-30                  3360     2018-01-01           2017-06-01   \n",
       "\n",
       "   cohort_lifetime        first_buy_ts  \n",
       "0              0.0                 NaT  \n",
       "1              0.0                 NaT  \n",
       "3              2.0 2018-03-09 20:25:00  \n",
       "5              0.0 2017-09-04 12:46:00  \n",
       "6              7.0                 NaT  "
      ]
     },
     "execution_count": 36,
     "metadata": {},
     "output_type": "execute_result"
    }
   ],
   "source": [
    "# Объединим предыдущую таблицу с таблицей визитов\n",
    "visit_and_buy = visits_log.join(first_buy_ts, on='uid')\n",
    "visit_and_buy.head() "
   ]
  },
  {
   "cell_type": "code",
   "execution_count": 37,
   "metadata": {
    "scrolled": false
   },
   "outputs": [
    {
     "data": {
      "text/plain": [
       "(91741, 15)"
      ]
     },
     "execution_count": 37,
     "metadata": {},
     "output_type": "execute_result"
    }
   ],
   "source": [
    "# Оставим в таблице только те строки, где есть факт покупки\n",
    "visit_and_buy = visit_and_buy.query('first_buy_ts.notnull()')\n",
    "visit_and_buy.shape"
   ]
  },
  {
   "cell_type": "markdown",
   "metadata": {},
   "source": [
    "Сразу для избежания дальнейших проблем, проверим, есть ли среди рекламных источников номера 7 или 6."
   ]
  },
  {
   "cell_type": "code",
   "execution_count": 38,
   "metadata": {
    "scrolled": true
   },
   "outputs": [
    {
     "data": {
      "text/html": [
       "<div>\n",
       "<style scoped>\n",
       "    .dataframe tbody tr th:only-of-type {\n",
       "        vertical-align: middle;\n",
       "    }\n",
       "\n",
       "    .dataframe tbody tr th {\n",
       "        vertical-align: top;\n",
       "    }\n",
       "\n",
       "    .dataframe thead th {\n",
       "        text-align: right;\n",
       "    }\n",
       "</style>\n",
       "<table border=\"1\" class=\"dataframe\">\n",
       "  <thead>\n",
       "    <tr style=\"text-align: right;\">\n",
       "      <th></th>\n",
       "      <th>uid</th>\n",
       "      <th>start_ts</th>\n",
       "      <th>end_ts</th>\n",
       "      <th>device</th>\n",
       "      <th>source_id</th>\n",
       "      <th>first_visit_datetime</th>\n",
       "      <th>session_year</th>\n",
       "      <th>session_month</th>\n",
       "      <th>session_week</th>\n",
       "      <th>session_date</th>\n",
       "      <th>session_duration_sec</th>\n",
       "      <th>activity_month</th>\n",
       "      <th>first_activity_month</th>\n",
       "      <th>cohort_lifetime</th>\n",
       "      <th>first_buy_ts</th>\n",
       "    </tr>\n",
       "  </thead>\n",
       "  <tbody>\n",
       "    <tr>\n",
       "      <td>83135</td>\n",
       "      <td>11377414203346034748</td>\n",
       "      <td>2017-08-17 10:28:00</td>\n",
       "      <td>2017-08-17 11:56:00</td>\n",
       "      <td>desktop</td>\n",
       "      <td>7</td>\n",
       "      <td>2017-08-17 10:28:00</td>\n",
       "      <td>2017</td>\n",
       "      <td>8</td>\n",
       "      <td>33</td>\n",
       "      <td>2017-08-17</td>\n",
       "      <td>5280</td>\n",
       "      <td>2017-08-01</td>\n",
       "      <td>2017-08-01</td>\n",
       "      <td>0.0</td>\n",
       "      <td>2017-08-17 11:20:00</td>\n",
       "    </tr>\n",
       "  </tbody>\n",
       "</table>\n",
       "</div>"
      ],
      "text/plain": [
       "                        uid            start_ts              end_ts   device  \\\n",
       "83135  11377414203346034748 2017-08-17 10:28:00 2017-08-17 11:56:00  desktop   \n",
       "\n",
       "       source_id first_visit_datetime  session_year  session_month  \\\n",
       "83135          7  2017-08-17 10:28:00          2017              8   \n",
       "\n",
       "       session_week session_date  session_duration_sec activity_month  \\\n",
       "83135            33   2017-08-17                  5280     2017-08-01   \n",
       "\n",
       "      first_activity_month  cohort_lifetime        first_buy_ts  \n",
       "83135           2017-08-01              0.0 2017-08-17 11:20:00  "
      ]
     },
     "execution_count": 38,
     "metadata": {},
     "output_type": "execute_result"
    }
   ],
   "source": [
    "visit_and_buy.query('source_id ==7 or source_id == 6')"
   ]
  },
  {
   "cell_type": "markdown",
   "metadata": {},
   "source": [
    "Всего одна строка. Ее можно спокойно удалить."
   ]
  },
  {
   "cell_type": "code",
   "execution_count": 39,
   "metadata": {},
   "outputs": [
    {
     "data": {
      "text/html": [
       "<div>\n",
       "<style scoped>\n",
       "    .dataframe tbody tr th:only-of-type {\n",
       "        vertical-align: middle;\n",
       "    }\n",
       "\n",
       "    .dataframe tbody tr th {\n",
       "        vertical-align: top;\n",
       "    }\n",
       "\n",
       "    .dataframe thead th {\n",
       "        text-align: right;\n",
       "    }\n",
       "</style>\n",
       "<table border=\"1\" class=\"dataframe\">\n",
       "  <thead>\n",
       "    <tr style=\"text-align: right;\">\n",
       "      <th></th>\n",
       "      <th>uid</th>\n",
       "      <th>start_ts</th>\n",
       "      <th>end_ts</th>\n",
       "      <th>device</th>\n",
       "      <th>source_id</th>\n",
       "      <th>first_visit_datetime</th>\n",
       "      <th>session_year</th>\n",
       "      <th>session_month</th>\n",
       "      <th>session_week</th>\n",
       "      <th>session_date</th>\n",
       "      <th>session_duration_sec</th>\n",
       "      <th>activity_month</th>\n",
       "      <th>first_activity_month</th>\n",
       "      <th>cohort_lifetime</th>\n",
       "      <th>first_buy_ts</th>\n",
       "    </tr>\n",
       "  </thead>\n",
       "  <tbody>\n",
       "  </tbody>\n",
       "</table>\n",
       "</div>"
      ],
      "text/plain": [
       "Empty DataFrame\n",
       "Columns: [uid, start_ts, end_ts, device, source_id, first_visit_datetime, session_year, session_month, session_week, session_date, session_duration_sec, activity_month, first_activity_month, cohort_lifetime, first_buy_ts]\n",
       "Index: []"
      ]
     },
     "execution_count": 39,
     "metadata": {},
     "output_type": "execute_result"
    }
   ],
   "source": [
    "# Удалим строку и проверим результат\n",
    "visit_and_buy = visit_and_buy.drop(visit_and_buy.query('source_id ==7 or source_id == 6').index)\n",
    "visit_and_buy.query('source_id ==7 or source_id == 6')"
   ]
  },
  {
   "cell_type": "code",
   "execution_count": 40,
   "metadata": {},
   "outputs": [
    {
     "data": {
      "text/plain": [
       "3     0 days 00:20:00\n",
       "5     0 days 15:11:00\n",
       "12   20 days 18:37:00\n",
       "15    0 days 00:24:00\n",
       "25    3 days 09:56:00\n",
       "Name: think_time, dtype: timedelta64[ns]"
      ]
     },
     "execution_count": 40,
     "metadata": {},
     "output_type": "execute_result"
    }
   ],
   "source": [
    "# Посчитаем время между визитом и покупкой\n",
    "visit_and_buy['think_time'] = (visit_and_buy['first_buy_ts'] - visit_and_buy['first_visit_datetime'])\n",
    "visit_and_buy.head()['think_time']"
   ]
  },
  {
   "cell_type": "code",
   "execution_count": 41,
   "metadata": {
    "scrolled": false
   },
   "outputs": [
    {
     "data": {
      "image/png": "[encoded data removed]",
      "text/plain": [
       "<Figure size 1080x504 with 1 Axes>"
      ]
     },
     "metadata": {},
     "output_type": "display_data"
    }
   ],
   "source": [
    "# Построим распределение \n",
    "(visit_and_buy['think_time'] / np.timedelta64(1,'m')).hist(figsize=(15,7), bins=50, range=(0, 100))\n",
    "plt.title('Распределение покупок по времени')\n",
    "plt.xlabel(\"Время в минутах до покупки\")\n",
    "plt.ylabel(\"Количество покупок\");"
   ]
  },
  {
   "cell_type": "markdown",
   "metadata": {},
   "source": [
    "Видим, что покупки в основном совершаются в первые же минуты, после визита на сайт. В случае покупок билетов люди обычно заранее знают, что именно хотят купить, поэтому получается такое короткое время."
   ]
  },
  {
   "cell_type": "markdown",
   "metadata": {},
   "source": [
    "---\n",
    "\n",
    "\n",
    "<div class=\"alert alert-block alert-success\">\n",
    "    \n",
    "\n",
    "### Комментарий от ревьюера\n",
    "\n",
    "Да, возможно это верная гипотеза, но и хороший повод для нового исследования\n",
    "\n",
    "</div>\n",
    "    \n",
    "---\n"
   ]
  },
  {
   "cell_type": "markdown",
   "metadata": {},
   "source": [
    "***"
   ]
  },
  {
   "cell_type": "markdown",
   "metadata": {},
   "source": [
    "Узнаем, сколько раз люди покупают за период. Для этого построим сводную таблицу, в которой будет отражено изменение среднего количества покупок на клиента по когортам в различных месяцах."
   ]
  },
  {
   "cell_type": "code",
   "execution_count": 42,
   "metadata": {},
   "outputs": [
    {
     "data": {
      "text/plain": [
       "36080"
      ]
     },
     "execution_count": 42,
     "metadata": {},
     "output_type": "execute_result"
    }
   ],
   "source": [
    "visit_and_buy['uid'].nunique()"
   ]
  },
  {
   "cell_type": "code",
   "execution_count": 43,
   "metadata": {},
   "outputs": [
    {
     "name": "stdout",
     "output_type": "stream",
     "text": [
      "Всего посещений: 323606\n",
      "Всего уникальных пользователей: 207051 \n",
      "\n",
      "Всего пользоватей, совершивших хотя бы одну покупку: 91740\n",
      "Процент пользоватей, совершивших хотя бы одну покупку: 44.31%\n",
      "\n",
      "Количество покупателей, совершивших несколько покупок: 17003\n",
      "Процент покупателей, совершивших несколько покупок: 8.21%\n"
     ]
    }
   ],
   "source": [
    "# Сначала посчитаем общую информацию.\n",
    "buyers_rate = visit_and_buy['first_buy_ts'].count() / visits_log['uid'].nunique()\n",
    "regular_buyers = visit_and_buy.groupby('uid').agg(buy_count=('first_buy_ts','count')).query('buy_count > 1').count()\n",
    "\n",
    "print(\"Всего посещений:\", visits_log['uid'].count())\n",
    "print(\"Всего уникальных пользователей:\", visits_log['uid'].nunique(), \"\\n\")\n",
    "print(\"Всего пользоватей, совершивших хотя бы одну покупку:\", visit_and_buy['first_buy_ts'].count())\n",
    "print(\"Процент пользоватей, совершивших хотя бы одну покупку: {:.2%}\\n\".format(buyers_rate))\n",
    "print(\"Количество покупателей, совершивших несколько покупок:\", int(regular_buyers))\n",
    "print(\"Процент покупателей, совершивших несколько покупок: {:.2%}\".format(float(regular_buyers / visits_log['uid'].nunique())))"
   ]
  },
  {
   "cell_type": "markdown",
   "metadata": {},
   "source": [
    "Почти 44% от всех 207051 клиентов совершили хотя бы одну покупку, 8% покупали несколько раз.  \n",
    "Кроме того нужно помнить, что было 35794 сессий с нулевым временем. Это вполне может быть вызвано к примеру тем, что клиенты часто мискликают по какому нибудь окну с очень навзячивой рекламой, после чего сразу закрывают окно. Это также требует дополнительного исследования."
   ]
  },
  {
   "cell_type": "markdown",
   "metadata": {},
   "source": [
    "---\n",
    "\n",
    "\n",
    "<div class=\"alert alert-block alert-warning\">\n",
    "    \n",
    "\n",
    "### Комментарий от ревьюера\n",
    "\n",
    "Тут нужно помнить, что в самом начале ты снес почти 10% данных с нулевыми сессиями. Они появились в системе не просто так, их зафиксировали маркетологи. Стоит это принимать в расчет\n",
    "</div>\n",
    "    \n",
    "---\n"
   ]
  },
  {
   "cell_type": "markdown",
   "metadata": {},
   "source": [
    "<div class=\"alert alert-block alert-info\">\n",
    "\n",
    "### Комментарий от студента  \n",
    "    \n",
    "Исправил \n",
    "</div>"
   ]
  },
  {
   "cell_type": "code",
   "execution_count": 44,
   "metadata": {},
   "outputs": [
    {
     "data": {
      "text/html": [
       "<div>\n",
       "<style scoped>\n",
       "    .dataframe tbody tr th:only-of-type {\n",
       "        vertical-align: middle;\n",
       "    }\n",
       "\n",
       "    .dataframe tbody tr th {\n",
       "        vertical-align: top;\n",
       "    }\n",
       "\n",
       "    .dataframe thead th {\n",
       "        text-align: right;\n",
       "    }\n",
       "</style>\n",
       "<table border=\"1\" class=\"dataframe\">\n",
       "  <thead>\n",
       "    <tr style=\"text-align: right;\">\n",
       "      <th></th>\n",
       "      <th>buy_ts</th>\n",
       "      <th>revenue</th>\n",
       "      <th>uid</th>\n",
       "      <th>first_buy_ts</th>\n",
       "      <th>buy_month</th>\n",
       "      <th>first_buy_month</th>\n",
       "    </tr>\n",
       "  </thead>\n",
       "  <tbody>\n",
       "    <tr>\n",
       "      <td>0</td>\n",
       "      <td>2017-06-01 00:10:00</td>\n",
       "      <td>17.00</td>\n",
       "      <td>10329302124590727494</td>\n",
       "      <td>2017-06-01 00:10:00</td>\n",
       "      <td>2017-06-01</td>\n",
       "      <td>2017-06-01</td>\n",
       "    </tr>\n",
       "    <tr>\n",
       "      <td>1</td>\n",
       "      <td>2017-06-01 00:25:00</td>\n",
       "      <td>0.55</td>\n",
       "      <td>11627257723692907447</td>\n",
       "      <td>2017-06-01 00:25:00</td>\n",
       "      <td>2017-06-01</td>\n",
       "      <td>2017-06-01</td>\n",
       "    </tr>\n",
       "    <tr>\n",
       "      <td>2</td>\n",
       "      <td>2017-06-01 00:27:00</td>\n",
       "      <td>0.37</td>\n",
       "      <td>17903680561304213844</td>\n",
       "      <td>2017-06-01 00:27:00</td>\n",
       "      <td>2017-06-01</td>\n",
       "      <td>2017-06-01</td>\n",
       "    </tr>\n",
       "    <tr>\n",
       "      <td>3</td>\n",
       "      <td>2017-06-01 00:29:00</td>\n",
       "      <td>0.55</td>\n",
       "      <td>16109239769442553005</td>\n",
       "      <td>2017-06-01 00:29:00</td>\n",
       "      <td>2017-06-01</td>\n",
       "      <td>2017-06-01</td>\n",
       "    </tr>\n",
       "    <tr>\n",
       "      <td>4</td>\n",
       "      <td>2017-06-01 07:58:00</td>\n",
       "      <td>0.37</td>\n",
       "      <td>14200605875248379450</td>\n",
       "      <td>2017-06-01 07:58:00</td>\n",
       "      <td>2017-06-01</td>\n",
       "      <td>2017-06-01</td>\n",
       "    </tr>\n",
       "  </tbody>\n",
       "</table>\n",
       "</div>"
      ],
      "text/plain": [
       "               buy_ts  revenue                   uid        first_buy_ts  \\\n",
       "0 2017-06-01 00:10:00    17.00  10329302124590727494 2017-06-01 00:10:00   \n",
       "1 2017-06-01 00:25:00     0.55  11627257723692907447 2017-06-01 00:25:00   \n",
       "2 2017-06-01 00:27:00     0.37  17903680561304213844 2017-06-01 00:27:00   \n",
       "3 2017-06-01 00:29:00     0.55  16109239769442553005 2017-06-01 00:29:00   \n",
       "4 2017-06-01 07:58:00     0.37  14200605875248379450 2017-06-01 07:58:00   \n",
       "\n",
       "   buy_month first_buy_month  \n",
       "0 2017-06-01      2017-06-01  \n",
       "1 2017-06-01      2017-06-01  \n",
       "2 2017-06-01      2017-06-01  \n",
       "3 2017-06-01      2017-06-01  \n",
       "4 2017-06-01      2017-06-01  "
      ]
     },
     "execution_count": 44,
     "metadata": {},
     "output_type": "execute_result"
    }
   ],
   "source": [
    "# Добавим столбец с времнем первой покупки в таблицу с заказами\n",
    "# Добавим вспомогательную информацию для построения когорт\n",
    "orders_log = orders_log.join(first_buy_ts, on='uid')\n",
    "orders_log['buy_month'] = orders_log['buy_ts'].astype('datetime64[M]')\n",
    "orders_log['first_buy_month'] = orders_log['first_buy_ts'].astype('datetime64[M]')\n",
    "orders_log.head() "
   ]
  },
  {
   "cell_type": "markdown",
   "metadata": {},
   "source": [
    "Сгруппируем покупки по когортам. Для каждого периода посчитаем общую выручку, количество заказов и пользователей, среднее количетсво заказов и средний чек."
   ]
  },
  {
   "cell_type": "code",
   "execution_count": 45,
   "metadata": {
    "scrolled": true
   },
   "outputs": [
    {
     "data": {
      "text/html": [
       "<div>\n",
       "<style scoped>\n",
       "    .dataframe tbody tr th:only-of-type {\n",
       "        vertical-align: middle;\n",
       "    }\n",
       "\n",
       "    .dataframe tbody tr th {\n",
       "        vertical-align: top;\n",
       "    }\n",
       "\n",
       "    .dataframe thead th {\n",
       "        text-align: right;\n",
       "    }\n",
       "</style>\n",
       "<table border=\"1\" class=\"dataframe\">\n",
       "  <thead>\n",
       "    <tr style=\"text-align: right;\">\n",
       "      <th></th>\n",
       "      <th></th>\n",
       "      <th>total_revenue</th>\n",
       "      <th>amount_of_orders</th>\n",
       "      <th>amount_of_users</th>\n",
       "      <th>orders_per_user</th>\n",
       "      <th>revenue_per_user</th>\n",
       "    </tr>\n",
       "    <tr>\n",
       "      <th>first_buy_month</th>\n",
       "      <th>buy_month</th>\n",
       "      <th></th>\n",
       "      <th></th>\n",
       "      <th></th>\n",
       "      <th></th>\n",
       "      <th></th>\n",
       "    </tr>\n",
       "  </thead>\n",
       "  <tbody>\n",
       "    <tr>\n",
       "      <td rowspan=\"5\" valign=\"top\">2017-06-01</td>\n",
       "      <td>2017-06-01</td>\n",
       "      <td>9557.49</td>\n",
       "      <td>2354</td>\n",
       "      <td>2023</td>\n",
       "      <td>1.163618</td>\n",
       "      <td>4.724414</td>\n",
       "    </tr>\n",
       "    <tr>\n",
       "      <td>2017-07-01</td>\n",
       "      <td>981.82</td>\n",
       "      <td>177</td>\n",
       "      <td>61</td>\n",
       "      <td>2.901639</td>\n",
       "      <td>16.095410</td>\n",
       "    </tr>\n",
       "    <tr>\n",
       "      <td>2017-08-01</td>\n",
       "      <td>885.34</td>\n",
       "      <td>174</td>\n",
       "      <td>50</td>\n",
       "      <td>3.480000</td>\n",
       "      <td>17.706800</td>\n",
       "    </tr>\n",
       "    <tr>\n",
       "      <td>2017-09-01</td>\n",
       "      <td>1931.30</td>\n",
       "      <td>226</td>\n",
       "      <td>54</td>\n",
       "      <td>4.185185</td>\n",
       "      <td>35.764815</td>\n",
       "    </tr>\n",
       "    <tr>\n",
       "      <td>2017-10-01</td>\n",
       "      <td>2068.58</td>\n",
       "      <td>292</td>\n",
       "      <td>88</td>\n",
       "      <td>3.318182</td>\n",
       "      <td>23.506591</td>\n",
       "    </tr>\n",
       "  </tbody>\n",
       "</table>\n",
       "</div>"
      ],
      "text/plain": [
       "                            total_revenue  amount_of_orders  amount_of_users  \\\n",
       "first_buy_month buy_month                                                      \n",
       "2017-06-01      2017-06-01        9557.49              2354             2023   \n",
       "                2017-07-01         981.82               177               61   \n",
       "                2017-08-01         885.34               174               50   \n",
       "                2017-09-01        1931.30               226               54   \n",
       "                2017-10-01        2068.58               292               88   \n",
       "\n",
       "                            orders_per_user  revenue_per_user  \n",
       "first_buy_month buy_month                                      \n",
       "2017-06-01      2017-06-01         1.163618          4.724414  \n",
       "                2017-07-01         2.901639         16.095410  \n",
       "                2017-08-01         3.480000         17.706800  \n",
       "                2017-09-01         4.185185         35.764815  \n",
       "                2017-10-01         3.318182         23.506591  "
      ]
     },
     "execution_count": 45,
     "metadata": {},
     "output_type": "execute_result"
    }
   ],
   "source": [
    "orders_grouped = (orders_log\n",
    "                  .groupby(['first_buy_month','buy_month'])\n",
    "                  .agg(\n",
    "                      total_revenue = ('revenue','sum'),\n",
    "                      amount_of_orders = ('uid','count'),\n",
    "                      amount_of_users = ('uid','nunique')))\n",
    "\n",
    "orders_grouped['orders_per_user'] = orders_grouped['amount_of_orders'] / orders_grouped['amount_of_users']\n",
    "orders_grouped['revenue_per_user'] = orders_grouped['total_revenue'] / orders_grouped['amount_of_users']\n",
    "orders_grouped.head()"
   ]
  },
  {
   "cell_type": "code",
   "execution_count": 46,
   "metadata": {
    "scrolled": true
   },
   "outputs": [
    {
     "data": {
      "text/html": [
       "<div>\n",
       "<style scoped>\n",
       "    .dataframe tbody tr th:only-of-type {\n",
       "        vertical-align: middle;\n",
       "    }\n",
       "\n",
       "    .dataframe tbody tr th {\n",
       "        vertical-align: top;\n",
       "    }\n",
       "\n",
       "    .dataframe thead th {\n",
       "        text-align: right;\n",
       "    }\n",
       "</style>\n",
       "<table border=\"1\" class=\"dataframe\">\n",
       "  <thead>\n",
       "    <tr style=\"text-align: right;\">\n",
       "      <th></th>\n",
       "      <th>first_buy_month</th>\n",
       "      <th>buy_month</th>\n",
       "      <th>total_revenue</th>\n",
       "      <th>amount_of_orders</th>\n",
       "      <th>amount_of_users</th>\n",
       "      <th>orders_per_user</th>\n",
       "      <th>revenue_per_user</th>\n",
       "      <th>cohort_lifetime</th>\n",
       "    </tr>\n",
       "  </thead>\n",
       "  <tbody>\n",
       "    <tr>\n",
       "      <td>0</td>\n",
       "      <td>2017-06-01</td>\n",
       "      <td>2017-06-01</td>\n",
       "      <td>9557.49</td>\n",
       "      <td>2354</td>\n",
       "      <td>2023</td>\n",
       "      <td>1.163618</td>\n",
       "      <td>4.724414</td>\n",
       "      <td>0.0</td>\n",
       "    </tr>\n",
       "    <tr>\n",
       "      <td>1</td>\n",
       "      <td>2017-06-01</td>\n",
       "      <td>2017-07-01</td>\n",
       "      <td>981.82</td>\n",
       "      <td>177</td>\n",
       "      <td>61</td>\n",
       "      <td>2.901639</td>\n",
       "      <td>16.095410</td>\n",
       "      <td>1.0</td>\n",
       "    </tr>\n",
       "    <tr>\n",
       "      <td>2</td>\n",
       "      <td>2017-06-01</td>\n",
       "      <td>2017-08-01</td>\n",
       "      <td>885.34</td>\n",
       "      <td>174</td>\n",
       "      <td>50</td>\n",
       "      <td>3.480000</td>\n",
       "      <td>17.706800</td>\n",
       "      <td>2.0</td>\n",
       "    </tr>\n",
       "    <tr>\n",
       "      <td>3</td>\n",
       "      <td>2017-06-01</td>\n",
       "      <td>2017-09-01</td>\n",
       "      <td>1931.30</td>\n",
       "      <td>226</td>\n",
       "      <td>54</td>\n",
       "      <td>4.185185</td>\n",
       "      <td>35.764815</td>\n",
       "      <td>3.0</td>\n",
       "    </tr>\n",
       "    <tr>\n",
       "      <td>4</td>\n",
       "      <td>2017-06-01</td>\n",
       "      <td>2017-10-01</td>\n",
       "      <td>2068.58</td>\n",
       "      <td>292</td>\n",
       "      <td>88</td>\n",
       "      <td>3.318182</td>\n",
       "      <td>23.506591</td>\n",
       "      <td>4.0</td>\n",
       "    </tr>\n",
       "  </tbody>\n",
       "</table>\n",
       "</div>"
      ],
      "text/plain": [
       "  first_buy_month  buy_month  total_revenue  amount_of_orders  \\\n",
       "0      2017-06-01 2017-06-01        9557.49              2354   \n",
       "1      2017-06-01 2017-07-01         981.82               177   \n",
       "2      2017-06-01 2017-08-01         885.34               174   \n",
       "3      2017-06-01 2017-09-01        1931.30               226   \n",
       "4      2017-06-01 2017-10-01        2068.58               292   \n",
       "\n",
       "   amount_of_users  orders_per_user  revenue_per_user  cohort_lifetime  \n",
       "0             2023         1.163618          4.724414              0.0  \n",
       "1               61         2.901639         16.095410              1.0  \n",
       "2               50         3.480000         17.706800              2.0  \n",
       "3               54         4.185185         35.764815              3.0  \n",
       "4               88         3.318182         23.506591              4.0  "
      ]
     },
     "execution_count": 46,
     "metadata": {},
     "output_type": "execute_result"
    }
   ],
   "source": [
    "# Доавим время жизни когорты\n",
    "orders_grouped = orders_grouped.reset_index()\n",
    "orders_grouped['cohort_lifetime'] = (orders_grouped['buy_month'] - orders_grouped['first_buy_month']) / np.timedelta64(1,'M')\n",
    "orders_grouped['cohort_lifetime'] = round(orders_grouped['cohort_lifetime'].astype('float'))\n",
    "orders_grouped.head()"
   ]
  },
  {
   "cell_type": "code",
   "execution_count": 47,
   "metadata": {
    "scrolled": false
   },
   "outputs": [
    {
     "data": {
      "text/html": [
       "<div>\n",
       "<style scoped>\n",
       "    .dataframe tbody tr th:only-of-type {\n",
       "        vertical-align: middle;\n",
       "    }\n",
       "\n",
       "    .dataframe tbody tr th {\n",
       "        vertical-align: top;\n",
       "    }\n",
       "\n",
       "    .dataframe thead th {\n",
       "        text-align: right;\n",
       "    }\n",
       "</style>\n",
       "<table border=\"1\" class=\"dataframe\">\n",
       "  <thead>\n",
       "    <tr style=\"text-align: right;\">\n",
       "      <th>cohort_lifetime</th>\n",
       "      <th>0.0</th>\n",
       "      <th>1.0</th>\n",
       "      <th>2.0</th>\n",
       "      <th>3.0</th>\n",
       "      <th>4.0</th>\n",
       "      <th>5.0</th>\n",
       "      <th>6.0</th>\n",
       "      <th>7.0</th>\n",
       "      <th>8.0</th>\n",
       "      <th>9.0</th>\n",
       "      <th>10.0</th>\n",
       "      <th>11.0</th>\n",
       "    </tr>\n",
       "    <tr>\n",
       "      <th>first_buy_month</th>\n",
       "      <th></th>\n",
       "      <th></th>\n",
       "      <th></th>\n",
       "      <th></th>\n",
       "      <th></th>\n",
       "      <th></th>\n",
       "      <th></th>\n",
       "      <th></th>\n",
       "      <th></th>\n",
       "      <th></th>\n",
       "      <th></th>\n",
       "      <th></th>\n",
       "    </tr>\n",
       "  </thead>\n",
       "  <tbody>\n",
       "    <tr>\n",
       "      <td>2017-06-01</td>\n",
       "      <td>1.163618</td>\n",
       "      <td>2.901639</td>\n",
       "      <td>3.480000</td>\n",
       "      <td>4.185185</td>\n",
       "      <td>3.318182</td>\n",
       "      <td>3.253731</td>\n",
       "      <td>4.451613</td>\n",
       "      <td>3.702128</td>\n",
       "      <td>3.655172</td>\n",
       "      <td>3.400000</td>\n",
       "      <td>2.133333</td>\n",
       "      <td>1.622642</td>\n",
       "    </tr>\n",
       "    <tr>\n",
       "      <td>2017-07-01</td>\n",
       "      <td>1.136765</td>\n",
       "      <td>1.923077</td>\n",
       "      <td>2.105263</td>\n",
       "      <td>1.625000</td>\n",
       "      <td>1.469388</td>\n",
       "      <td>2.157895</td>\n",
       "      <td>1.694444</td>\n",
       "      <td>1.282051</td>\n",
       "      <td>1.380952</td>\n",
       "      <td>1.090909</td>\n",
       "      <td>2.038462</td>\n",
       "      <td>NaN</td>\n",
       "    </tr>\n",
       "    <tr>\n",
       "      <td>2017-08-01</td>\n",
       "      <td>1.118978</td>\n",
       "      <td>1.862069</td>\n",
       "      <td>1.886792</td>\n",
       "      <td>1.840909</td>\n",
       "      <td>2.125000</td>\n",
       "      <td>1.937500</td>\n",
       "      <td>1.633333</td>\n",
       "      <td>1.772727</td>\n",
       "      <td>2.421053</td>\n",
       "      <td>1.483871</td>\n",
       "      <td>NaN</td>\n",
       "      <td>NaN</td>\n",
       "    </tr>\n",
       "    <tr>\n",
       "      <td>2017-09-01</td>\n",
       "      <td>1.136381</td>\n",
       "      <td>1.684615</td>\n",
       "      <td>1.610000</td>\n",
       "      <td>2.216216</td>\n",
       "      <td>1.288462</td>\n",
       "      <td>1.703125</td>\n",
       "      <td>1.636364</td>\n",
       "      <td>1.513514</td>\n",
       "      <td>1.418605</td>\n",
       "      <td>NaN</td>\n",
       "      <td>NaN</td>\n",
       "      <td>NaN</td>\n",
       "    </tr>\n",
       "    <tr>\n",
       "      <td>2017-10-01</td>\n",
       "      <td>1.143779</td>\n",
       "      <td>1.524272</td>\n",
       "      <td>1.317073</td>\n",
       "      <td>1.326087</td>\n",
       "      <td>1.387097</td>\n",
       "      <td>1.430556</td>\n",
       "      <td>1.535714</td>\n",
       "      <td>1.865672</td>\n",
       "      <td>NaN</td>\n",
       "      <td>NaN</td>\n",
       "      <td>NaN</td>\n",
       "      <td>NaN</td>\n",
       "    </tr>\n",
       "  </tbody>\n",
       "</table>\n",
       "</div>"
      ],
      "text/plain": [
       "cohort_lifetime      0.0       1.0       2.0       3.0       4.0       5.0   \\\n",
       "first_buy_month                                                               \n",
       "2017-06-01       1.163618  2.901639  3.480000  4.185185  3.318182  3.253731   \n",
       "2017-07-01       1.136765  1.923077  2.105263  1.625000  1.469388  2.157895   \n",
       "2017-08-01       1.118978  1.862069  1.886792  1.840909  2.125000  1.937500   \n",
       "2017-09-01       1.136381  1.684615  1.610000  2.216216  1.288462  1.703125   \n",
       "2017-10-01       1.143779  1.524272  1.317073  1.326087  1.387097  1.430556   \n",
       "\n",
       "cohort_lifetime      6.0       7.0       8.0       9.0       10.0      11.0  \n",
       "first_buy_month                                                              \n",
       "2017-06-01       4.451613  3.702128  3.655172  3.400000  2.133333  1.622642  \n",
       "2017-07-01       1.694444  1.282051  1.380952  1.090909  2.038462       NaN  \n",
       "2017-08-01       1.633333  1.772727  2.421053  1.483871       NaN       NaN  \n",
       "2017-09-01       1.636364  1.513514  1.418605       NaN       NaN       NaN  \n",
       "2017-10-01       1.535714  1.865672       NaN       NaN       NaN       NaN  "
      ]
     },
     "execution_count": 47,
     "metadata": {},
     "output_type": "execute_result"
    }
   ],
   "source": [
    "# Создадим сводную таблицу по количеству заказов\n",
    "orders_pivot = orders_grouped.pivot_table(index='first_buy_month',\n",
    "                                            columns='cohort_lifetime',\n",
    "                                            values='orders_per_user',\n",
    "                                            aggfunc='sum')\n",
    "orders_pivot.head()"
   ]
  },
  {
   "cell_type": "code",
   "execution_count": 48,
   "metadata": {
    "scrolled": false
   },
   "outputs": [
    {
     "data": {
      "image/png": "[encoded data removed]",
      "text/plain": [
       "<Figure size 936x648 with 2 Axes>"
      ]
     },
     "metadata": {},
     "output_type": "display_data"
    }
   ],
   "source": [
    "# Построим тепловую карту\n",
    "sns.set(style='white')\n",
    "plt.figure(figsize=(13, 9))\n",
    "sns.heatmap(orders_pivot, annot=True, fmt='.2f', linewidths=1, linecolor='gray',  cmap=sns.cm.rocket_r)\n",
    "plt.title('Среднее количество покупок')\n",
    "plt.xlabel(\"Время жизни когорты\")\n",
    "plt.ylabel(\"Месяц первой активности\");"
   ]
  },
  {
   "cell_type": "markdown",
   "metadata": {},
   "source": [
    "В среднем люди покупают 2-3 раза за месяц. Первая когорта покупала активнее всего.  \n",
    "Для того, чтобы получить репрезентативные результаты, нужно выбрать единое время жизни когорт. Пусть это будет полгода, таким образом мы оставим чуть больше половины данных, и при этом сможем пронаблюдать динамику данных."
   ]
  },
  {
   "cell_type": "code",
   "execution_count": 49,
   "metadata": {
    "scrolled": true
   },
   "outputs": [
    {
     "data": {
      "text/html": [
       "<div>\n",
       "<style scoped>\n",
       "    .dataframe tbody tr th:only-of-type {\n",
       "        vertical-align: middle;\n",
       "    }\n",
       "\n",
       "    .dataframe tbody tr th {\n",
       "        vertical-align: top;\n",
       "    }\n",
       "\n",
       "    .dataframe thead th {\n",
       "        text-align: right;\n",
       "    }\n",
       "</style>\n",
       "<table border=\"1\" class=\"dataframe\">\n",
       "  <thead>\n",
       "    <tr style=\"text-align: right;\">\n",
       "      <th></th>\n",
       "      <th>first_buy_month</th>\n",
       "      <th>buy_month</th>\n",
       "      <th>total_revenue</th>\n",
       "      <th>amount_of_orders</th>\n",
       "      <th>amount_of_users</th>\n",
       "      <th>orders_per_user</th>\n",
       "      <th>revenue_per_user</th>\n",
       "      <th>cohort_lifetime</th>\n",
       "      <th>max_cohort_lifetime</th>\n",
       "    </tr>\n",
       "  </thead>\n",
       "  <tbody>\n",
       "    <tr>\n",
       "      <td>0</td>\n",
       "      <td>2017-06-01</td>\n",
       "      <td>2017-06-01</td>\n",
       "      <td>9557.49</td>\n",
       "      <td>2354</td>\n",
       "      <td>2023</td>\n",
       "      <td>1.163618</td>\n",
       "      <td>4.724414</td>\n",
       "      <td>0.0</td>\n",
       "      <td>11.0</td>\n",
       "    </tr>\n",
       "    <tr>\n",
       "      <td>1</td>\n",
       "      <td>2017-06-01</td>\n",
       "      <td>2017-07-01</td>\n",
       "      <td>981.82</td>\n",
       "      <td>177</td>\n",
       "      <td>61</td>\n",
       "      <td>2.901639</td>\n",
       "      <td>16.095410</td>\n",
       "      <td>1.0</td>\n",
       "      <td>11.0</td>\n",
       "    </tr>\n",
       "    <tr>\n",
       "      <td>2</td>\n",
       "      <td>2017-06-01</td>\n",
       "      <td>2017-08-01</td>\n",
       "      <td>885.34</td>\n",
       "      <td>174</td>\n",
       "      <td>50</td>\n",
       "      <td>3.480000</td>\n",
       "      <td>17.706800</td>\n",
       "      <td>2.0</td>\n",
       "      <td>11.0</td>\n",
       "    </tr>\n",
       "    <tr>\n",
       "      <td>3</td>\n",
       "      <td>2017-06-01</td>\n",
       "      <td>2017-09-01</td>\n",
       "      <td>1931.30</td>\n",
       "      <td>226</td>\n",
       "      <td>54</td>\n",
       "      <td>4.185185</td>\n",
       "      <td>35.764815</td>\n",
       "      <td>3.0</td>\n",
       "      <td>11.0</td>\n",
       "    </tr>\n",
       "    <tr>\n",
       "      <td>4</td>\n",
       "      <td>2017-06-01</td>\n",
       "      <td>2017-10-01</td>\n",
       "      <td>2068.58</td>\n",
       "      <td>292</td>\n",
       "      <td>88</td>\n",
       "      <td>3.318182</td>\n",
       "      <td>23.506591</td>\n",
       "      <td>4.0</td>\n",
       "      <td>11.0</td>\n",
       "    </tr>\n",
       "  </tbody>\n",
       "</table>\n",
       "</div>"
      ],
      "text/plain": [
       "  first_buy_month  buy_month  total_revenue  amount_of_orders  \\\n",
       "0      2017-06-01 2017-06-01        9557.49              2354   \n",
       "1      2017-06-01 2017-07-01         981.82               177   \n",
       "2      2017-06-01 2017-08-01         885.34               174   \n",
       "3      2017-06-01 2017-09-01        1931.30               226   \n",
       "4      2017-06-01 2017-10-01        2068.58               292   \n",
       "\n",
       "   amount_of_users  orders_per_user  revenue_per_user  cohort_lifetime  \\\n",
       "0             2023         1.163618          4.724414              0.0   \n",
       "1               61         2.901639         16.095410              1.0   \n",
       "2               50         3.480000         17.706800              2.0   \n",
       "3               54         4.185185         35.764815              3.0   \n",
       "4               88         3.318182         23.506591              4.0   \n",
       "\n",
       "   max_cohort_lifetime  \n",
       "0                 11.0  \n",
       "1                 11.0  \n",
       "2                 11.0  \n",
       "3                 11.0  \n",
       "4                 11.0  "
      ]
     },
     "execution_count": 49,
     "metadata": {},
     "output_type": "execute_result"
    }
   ],
   "source": [
    "# Для каждой когорты найдем максимальное время жизни\n",
    "orders_grouped = (orders_grouped\n",
    "                  .join(orders_grouped\n",
    "                        .groupby('first_buy_month')\n",
    "                        .agg(max_cohort_lifetime=('cohort_lifetime','max')), on='first_buy_month'\n",
    "                  )\n",
    "                 )\n",
    "orders_grouped.head()"
   ]
  },
  {
   "cell_type": "code",
   "execution_count": 50,
   "metadata": {},
   "outputs": [
    {
     "data": {
      "text/html": [
       "<div>\n",
       "<style scoped>\n",
       "    .dataframe tbody tr th:only-of-type {\n",
       "        vertical-align: middle;\n",
       "    }\n",
       "\n",
       "    .dataframe tbody tr th {\n",
       "        vertical-align: top;\n",
       "    }\n",
       "\n",
       "    .dataframe thead th {\n",
       "        text-align: right;\n",
       "    }\n",
       "</style>\n",
       "<table border=\"1\" class=\"dataframe\">\n",
       "  <thead>\n",
       "    <tr style=\"text-align: right;\">\n",
       "      <th></th>\n",
       "      <th>first_buy_month</th>\n",
       "      <th>buy_month</th>\n",
       "      <th>total_revenue</th>\n",
       "      <th>amount_of_orders</th>\n",
       "      <th>amount_of_users</th>\n",
       "      <th>orders_per_user</th>\n",
       "      <th>revenue_per_user</th>\n",
       "      <th>cohort_lifetime</th>\n",
       "      <th>max_cohort_lifetime</th>\n",
       "      <th>initial_cohort_size</th>\n",
       "    </tr>\n",
       "  </thead>\n",
       "  <tbody>\n",
       "    <tr>\n",
       "      <td>0</td>\n",
       "      <td>2017-06-01</td>\n",
       "      <td>2017-06-01</td>\n",
       "      <td>9557.49</td>\n",
       "      <td>2354</td>\n",
       "      <td>2023</td>\n",
       "      <td>1.163618</td>\n",
       "      <td>4.724414</td>\n",
       "      <td>0.0</td>\n",
       "      <td>11.0</td>\n",
       "      <td>2023</td>\n",
       "    </tr>\n",
       "    <tr>\n",
       "      <td>1</td>\n",
       "      <td>2017-06-01</td>\n",
       "      <td>2017-07-01</td>\n",
       "      <td>981.82</td>\n",
       "      <td>177</td>\n",
       "      <td>61</td>\n",
       "      <td>2.901639</td>\n",
       "      <td>16.095410</td>\n",
       "      <td>1.0</td>\n",
       "      <td>11.0</td>\n",
       "      <td>2023</td>\n",
       "    </tr>\n",
       "    <tr>\n",
       "      <td>2</td>\n",
       "      <td>2017-06-01</td>\n",
       "      <td>2017-08-01</td>\n",
       "      <td>885.34</td>\n",
       "      <td>174</td>\n",
       "      <td>50</td>\n",
       "      <td>3.480000</td>\n",
       "      <td>17.706800</td>\n",
       "      <td>2.0</td>\n",
       "      <td>11.0</td>\n",
       "      <td>2023</td>\n",
       "    </tr>\n",
       "    <tr>\n",
       "      <td>3</td>\n",
       "      <td>2017-06-01</td>\n",
       "      <td>2017-09-01</td>\n",
       "      <td>1931.30</td>\n",
       "      <td>226</td>\n",
       "      <td>54</td>\n",
       "      <td>4.185185</td>\n",
       "      <td>35.764815</td>\n",
       "      <td>3.0</td>\n",
       "      <td>11.0</td>\n",
       "      <td>2023</td>\n",
       "    </tr>\n",
       "    <tr>\n",
       "      <td>4</td>\n",
       "      <td>2017-06-01</td>\n",
       "      <td>2017-10-01</td>\n",
       "      <td>2068.58</td>\n",
       "      <td>292</td>\n",
       "      <td>88</td>\n",
       "      <td>3.318182</td>\n",
       "      <td>23.506591</td>\n",
       "      <td>4.0</td>\n",
       "      <td>11.0</td>\n",
       "      <td>2023</td>\n",
       "    </tr>\n",
       "  </tbody>\n",
       "</table>\n",
       "</div>"
      ],
      "text/plain": [
       "  first_buy_month  buy_month  total_revenue  amount_of_orders  \\\n",
       "0      2017-06-01 2017-06-01        9557.49              2354   \n",
       "1      2017-06-01 2017-07-01         981.82               177   \n",
       "2      2017-06-01 2017-08-01         885.34               174   \n",
       "3      2017-06-01 2017-09-01        1931.30               226   \n",
       "4      2017-06-01 2017-10-01        2068.58               292   \n",
       "\n",
       "   amount_of_users  orders_per_user  revenue_per_user  cohort_lifetime  \\\n",
       "0             2023         1.163618          4.724414              0.0   \n",
       "1               61         2.901639         16.095410              1.0   \n",
       "2               50         3.480000         17.706800              2.0   \n",
       "3               54         4.185185         35.764815              3.0   \n",
       "4               88         3.318182         23.506591              4.0   \n",
       "\n",
       "   max_cohort_lifetime  initial_cohort_size  \n",
       "0                 11.0                 2023  \n",
       "1                 11.0                 2023  \n",
       "2                 11.0                 2023  \n",
       "3                 11.0                 2023  \n",
       "4                 11.0                 2023  "
      ]
     },
     "execution_count": 50,
     "metadata": {},
     "output_type": "execute_result"
    }
   ],
   "source": [
    "# Добавим в таблицу столбец с изначальными размерами когорты\n",
    "orders_grouped = (orders_grouped.merge(orders_log\n",
    "                                       .groupby('first_buy_month')\n",
    "                                       .agg(initial_cohort_size= ('uid','nunique')),\n",
    "                                       on='first_buy_month'))\n",
    "orders_grouped.head()"
   ]
  },
  {
   "cell_type": "code",
   "execution_count": 52,
   "metadata": {},
   "outputs": [
    {
     "data": {
      "text/plain": [
       "first_buy_month\n",
       "2017-06-01    1.84\n",
       "2017-07-01    1.42\n",
       "2017-08-01    1.47\n",
       "2017-09-01    1.46\n",
       "2017-10-01    1.35\n",
       "2017-11-01    1.45\n",
       "Name: av_num_of_purchase, dtype: float64"
      ]
     },
     "execution_count": 52,
     "metadata": {},
     "output_type": "execute_result"
    }
   ],
   "source": [
    "# Поделим суммарное количество покупок для каждой когорты на изначальный размер когорты\n",
    "av_num_of_purchase_grouped = (orders_grouped\n",
    "                      .query('max_cohort_lifetime >=6 and cohort_lifetime<=6')\n",
    "                      .groupby('first_buy_month')\n",
    "                      .agg( total_amount_of_orders = ('amount_of_orders','sum'),\n",
    "                           initial_cohort_size = ('initial_cohort_size', 'max')\n",
    "                          )\n",
    "                     )\n",
    "av_num_of_purchase_grouped['av_num_of_purchase'] = (av_num_of_purchase_grouped['total_amount_of_orders'] \n",
    "                                                    / av_num_of_purchase_grouped['initial_cohort_size'])\n",
    "av_num_of_purchase_grouped['av_num_of_purchase'].round(2)"
   ]
  },
  {
   "cell_type": "markdown",
   "metadata": {},
   "source": [
    "За полгода среднее количество покупок на когорту уменьшилось с 1.84 до 1.45."
   ]
  },
  {
   "cell_type": "markdown",
   "metadata": {},
   "source": [
    "---\n",
    "\n",
    "\n",
    "<div class=\"alert alert-block alert-warning\">\n",
    "    \n",
    "\n",
    "### Комментарий от ревьюера\n",
    "\n",
    "Верно, тут хорошо бы еще посчитать среднее число покупок на пользователя к какому-то периоду, например за пол года\n",
    "</div>\n",
    "    \n",
    "---\n"
   ]
  },
  {
   "cell_type": "markdown",
   "metadata": {},
   "source": [
    "<div class=\"alert alert-block alert-info\">\n",
    "\n",
    "### Комментарий от студента  \n",
    "    \n",
    "Исправил \n",
    "</div>"
   ]
  },
  {
   "cell_type": "markdown",
   "metadata": {},
   "source": [
    "---\n",
    "\n",
    "<div class=\"alert alert-block alert-warning\">\n",
    "    \n",
    "\n",
    "### Комментарий от ревьюера V2\n",
    "\n",
    "Вот тут осторожней. У тебя по месяцам разное число покупателей. Этут метрику стоит считать от числа покупателей в когорте, а не в месяц\n",
    "\n",
    "</div>\n",
    "\n",
    "---\n"
   ]
  },
  {
   "cell_type": "markdown",
   "metadata": {},
   "source": [
    "<div class=\"alert alert-block alert-info\">\n",
    "\n",
    "### Комментарий от студента V2  \n",
    "    \n",
    "Исправил: Выделил когорты с жизнью больше  месяцев. Проссуммировал количество заказов для каждой когорты и поделил на изначальный размер когорты. \n",
    "</div>"
   ]
  },
  {
   "cell_type": "markdown",
   "metadata": {},
   "source": [
    "---\n",
    "\n",
    "<div class=\"alert alert-block alert-success\">\n",
    "    \n",
    "\n",
    "### Комментарий от ревьюера V3\n",
    "\n",
    "Супер!\n",
    "\n",
    "</div>\n",
    "\n",
    "---"
   ]
  },
  {
   "cell_type": "markdown",
   "metadata": {},
   "source": [
    "***"
   ]
  },
  {
   "cell_type": "markdown",
   "metadata": {},
   "source": [
    "Посчитаем средний чек. Построим сводную таблицу изменения среднего чека, где в столбцах будет lifetime, а строках — когорты."
   ]
  },
  {
   "cell_type": "code",
   "execution_count": 53,
   "metadata": {
    "scrolled": false
   },
   "outputs": [
    {
     "data": {
      "image/png": "[encoded data removed]",
      "text/plain": [
       "<Figure size 936x648 with 2 Axes>"
      ]
     },
     "metadata": {},
     "output_type": "display_data"
    }
   ],
   "source": [
    "# Построим сводную таблицу и тепловую карту\n",
    "revenue_per_user_pivot = orders_grouped.pivot_table(index='first_buy_month',\n",
    "                                                    columns='cohort_lifetime',\n",
    "                                                    values='revenue_per_user',\n",
    "                                                    aggfunc='mean')\n",
    "\n",
    "sns.set(style='white')\n",
    "plt.figure(figsize=(13, 9))\n",
    "sns.heatmap(revenue_per_user_pivot, annot=True, fmt='.2f', linewidths=1, linecolor='gray',  cmap=sns.cm.rocket_r)\n",
    "plt.title('Средний чек')\n",
    "plt.xlabel(\"Время жизни когорты\")\n",
    "plt.ylabel(\"Месяц первой активности\");"
   ]
  },
  {
   "cell_type": "markdown",
   "metadata": {},
   "source": [
    "Почти во всех когортах пик приходится на 3-4 месяц жизни. В сентябрьской когорте видим необычно высокий пик значения на 4 месяц."
   ]
  },
  {
   "cell_type": "code",
   "execution_count": 56,
   "metadata": {},
   "outputs": [
    {
     "data": {
      "text/plain": [
       "first_buy_month\n",
       "2017-06-01     9.31\n",
       "2017-07-01     7.78\n",
       "2017-08-01     7.59\n",
       "2017-09-01    13.01\n",
       "2017-10-01     6.24\n",
       "2017-11-01     6.40\n",
       "Name: av_check, dtype: float64"
      ]
     },
     "execution_count": 56,
     "metadata": {},
     "output_type": "execute_result"
    }
   ],
   "source": [
    "# Узнаем срдений чек по когорте\n",
    "av_check_grouped = (orders_grouped\n",
    "                      .query('max_cohort_lifetime >=6 and cohort_lifetime<=6')\n",
    "                      .groupby('first_buy_month')\n",
    "                      .agg( total_revenue = ('total_revenue','sum'),\n",
    "                           initial_cohort_size = ('initial_cohort_size', 'max')\n",
    "                          )\n",
    "                     )\n",
    "av_check_grouped['av_check'] = (av_check_grouped['total_revenue'] / av_check_grouped['initial_cohort_size'])\n",
    "av_check_grouped['av_check'].round(2)"
   ]
  },
  {
   "cell_type": "code",
   "execution_count": 71,
   "metadata": {},
   "outputs": [
    {
     "name": "stdout",
     "output_type": "stream",
     "text": [
      "Средний чек: 6.90 руб.\n"
     ]
    }
   ],
   "source": [
    "# Посчитаем общий средний чек \n",
    "av_check = (orders_log['revenue'].sum() \n",
    "            / (orders_log.groupby('first_buy_month').agg(initial_cohort_size= ('uid','nunique'))).sum())\n",
    "\n",
    "print(\"Средний чек: {:.2f} руб.\".format(float(av_check)))"
   ]
  },
  {
   "cell_type": "markdown",
   "metadata": {},
   "source": [
    "---\n",
    "\n",
    "\n",
    "<div class=\"alert alert-block alert-danger\">\n",
    "    \n",
    "\n",
    "### Комментарий от ревьюера\n",
    "\n",
    "Так какой же средний чек у бизнеса?\n",
    "</div>\n",
    "    \n",
    "---\n"
   ]
  },
  {
   "cell_type": "markdown",
   "metadata": {},
   "source": [
    "<div class=\"alert alert-block alert-info\">\n",
    "\n",
    "### Комментарий от студента  \n",
    "    \n",
    "Исправил \n",
    "</div>"
   ]
  },
  {
   "cell_type": "markdown",
   "metadata": {},
   "source": [
    "---\n",
    "\n",
    "\n",
    "<div class=\"alert alert-block alert-danger\">\n",
    "    \n",
    "\n",
    "### Комментарий от ревьюера V2\n",
    "\n",
    "Тут такая же ошибка что и выше\n",
    "\n",
    "Посмотрим пример:\n",
    "- 1 Месяц - 100 покупок по 1 руб (среднее -- 1 руб)\n",
    "- 2 Месяц - 1 покупка за 5 руб (среднее -- 5 руб)\n",
    "- В среднем по когорте (Твой вариант) (1+5)/2 = 3\n",
    "- В среднем по когорте (реальный расчет) (100*1 + 1*5)/101 = 1,04\n",
    "\n",
    "Посмотри насколько сильно может различаться ответ, если усреднять несопоставимые понятия. А у нас именно так и происходит, все покупки в основном совершаются в первый месяц    \n",
    "\n",
    "</div>\n",
    "    \n",
    "---\n"
   ]
  },
  {
   "cell_type": "markdown",
   "metadata": {},
   "source": [
    "<div class=\"alert alert-block alert-info\">\n",
    "\n",
    "### Комментарий от студента V2  \n",
    "    \n",
    "Исправил. Посчитал средничй чек по когортам, так же, как и в предыдущем пункте. + Поделил общую выручку на общее количество уникальных пользователей, чтобы найти общий средний чек.\n",
    "</div>"
   ]
  },
  {
   "cell_type": "markdown",
   "metadata": {},
   "source": [
    "---\n",
    "\n",
    "<div class=\"alert alert-block alert-success\">\n",
    "    \n",
    "\n",
    "### Комментарий от ревьюера V3\n",
    "\n",
    "Принимается\n",
    "\n",
    "</div>\n",
    "\n",
    "---"
   ]
  },
  {
   "cell_type": "markdown",
   "metadata": {},
   "source": [
    "***"
   ]
  },
  {
   "cell_type": "markdown",
   "metadata": {},
   "source": [
    "Посчитаем LTV, то есть сколько денег приносят пользователи.  \n",
    "Маржинальность нам неизвестна, но в случае онлайн продаж она в любом случае перенебрежимо мала. Поэтому при расчетах маржинальностью можно пренебречь."
   ]
  },
  {
   "cell_type": "code",
   "execution_count": 54,
   "metadata": {},
   "outputs": [
    {
     "data": {
      "text/plain": [
       "0    4.724414\n",
       "1    0.485329\n",
       "2    0.437637\n",
       "3    0.954671\n",
       "4    1.022531\n",
       "Name: ltv, dtype: float64"
      ]
     },
     "execution_count": 54,
     "metadata": {},
     "output_type": "execute_result"
    }
   ],
   "source": [
    "# Посчитаем LTV \n",
    "orders_grouped['ltv'] = orders_grouped['total_revenue'] / orders_grouped['initial_cohort_size']\n",
    "orders_grouped.head()['ltv']"
   ]
  },
  {
   "cell_type": "code",
   "execution_count": 55,
   "metadata": {},
   "outputs": [
    {
     "data": {
      "text/html": [
       "<div>\n",
       "<style scoped>\n",
       "    .dataframe tbody tr th:only-of-type {\n",
       "        vertical-align: middle;\n",
       "    }\n",
       "\n",
       "    .dataframe tbody tr th {\n",
       "        vertical-align: top;\n",
       "    }\n",
       "\n",
       "    .dataframe thead th {\n",
       "        text-align: right;\n",
       "    }\n",
       "</style>\n",
       "<table border=\"1\" class=\"dataframe\">\n",
       "  <thead>\n",
       "    <tr style=\"text-align: right;\">\n",
       "      <th></th>\n",
       "      <th>first_buy_month</th>\n",
       "      <th>buy_month</th>\n",
       "      <th>total_revenue</th>\n",
       "      <th>amount_of_orders</th>\n",
       "      <th>amount_of_users</th>\n",
       "      <th>orders_per_user</th>\n",
       "      <th>revenue_per_user</th>\n",
       "      <th>cohort_lifetime</th>\n",
       "      <th>initial_cohort_size</th>\n",
       "      <th>ltv</th>\n",
       "    </tr>\n",
       "  </thead>\n",
       "  <tbody>\n",
       "    <tr>\n",
       "      <td>0</td>\n",
       "      <td>2017-06-01</td>\n",
       "      <td>2017-06-01</td>\n",
       "      <td>9557.49</td>\n",
       "      <td>2354</td>\n",
       "      <td>2023</td>\n",
       "      <td>1.163618</td>\n",
       "      <td>4.724414</td>\n",
       "      <td>0.0</td>\n",
       "      <td>2023</td>\n",
       "      <td>4.724414</td>\n",
       "    </tr>\n",
       "    <tr>\n",
       "      <td>1</td>\n",
       "      <td>2017-06-01</td>\n",
       "      <td>2017-07-01</td>\n",
       "      <td>981.82</td>\n",
       "      <td>177</td>\n",
       "      <td>61</td>\n",
       "      <td>2.901639</td>\n",
       "      <td>16.095410</td>\n",
       "      <td>1.0</td>\n",
       "      <td>2023</td>\n",
       "      <td>0.485329</td>\n",
       "    </tr>\n",
       "    <tr>\n",
       "      <td>2</td>\n",
       "      <td>2017-06-01</td>\n",
       "      <td>2017-08-01</td>\n",
       "      <td>885.34</td>\n",
       "      <td>174</td>\n",
       "      <td>50</td>\n",
       "      <td>3.480000</td>\n",
       "      <td>17.706800</td>\n",
       "      <td>2.0</td>\n",
       "      <td>2023</td>\n",
       "      <td>0.437637</td>\n",
       "    </tr>\n",
       "    <tr>\n",
       "      <td>3</td>\n",
       "      <td>2017-06-01</td>\n",
       "      <td>2017-09-01</td>\n",
       "      <td>1931.30</td>\n",
       "      <td>226</td>\n",
       "      <td>54</td>\n",
       "      <td>4.185185</td>\n",
       "      <td>35.764815</td>\n",
       "      <td>3.0</td>\n",
       "      <td>2023</td>\n",
       "      <td>0.954671</td>\n",
       "    </tr>\n",
       "    <tr>\n",
       "      <td>4</td>\n",
       "      <td>2017-06-01</td>\n",
       "      <td>2017-10-01</td>\n",
       "      <td>2068.58</td>\n",
       "      <td>292</td>\n",
       "      <td>88</td>\n",
       "      <td>3.318182</td>\n",
       "      <td>23.506591</td>\n",
       "      <td>4.0</td>\n",
       "      <td>2023</td>\n",
       "      <td>1.022531</td>\n",
       "    </tr>\n",
       "    <tr>\n",
       "      <td>...</td>\n",
       "      <td>...</td>\n",
       "      <td>...</td>\n",
       "      <td>...</td>\n",
       "      <td>...</td>\n",
       "      <td>...</td>\n",
       "      <td>...</td>\n",
       "      <td>...</td>\n",
       "      <td>...</td>\n",
       "      <td>...</td>\n",
       "      <td>...</td>\n",
       "    </tr>\n",
       "    <tr>\n",
       "      <td>74</td>\n",
       "      <td>2018-03-01</td>\n",
       "      <td>2018-05-01</td>\n",
       "      <td>1114.87</td>\n",
       "      <td>176</td>\n",
       "      <td>58</td>\n",
       "      <td>3.034483</td>\n",
       "      <td>19.221897</td>\n",
       "      <td>2.0</td>\n",
       "      <td>3533</td>\n",
       "      <td>0.315559</td>\n",
       "    </tr>\n",
       "    <tr>\n",
       "      <td>75</td>\n",
       "      <td>2018-04-01</td>\n",
       "      <td>2018-04-01</td>\n",
       "      <td>10600.69</td>\n",
       "      <td>2495</td>\n",
       "      <td>2276</td>\n",
       "      <td>1.096221</td>\n",
       "      <td>4.657597</td>\n",
       "      <td>0.0</td>\n",
       "      <td>2276</td>\n",
       "      <td>4.657597</td>\n",
       "    </tr>\n",
       "    <tr>\n",
       "      <td>76</td>\n",
       "      <td>2018-04-01</td>\n",
       "      <td>2018-05-01</td>\n",
       "      <td>1209.92</td>\n",
       "      <td>195</td>\n",
       "      <td>69</td>\n",
       "      <td>2.826087</td>\n",
       "      <td>17.535072</td>\n",
       "      <td>1.0</td>\n",
       "      <td>2276</td>\n",
       "      <td>0.531599</td>\n",
       "    </tr>\n",
       "    <tr>\n",
       "      <td>77</td>\n",
       "      <td>2018-05-01</td>\n",
       "      <td>2018-05-01</td>\n",
       "      <td>13925.76</td>\n",
       "      <td>3249</td>\n",
       "      <td>2988</td>\n",
       "      <td>1.087349</td>\n",
       "      <td>4.660562</td>\n",
       "      <td>0.0</td>\n",
       "      <td>2988</td>\n",
       "      <td>4.660562</td>\n",
       "    </tr>\n",
       "    <tr>\n",
       "      <td>78</td>\n",
       "      <td>2018-06-01</td>\n",
       "      <td>2018-06-01</td>\n",
       "      <td>3.42</td>\n",
       "      <td>1</td>\n",
       "      <td>1</td>\n",
       "      <td>1.000000</td>\n",
       "      <td>3.420000</td>\n",
       "      <td>0.0</td>\n",
       "      <td>1</td>\n",
       "      <td>3.420000</td>\n",
       "    </tr>\n",
       "  </tbody>\n",
       "</table>\n",
       "<p>79 rows × 10 columns</p>\n",
       "</div>"
      ],
      "text/plain": [
       "   first_buy_month  buy_month  total_revenue  amount_of_orders  \\\n",
       "0       2017-06-01 2017-06-01        9557.49              2354   \n",
       "1       2017-06-01 2017-07-01         981.82               177   \n",
       "2       2017-06-01 2017-08-01         885.34               174   \n",
       "3       2017-06-01 2017-09-01        1931.30               226   \n",
       "4       2017-06-01 2017-10-01        2068.58               292   \n",
       "..             ...        ...            ...               ...   \n",
       "74      2018-03-01 2018-05-01        1114.87               176   \n",
       "75      2018-04-01 2018-04-01       10600.69              2495   \n",
       "76      2018-04-01 2018-05-01        1209.92               195   \n",
       "77      2018-05-01 2018-05-01       13925.76              3249   \n",
       "78      2018-06-01 2018-06-01           3.42                 1   \n",
       "\n",
       "    amount_of_users  orders_per_user  revenue_per_user  cohort_lifetime  \\\n",
       "0              2023         1.163618          4.724414              0.0   \n",
       "1                61         2.901639         16.095410              1.0   \n",
       "2                50         3.480000         17.706800              2.0   \n",
       "3                54         4.185185         35.764815              3.0   \n",
       "4                88         3.318182         23.506591              4.0   \n",
       "..              ...              ...               ...              ...   \n",
       "74               58         3.034483         19.221897              2.0   \n",
       "75             2276         1.096221          4.657597              0.0   \n",
       "76               69         2.826087         17.535072              1.0   \n",
       "77             2988         1.087349          4.660562              0.0   \n",
       "78                1         1.000000          3.420000              0.0   \n",
       "\n",
       "    initial_cohort_size       ltv  \n",
       "0                  2023  4.724414  \n",
       "1                  2023  0.485329  \n",
       "2                  2023  0.437637  \n",
       "3                  2023  0.954671  \n",
       "4                  2023  1.022531  \n",
       "..                  ...       ...  \n",
       "74                 3533  0.315559  \n",
       "75                 2276  4.657597  \n",
       "76                 2276  0.531599  \n",
       "77                 2988  4.660562  \n",
       "78                    1  3.420000  \n",
       "\n",
       "[79 rows x 10 columns]"
      ]
     },
     "execution_count": 55,
     "metadata": {},
     "output_type": "execute_result"
    }
   ],
   "source": [
    "orders_grouped"
   ]
  },
  {
   "cell_type": "code",
   "execution_count": 57,
   "metadata": {
    "scrolled": false
   },
   "outputs": [
    {
     "data": {
      "text/plain": [
       "first_buy_month\n",
       "2017-06-01     9.31\n",
       "2017-07-01     7.78\n",
       "2017-08-01     7.59\n",
       "2017-09-01    13.01\n",
       "2017-10-01     6.24\n",
       "2017-11-01     6.40\n",
       "dtype: float64"
      ]
     },
     "execution_count": 57,
     "metadata": {},
     "output_type": "execute_result"
    }
   ],
   "source": [
    "# Выберем только те когорты, которые прожили 6 месяцев.\n",
    "# Посторим сводную таблицу по LTV и посчитаем суммарный LTV для каждой  когорты\n",
    "ltv_pivot = (orders_grouped\n",
    "             .query('max_cohort_lifetime >=6 and cohort_lifetime<=6') \n",
    "             .pivot_table(index='first_buy_month',\n",
    "                                                    columns='cohort_lifetime',\n",
    "                                                    values='ltv',\n",
    "                                                    aggfunc='mean'))\n",
    "ltv_pivot.sum(axis=1).round(2)"
   ]
  },
  {
   "cell_type": "markdown",
   "metadata": {},
   "source": [
    "\n",
    "---\n",
    "\n",
    "<div class=\"alert alert-block alert-danger\">\n",
    "    \n",
    "\n",
    "### Комментарий от ревьюера\n",
    "\n",
    "Здесь, как мне кажется, есть определенная проблема с тем, что когорты прожили не одинаковое количество времени. Лучше выбрать условное \"время жизни\" когорты, и считать результативность исходя из него -- например, 6 месяцев -- чтобы не слишком много когорт отсечь, потому что они прожили меньше этого времени. И главное смотреть, чтобы когорты прожили это время)\n",
    "</div>\n",
    "\n",
    "---\n"
   ]
  },
  {
   "cell_type": "markdown",
   "metadata": {},
   "source": [
    "<div class=\"alert alert-block alert-info\">\n",
    "\n",
    "### Комментарий от студента  \n",
    "    \n",
    "Исправил \n",
    "</div>"
   ]
  },
  {
   "cell_type": "markdown",
   "metadata": {},
   "source": [
    "\n",
    "---\n",
    "\n",
    "<div class=\"alert alert-block alert-warning\">\n",
    "    \n",
    "\n",
    "### Комментарий от ревьюера V2\n",
    "\n",
    "Ок, только выводов нет\n",
    "</div>\n",
    "\n",
    "---"
   ]
  },
  {
   "cell_type": "markdown",
   "metadata": {},
   "source": [
    "### Анализ маркетинга "
   ]
  },
  {
   "cell_type": "markdown",
   "metadata": {},
   "source": [
    "Узнаем, сколько денег потратили."
   ]
  },
  {
   "cell_type": "code",
   "execution_count": 58,
   "metadata": {},
   "outputs": [
    {
     "name": "stdout",
     "output_type": "stream",
     "text": [
      "Всего потрачено на рекламу: 329131.62\n"
     ]
    }
   ],
   "source": [
    "# Узаем сколько потратили всего\n",
    "print(\"Всего потрачено на рекламу:\", costs['costs'].sum())"
   ]
  },
  {
   "cell_type": "code",
   "execution_count": 59,
   "metadata": {},
   "outputs": [
    {
     "data": {
      "text/html": [
       "<div>\n",
       "<style scoped>\n",
       "    .dataframe tbody tr th:only-of-type {\n",
       "        vertical-align: middle;\n",
       "    }\n",
       "\n",
       "    .dataframe tbody tr th {\n",
       "        vertical-align: top;\n",
       "    }\n",
       "\n",
       "    .dataframe thead th {\n",
       "        text-align: right;\n",
       "    }\n",
       "</style>\n",
       "<table border=\"1\" class=\"dataframe\">\n",
       "  <thead>\n",
       "    <tr style=\"text-align: right;\">\n",
       "      <th></th>\n",
       "      <th>cost_by_source</th>\n",
       "    </tr>\n",
       "    <tr>\n",
       "      <th>source_id</th>\n",
       "      <th></th>\n",
       "    </tr>\n",
       "  </thead>\n",
       "  <tbody>\n",
       "    <tr>\n",
       "      <td>1</td>\n",
       "      <td>20833.27</td>\n",
       "    </tr>\n",
       "    <tr>\n",
       "      <td>2</td>\n",
       "      <td>42806.04</td>\n",
       "    </tr>\n",
       "    <tr>\n",
       "      <td>3</td>\n",
       "      <td>141321.63</td>\n",
       "    </tr>\n",
       "    <tr>\n",
       "      <td>4</td>\n",
       "      <td>61073.60</td>\n",
       "    </tr>\n",
       "    <tr>\n",
       "      <td>5</td>\n",
       "      <td>51757.10</td>\n",
       "    </tr>\n",
       "    <tr>\n",
       "      <td>9</td>\n",
       "      <td>5517.49</td>\n",
       "    </tr>\n",
       "    <tr>\n",
       "      <td>10</td>\n",
       "      <td>5822.49</td>\n",
       "    </tr>\n",
       "  </tbody>\n",
       "</table>\n",
       "</div>"
      ],
      "text/plain": [
       "           cost_by_source\n",
       "source_id                \n",
       "1                20833.27\n",
       "2                42806.04\n",
       "3               141321.63\n",
       "4                61073.60\n",
       "5                51757.10\n",
       "9                 5517.49\n",
       "10                5822.49"
      ]
     },
     "execution_count": 59,
     "metadata": {},
     "output_type": "execute_result"
    }
   ],
   "source": [
    "# Узнаем сколько потратили на каждый источник\n",
    "costs.groupby('source_id').agg(cost_by_source=('costs','sum'))"
   ]
  },
  {
   "cell_type": "markdown",
   "metadata": {},
   "source": [
    "На источник 3 было потрачено в разы больше, чем на остальные."
   ]
  },
  {
   "cell_type": "code",
   "execution_count": 60,
   "metadata": {},
   "outputs": [
    {
     "data": {
      "text/html": [
       "<div>\n",
       "<style scoped>\n",
       "    .dataframe tbody tr th:only-of-type {\n",
       "        vertical-align: middle;\n",
       "    }\n",
       "\n",
       "    .dataframe tbody tr th {\n",
       "        vertical-align: top;\n",
       "    }\n",
       "\n",
       "    .dataframe thead th {\n",
       "        text-align: right;\n",
       "    }\n",
       "</style>\n",
       "<table border=\"1\" class=\"dataframe\">\n",
       "  <thead>\n",
       "    <tr style=\"text-align: right;\">\n",
       "      <th></th>\n",
       "      <th>source_id</th>\n",
       "      <th>dt</th>\n",
       "      <th>costs</th>\n",
       "      <th>month</th>\n",
       "    </tr>\n",
       "  </thead>\n",
       "  <tbody>\n",
       "    <tr>\n",
       "      <td>0</td>\n",
       "      <td>1</td>\n",
       "      <td>2017-06-01</td>\n",
       "      <td>75.20</td>\n",
       "      <td>2017-06-01</td>\n",
       "    </tr>\n",
       "    <tr>\n",
       "      <td>1</td>\n",
       "      <td>1</td>\n",
       "      <td>2017-06-02</td>\n",
       "      <td>62.25</td>\n",
       "      <td>2017-06-01</td>\n",
       "    </tr>\n",
       "    <tr>\n",
       "      <td>2</td>\n",
       "      <td>1</td>\n",
       "      <td>2017-06-03</td>\n",
       "      <td>36.53</td>\n",
       "      <td>2017-06-01</td>\n",
       "    </tr>\n",
       "    <tr>\n",
       "      <td>3</td>\n",
       "      <td>1</td>\n",
       "      <td>2017-06-04</td>\n",
       "      <td>55.00</td>\n",
       "      <td>2017-06-01</td>\n",
       "    </tr>\n",
       "    <tr>\n",
       "      <td>4</td>\n",
       "      <td>1</td>\n",
       "      <td>2017-06-05</td>\n",
       "      <td>57.08</td>\n",
       "      <td>2017-06-01</td>\n",
       "    </tr>\n",
       "  </tbody>\n",
       "</table>\n",
       "</div>"
      ],
      "text/plain": [
       "   source_id         dt  costs      month\n",
       "0          1 2017-06-01  75.20 2017-06-01\n",
       "1          1 2017-06-02  62.25 2017-06-01\n",
       "2          1 2017-06-03  36.53 2017-06-01\n",
       "3          1 2017-06-04  55.00 2017-06-01\n",
       "4          1 2017-06-05  57.08 2017-06-01"
      ]
     },
     "execution_count": 60,
     "metadata": {},
     "output_type": "execute_result"
    }
   ],
   "source": [
    "# Добавим столбец с месяцем\n",
    "costs['month'] = costs['dt'].astype('datetime64[M]')\n",
    "costs.head()"
   ]
  },
  {
   "cell_type": "code",
   "execution_count": 61,
   "metadata": {},
   "outputs": [
    {
     "data": {
      "text/html": [
       "<div>\n",
       "<style scoped>\n",
       "    .dataframe tbody tr th:only-of-type {\n",
       "        vertical-align: middle;\n",
       "    }\n",
       "\n",
       "    .dataframe tbody tr th {\n",
       "        vertical-align: top;\n",
       "    }\n",
       "\n",
       "    .dataframe thead th {\n",
       "        text-align: right;\n",
       "    }\n",
       "</style>\n",
       "<table border=\"1\" class=\"dataframe\">\n",
       "  <thead>\n",
       "    <tr style=\"text-align: right;\">\n",
       "      <th></th>\n",
       "      <th>total_costs</th>\n",
       "    </tr>\n",
       "    <tr>\n",
       "      <th>month</th>\n",
       "      <th></th>\n",
       "    </tr>\n",
       "  </thead>\n",
       "  <tbody>\n",
       "    <tr>\n",
       "      <td>2017-06-01</td>\n",
       "      <td>18015.00</td>\n",
       "    </tr>\n",
       "    <tr>\n",
       "      <td>2017-07-01</td>\n",
       "      <td>18240.59</td>\n",
       "    </tr>\n",
       "    <tr>\n",
       "      <td>2017-08-01</td>\n",
       "      <td>14790.54</td>\n",
       "    </tr>\n",
       "    <tr>\n",
       "      <td>2017-09-01</td>\n",
       "      <td>24368.91</td>\n",
       "    </tr>\n",
       "    <tr>\n",
       "      <td>2017-10-01</td>\n",
       "      <td>36322.88</td>\n",
       "    </tr>\n",
       "    <tr>\n",
       "      <td>2017-11-01</td>\n",
       "      <td>37907.88</td>\n",
       "    </tr>\n",
       "    <tr>\n",
       "      <td>2017-12-01</td>\n",
       "      <td>38315.35</td>\n",
       "    </tr>\n",
       "    <tr>\n",
       "      <td>2018-01-01</td>\n",
       "      <td>33518.52</td>\n",
       "    </tr>\n",
       "    <tr>\n",
       "      <td>2018-02-01</td>\n",
       "      <td>32723.03</td>\n",
       "    </tr>\n",
       "    <tr>\n",
       "      <td>2018-03-01</td>\n",
       "      <td>30415.27</td>\n",
       "    </tr>\n",
       "    <tr>\n",
       "      <td>2018-04-01</td>\n",
       "      <td>22289.38</td>\n",
       "    </tr>\n",
       "    <tr>\n",
       "      <td>2018-05-01</td>\n",
       "      <td>22224.27</td>\n",
       "    </tr>\n",
       "  </tbody>\n",
       "</table>\n",
       "</div>"
      ],
      "text/plain": [
       "            total_costs\n",
       "month                  \n",
       "2017-06-01     18015.00\n",
       "2017-07-01     18240.59\n",
       "2017-08-01     14790.54\n",
       "2017-09-01     24368.91\n",
       "2017-10-01     36322.88\n",
       "2017-11-01     37907.88\n",
       "2017-12-01     38315.35\n",
       "2018-01-01     33518.52\n",
       "2018-02-01     32723.03\n",
       "2018-03-01     30415.27\n",
       "2018-04-01     22289.38\n",
       "2018-05-01     22224.27"
      ]
     },
     "execution_count": 61,
     "metadata": {},
     "output_type": "execute_result"
    }
   ],
   "source": [
    "# Посчитаем ежемесячные расходы\n",
    "monthly_costs  = costs.groupby('month').agg(total_costs=('costs','sum'))\n",
    "monthly_costs"
   ]
  },
  {
   "cell_type": "code",
   "execution_count": 62,
   "metadata": {
    "scrolled": false
   },
   "outputs": [
    {
     "data": {
      "image/png": "[encoded data removed]",
      "text/plain": [
       "<Figure size 432x288 with 1 Axes>"
      ]
     },
     "metadata": {},
     "output_type": "display_data"
    }
   ],
   "source": [
    "# Построим график по таблице\n",
    "monthly_costs.plot.bar();"
   ]
  },
  {
   "cell_type": "markdown",
   "metadata": {},
   "source": [
    "На лето 17 года приходятся минимальные траты. Видим резкий рост затрат на конец осени и начало зимы в 17 году. "
   ]
  },
  {
   "cell_type": "markdown",
   "metadata": {},
   "source": [
    "---\n",
    "\n",
    "<div class=\"alert alert-block alert-warning\">\n",
    "    \n",
    "\n",
    "### Комментарий от ревьюера\n",
    "\n",
    "Расчет верный. В выводах хотелось бы больше конкретики\n",
    "</div>\n",
    "\n",
    "---\n"
   ]
  },
  {
   "cell_type": "markdown",
   "metadata": {},
   "source": [
    "***"
   ]
  },
  {
   "cell_type": "markdown",
   "metadata": {},
   "source": [
    "Узнаем, сколько стоило привлечение одного покупателя из каждого источника. Для этого посчитаем CAC, сумму денег, в которую обходится новый клиент компании.  \n",
    "Также узнаем, на сколько окупились расходы, то есть посчитаем ROI, который в данной задаче равняется ROMI. Для этого, для каждого пользователя нужно по самой первой сессии получить устройство и источник и считать ROI по этим данным."
   ]
  },
  {
   "cell_type": "code",
   "execution_count": 63,
   "metadata": {},
   "outputs": [
    {
     "data": {
      "text/html": [
       "<div>\n",
       "<style scoped>\n",
       "    .dataframe tbody tr th:only-of-type {\n",
       "        vertical-align: middle;\n",
       "    }\n",
       "\n",
       "    .dataframe tbody tr th {\n",
       "        vertical-align: top;\n",
       "    }\n",
       "\n",
       "    .dataframe thead th {\n",
       "        text-align: right;\n",
       "    }\n",
       "</style>\n",
       "<table border=\"1\" class=\"dataframe\">\n",
       "  <thead>\n",
       "    <tr style=\"text-align: right;\">\n",
       "      <th></th>\n",
       "      <th>buy_ts</th>\n",
       "      <th>revenue</th>\n",
       "      <th>uid</th>\n",
       "      <th>first_buy_ts</th>\n",
       "      <th>buy_month</th>\n",
       "      <th>first_buy_month</th>\n",
       "      <th>first_activity_month</th>\n",
       "      <th>device</th>\n",
       "      <th>source_id</th>\n",
       "    </tr>\n",
       "  </thead>\n",
       "  <tbody>\n",
       "    <tr>\n",
       "      <td>0</td>\n",
       "      <td>2017-06-01 00:10:00</td>\n",
       "      <td>17.00</td>\n",
       "      <td>10329302124590727494</td>\n",
       "      <td>2017-06-01 00:10:00</td>\n",
       "      <td>2017-06-01</td>\n",
       "      <td>2017-06-01</td>\n",
       "      <td>2017-06-01</td>\n",
       "      <td>desktop</td>\n",
       "      <td>1.0</td>\n",
       "    </tr>\n",
       "    <tr>\n",
       "      <td>1</td>\n",
       "      <td>2017-06-01 00:25:00</td>\n",
       "      <td>0.55</td>\n",
       "      <td>11627257723692907447</td>\n",
       "      <td>2017-06-01 00:25:00</td>\n",
       "      <td>2017-06-01</td>\n",
       "      <td>2017-06-01</td>\n",
       "      <td>2017-06-01</td>\n",
       "      <td>desktop</td>\n",
       "      <td>2.0</td>\n",
       "    </tr>\n",
       "    <tr>\n",
       "      <td>2</td>\n",
       "      <td>2017-06-01 00:27:00</td>\n",
       "      <td>0.37</td>\n",
       "      <td>17903680561304213844</td>\n",
       "      <td>2017-06-01 00:27:00</td>\n",
       "      <td>2017-06-01</td>\n",
       "      <td>2017-06-01</td>\n",
       "      <td>2017-06-01</td>\n",
       "      <td>desktop</td>\n",
       "      <td>2.0</td>\n",
       "    </tr>\n",
       "    <tr>\n",
       "      <td>3</td>\n",
       "      <td>2017-06-01 00:29:00</td>\n",
       "      <td>0.55</td>\n",
       "      <td>16109239769442553005</td>\n",
       "      <td>2017-06-01 00:29:00</td>\n",
       "      <td>2017-06-01</td>\n",
       "      <td>2017-06-01</td>\n",
       "      <td>2017-06-01</td>\n",
       "      <td>desktop</td>\n",
       "      <td>2.0</td>\n",
       "    </tr>\n",
       "    <tr>\n",
       "      <td>4</td>\n",
       "      <td>2017-06-01 07:58:00</td>\n",
       "      <td>0.37</td>\n",
       "      <td>14200605875248379450</td>\n",
       "      <td>2017-06-01 07:58:00</td>\n",
       "      <td>2017-06-01</td>\n",
       "      <td>2017-06-01</td>\n",
       "      <td>2017-06-01</td>\n",
       "      <td>desktop</td>\n",
       "      <td>3.0</td>\n",
       "    </tr>\n",
       "  </tbody>\n",
       "</table>\n",
       "</div>"
      ],
      "text/plain": [
       "               buy_ts  revenue                   uid        first_buy_ts  \\\n",
       "0 2017-06-01 00:10:00    17.00  10329302124590727494 2017-06-01 00:10:00   \n",
       "1 2017-06-01 00:25:00     0.55  11627257723692907447 2017-06-01 00:25:00   \n",
       "2 2017-06-01 00:27:00     0.37  17903680561304213844 2017-06-01 00:27:00   \n",
       "3 2017-06-01 00:29:00     0.55  16109239769442553005 2017-06-01 00:29:00   \n",
       "4 2017-06-01 07:58:00     0.37  14200605875248379450 2017-06-01 07:58:00   \n",
       "\n",
       "   buy_month first_buy_month first_activity_month   device  source_id  \n",
       "0 2017-06-01      2017-06-01           2017-06-01  desktop        1.0  \n",
       "1 2017-06-01      2017-06-01           2017-06-01  desktop        2.0  \n",
       "2 2017-06-01      2017-06-01           2017-06-01  desktop        2.0  \n",
       "3 2017-06-01      2017-06-01           2017-06-01  desktop        2.0  \n",
       "4 2017-06-01      2017-06-01           2017-06-01  desktop        3.0  "
      ]
     },
     "execution_count": 63,
     "metadata": {},
     "output_type": "execute_result"
    }
   ],
   "source": [
    "# Добавим в таблицу данные по устройства и источникам рекламы\n",
    "orders_log = orders_log.merge(visit_and_buy\n",
    "                              .query('start_ts == first_visit_datetime')\n",
    "                              [['uid','first_activity_month','device','source_id']],\n",
    "                              how='left', on='uid')\n",
    "orders_log.head()"
   ]
  },
  {
   "cell_type": "code",
   "execution_count": 64,
   "metadata": {},
   "outputs": [
    {
     "data": {
      "text/html": [
       "<div>\n",
       "<style scoped>\n",
       "    .dataframe tbody tr th:only-of-type {\n",
       "        vertical-align: middle;\n",
       "    }\n",
       "\n",
       "    .dataframe tbody tr th {\n",
       "        vertical-align: top;\n",
       "    }\n",
       "\n",
       "    .dataframe thead th {\n",
       "        text-align: right;\n",
       "    }\n",
       "</style>\n",
       "<table border=\"1\" class=\"dataframe\">\n",
       "  <thead>\n",
       "    <tr style=\"text-align: right;\">\n",
       "      <th></th>\n",
       "      <th>source_id</th>\n",
       "      <th>month</th>\n",
       "      <th>costs_by_source</th>\n",
       "    </tr>\n",
       "  </thead>\n",
       "  <tbody>\n",
       "    <tr>\n",
       "      <td>0</td>\n",
       "      <td>1</td>\n",
       "      <td>2017-06-01</td>\n",
       "      <td>1125.61</td>\n",
       "    </tr>\n",
       "    <tr>\n",
       "      <td>1</td>\n",
       "      <td>1</td>\n",
       "      <td>2017-07-01</td>\n",
       "      <td>1072.88</td>\n",
       "    </tr>\n",
       "    <tr>\n",
       "      <td>2</td>\n",
       "      <td>1</td>\n",
       "      <td>2017-08-01</td>\n",
       "      <td>951.81</td>\n",
       "    </tr>\n",
       "    <tr>\n",
       "      <td>3</td>\n",
       "      <td>1</td>\n",
       "      <td>2017-09-01</td>\n",
       "      <td>1502.01</td>\n",
       "    </tr>\n",
       "    <tr>\n",
       "      <td>4</td>\n",
       "      <td>1</td>\n",
       "      <td>2017-10-01</td>\n",
       "      <td>2315.75</td>\n",
       "    </tr>\n",
       "  </tbody>\n",
       "</table>\n",
       "</div>"
      ],
      "text/plain": [
       "   source_id      month  costs_by_source\n",
       "0          1 2017-06-01          1125.61\n",
       "1          1 2017-07-01          1072.88\n",
       "2          1 2017-08-01           951.81\n",
       "3          1 2017-09-01          1502.01\n",
       "4          1 2017-10-01          2315.75"
      ]
     },
     "execution_count": 64,
     "metadata": {},
     "output_type": "execute_result"
    }
   ],
   "source": [
    "# сгруппируем затраты по месяцам и источникам\n",
    "costs_by_source = costs.groupby(['source_id','month']).agg(costs_by_source = ('costs','sum'))\n",
    "costs_by_source = costs_by_source.reset_index()\n",
    "costs_by_source.head()"
   ]
  },
  {
   "cell_type": "code",
   "execution_count": 65,
   "metadata": {},
   "outputs": [],
   "source": [
    "# Создадим вспомогательную функцию для построения когорт\n",
    "def create_cohorts(group_param):\n",
    "    # Сгруппируем по девайсам/источникам(group_param), первому и текущему месяцам покупок\n",
    "    data = (orders_log\n",
    "            .groupby([group_param,'first_buy_month','buy_month'])\n",
    "            .agg(\n",
    "                total_revenue = ('revenue','sum'),\n",
    "                amount_of_orders = ('uid','count'),\n",
    "                amount_of_users = ('uid','nunique')))\n",
    "    data = data.reset_index()\n",
    "    \n",
    "    # Добавим изначальный размер когорт\n",
    "    data = (data.merge(orders_log\n",
    "                       .groupby([group_param,'first_buy_month'])\n",
    "                       .agg(initial_cohort_size = ('uid','nunique')).reset_index(),\n",
    "                       on=[group_param,'first_buy_month']))\n",
    "    # Добавим общие месячные затраты\n",
    "    data = pd.merge(data, monthly_costs, left_on='first_buy_month', right_on='month')\n",
    "    if group_param ==\"source_id\":\n",
    "        data = pd.merge(data, costs_by_source, left_on=[group_param,'first_buy_month'], right_on=[group_param,'month'])\n",
    "    \n",
    "    # Посчитаем экономические параметры\n",
    "    data['orders_per_user'] = data['amount_of_orders'] / data['amount_of_users']\n",
    "    data['revenue_per_user'] = data['total_revenue'] / data['amount_of_users']\n",
    "\n",
    "    data['cohort_lifetime'] = (data['buy_month'] - data['first_buy_month']) / np.timedelta64(1,'M')\n",
    "    data['cohort_lifetime'] = round(data['cohort_lifetime'].astype('float'))\n",
    "    \n",
    "    data = (data\n",
    "            .join(data\n",
    "                  .groupby('first_buy_month')\n",
    "                  .agg(max_cohort_lifetime=('cohort_lifetime','max')), on='first_buy_month')\n",
    "                 )\n",
    "    data = data.query('max_cohort_lifetime >=6 and cohort_lifetime<=6')\n",
    "    data['ltv'] = data['total_revenue'] / data['initial_cohort_size']\n",
    "    if group_param ==\"source_id\":\n",
    "        data['cac'] = data['costs_by_source'] / data['initial_cohort_size']\n",
    "    else:\n",
    "        data['cac'] = data['total_costs'] / data['initial_cohort_size']\n",
    "    data['romi'] = data['ltv'] / data['cac']\n",
    "    return data    "
   ]
  },
  {
   "cell_type": "code",
   "execution_count": 66,
   "metadata": {},
   "outputs": [],
   "source": [
    "# Создадим вспомогательную функцию для построения мини отчетов\n",
    "def create_report(data, list_of_columns, object_list, group_param):\n",
    "    result= pd.DataFrame(index=ltv_pivot.index)\n",
    "    counter = 0\n",
    "    \n",
    "    if group_param == \"source_id\":\n",
    "        condition = 'source_id == @it_object'\n",
    "    else:\n",
    "        condition = 'device == @it_object'\n",
    "    \n",
    "    for it_object in object_list:\n",
    "        result[list_of_columns[counter]] = (data\n",
    "                                            .query(condition)\n",
    "                                            .pivot_table(index='first_buy_month',\n",
    "                                                         columns='cohort_lifetime',\n",
    "                                                         values='ltv',\n",
    "                                                         aggfunc='mean')\n",
    "                                            .sum(axis=1).round(2))\n",
    "        result[list_of_columns[counter+1]] = data.query(condition)['cac'].unique().round(2)\n",
    "        result[list_of_columns[counter+2]] = (result[list_of_columns[counter]]\n",
    "                                              / result[list_of_columns[counter+1]]).round(2)\n",
    "        counter+=3\n",
    "\n",
    "    return result"
   ]
  },
  {
   "cell_type": "code",
   "execution_count": 67,
   "metadata": {},
   "outputs": [
    {
     "name": "stderr",
     "output_type": "stream",
     "text": [
      "/opt/conda/lib/python3.7/site-packages/ipykernel_launcher.py:35: SettingWithCopyWarning: \n",
      "A value is trying to be set on a copy of a slice from a DataFrame.\n",
      "Try using .loc[row_indexer,col_indexer] = value instead\n",
      "\n",
      "See the caveats in the documentation: http://pandas.pydata.org/pandas-docs/stable/user_guide/indexing.html#returning-a-view-versus-a-copy\n",
      "/opt/conda/lib/python3.7/site-packages/ipykernel_launcher.py:37: SettingWithCopyWarning: \n",
      "A value is trying to be set on a copy of a slice from a DataFrame.\n",
      "Try using .loc[row_indexer,col_indexer] = value instead\n",
      "\n",
      "See the caveats in the documentation: http://pandas.pydata.org/pandas-docs/stable/user_guide/indexing.html#returning-a-view-versus-a-copy\n",
      "/opt/conda/lib/python3.7/site-packages/ipykernel_launcher.py:40: SettingWithCopyWarning: \n",
      "A value is trying to be set on a copy of a slice from a DataFrame.\n",
      "Try using .loc[row_indexer,col_indexer] = value instead\n",
      "\n",
      "See the caveats in the documentation: http://pandas.pydata.org/pandas-docs/stable/user_guide/indexing.html#returning-a-view-versus-a-copy\n"
     ]
    },
    {
     "data": {
      "text/html": [
       "<div>\n",
       "<style scoped>\n",
       "    .dataframe tbody tr th:only-of-type {\n",
       "        vertical-align: middle;\n",
       "    }\n",
       "\n",
       "    .dataframe tbody tr th {\n",
       "        vertical-align: top;\n",
       "    }\n",
       "\n",
       "    .dataframe thead th {\n",
       "        text-align: right;\n",
       "    }\n",
       "</style>\n",
       "<table border=\"1\" class=\"dataframe\">\n",
       "  <thead>\n",
       "    <tr style=\"text-align: right;\">\n",
       "      <th></th>\n",
       "      <th>source_id</th>\n",
       "      <th>first_buy_month</th>\n",
       "      <th>buy_month</th>\n",
       "      <th>total_revenue</th>\n",
       "      <th>amount_of_orders</th>\n",
       "      <th>amount_of_users</th>\n",
       "      <th>initial_cohort_size</th>\n",
       "      <th>total_costs</th>\n",
       "      <th>month</th>\n",
       "      <th>costs_by_source</th>\n",
       "      <th>orders_per_user</th>\n",
       "      <th>revenue_per_user</th>\n",
       "      <th>cohort_lifetime</th>\n",
       "      <th>max_cohort_lifetime</th>\n",
       "      <th>ltv</th>\n",
       "      <th>cac</th>\n",
       "      <th>romi</th>\n",
       "    </tr>\n",
       "  </thead>\n",
       "  <tbody>\n",
       "    <tr>\n",
       "      <td>0</td>\n",
       "      <td>1.0</td>\n",
       "      <td>2017-06-01</td>\n",
       "      <td>2017-06-01</td>\n",
       "      <td>1326.73</td>\n",
       "      <td>258</td>\n",
       "      <td>190</td>\n",
       "      <td>190</td>\n",
       "      <td>18015.0</td>\n",
       "      <td>2017-06-01</td>\n",
       "      <td>1125.61</td>\n",
       "      <td>1.357895</td>\n",
       "      <td>6.982789</td>\n",
       "      <td>0.0</td>\n",
       "      <td>11.0</td>\n",
       "      <td>6.982789</td>\n",
       "      <td>5.924263</td>\n",
       "      <td>1.178676</td>\n",
       "    </tr>\n",
       "    <tr>\n",
       "      <td>1</td>\n",
       "      <td>1.0</td>\n",
       "      <td>2017-06-01</td>\n",
       "      <td>2017-07-01</td>\n",
       "      <td>421.09</td>\n",
       "      <td>80</td>\n",
       "      <td>16</td>\n",
       "      <td>190</td>\n",
       "      <td>18015.0</td>\n",
       "      <td>2017-06-01</td>\n",
       "      <td>1125.61</td>\n",
       "      <td>5.000000</td>\n",
       "      <td>26.318125</td>\n",
       "      <td>1.0</td>\n",
       "      <td>11.0</td>\n",
       "      <td>2.216263</td>\n",
       "      <td>5.924263</td>\n",
       "      <td>0.374099</td>\n",
       "    </tr>\n",
       "    <tr>\n",
       "      <td>2</td>\n",
       "      <td>1.0</td>\n",
       "      <td>2017-06-01</td>\n",
       "      <td>2017-08-01</td>\n",
       "      <td>393.23</td>\n",
       "      <td>77</td>\n",
       "      <td>9</td>\n",
       "      <td>190</td>\n",
       "      <td>18015.0</td>\n",
       "      <td>2017-06-01</td>\n",
       "      <td>1125.61</td>\n",
       "      <td>8.555556</td>\n",
       "      <td>43.692222</td>\n",
       "      <td>2.0</td>\n",
       "      <td>11.0</td>\n",
       "      <td>2.069632</td>\n",
       "      <td>5.924263</td>\n",
       "      <td>0.349348</td>\n",
       "    </tr>\n",
       "    <tr>\n",
       "      <td>3</td>\n",
       "      <td>1.0</td>\n",
       "      <td>2017-06-01</td>\n",
       "      <td>2017-09-01</td>\n",
       "      <td>422.88</td>\n",
       "      <td>79</td>\n",
       "      <td>8</td>\n",
       "      <td>190</td>\n",
       "      <td>18015.0</td>\n",
       "      <td>2017-06-01</td>\n",
       "      <td>1125.61</td>\n",
       "      <td>9.875000</td>\n",
       "      <td>52.860000</td>\n",
       "      <td>3.0</td>\n",
       "      <td>11.0</td>\n",
       "      <td>2.225684</td>\n",
       "      <td>5.924263</td>\n",
       "      <td>0.375690</td>\n",
       "    </tr>\n",
       "    <tr>\n",
       "      <td>4</td>\n",
       "      <td>1.0</td>\n",
       "      <td>2017-06-01</td>\n",
       "      <td>2017-10-01</td>\n",
       "      <td>682.96</td>\n",
       "      <td>78</td>\n",
       "      <td>12</td>\n",
       "      <td>190</td>\n",
       "      <td>18015.0</td>\n",
       "      <td>2017-06-01</td>\n",
       "      <td>1125.61</td>\n",
       "      <td>6.500000</td>\n",
       "      <td>56.913333</td>\n",
       "      <td>4.0</td>\n",
       "      <td>11.0</td>\n",
       "      <td>3.594526</td>\n",
       "      <td>5.924263</td>\n",
       "      <td>0.606747</td>\n",
       "    </tr>\n",
       "  </tbody>\n",
       "</table>\n",
       "</div>"
      ],
      "text/plain": [
       "   source_id first_buy_month  buy_month  total_revenue  amount_of_orders  \\\n",
       "0        1.0      2017-06-01 2017-06-01        1326.73               258   \n",
       "1        1.0      2017-06-01 2017-07-01         421.09                80   \n",
       "2        1.0      2017-06-01 2017-08-01         393.23                77   \n",
       "3        1.0      2017-06-01 2017-09-01         422.88                79   \n",
       "4        1.0      2017-06-01 2017-10-01         682.96                78   \n",
       "\n",
       "   amount_of_users  initial_cohort_size  total_costs      month  \\\n",
       "0              190                  190      18015.0 2017-06-01   \n",
       "1               16                  190      18015.0 2017-06-01   \n",
       "2                9                  190      18015.0 2017-06-01   \n",
       "3                8                  190      18015.0 2017-06-01   \n",
       "4               12                  190      18015.0 2017-06-01   \n",
       "\n",
       "   costs_by_source  orders_per_user  revenue_per_user  cohort_lifetime  \\\n",
       "0          1125.61         1.357895          6.982789              0.0   \n",
       "1          1125.61         5.000000         26.318125              1.0   \n",
       "2          1125.61         8.555556         43.692222              2.0   \n",
       "3          1125.61         9.875000         52.860000              3.0   \n",
       "4          1125.61         6.500000         56.913333              4.0   \n",
       "\n",
       "   max_cohort_lifetime       ltv       cac      romi  \n",
       "0                 11.0  6.982789  5.924263  1.178676  \n",
       "1                 11.0  2.216263  5.924263  0.374099  \n",
       "2                 11.0  2.069632  5.924263  0.349348  \n",
       "3                 11.0  2.225684  5.924263  0.375690  \n",
       "4                 11.0  3.594526  5.924263  0.606747  "
      ]
     },
     "execution_count": 67,
     "metadata": {},
     "output_type": "execute_result"
    }
   ],
   "source": [
    "# Составим когорты по источникам рекламы\n",
    "orders_by_source = create_cohorts('source_id') \n",
    "orders_by_source.head()"
   ]
  },
  {
   "cell_type": "code",
   "execution_count": 68,
   "metadata": {},
   "outputs": [
    {
     "data": {
      "text/plain": [
       "['ltv_1', 'cac_1', 'romi_1', 'ltv_2', 'cac_2', 'romi_2', 'ltv_3']"
      ]
     },
     "execution_count": 68,
     "metadata": {},
     "output_type": "execute_result"
    }
   ],
   "source": [
    "# Создадим вспомогательные списки для построения отчета\n",
    "source_id_list = list(map(int, orders_by_source['source_id'].value_counts().index))\n",
    "source_id_list.sort()\n",
    "list_of_source_columns = []\n",
    "for source_id in source_id_list:\n",
    "    list_of_source_columns.append('ltv_'+ str(source_id))\n",
    "    list_of_source_columns.append('cac_'+ str(source_id))\n",
    "    list_of_source_columns.append('romi_'+ str(source_id))\n",
    "list_of_source_columns[0:7]"
   ]
  },
  {
   "cell_type": "code",
   "execution_count": 69,
   "metadata": {},
   "outputs": [
    {
     "data": {
      "text/html": [
       "<div>\n",
       "<style scoped>\n",
       "    .dataframe tbody tr th:only-of-type {\n",
       "        vertical-align: middle;\n",
       "    }\n",
       "\n",
       "    .dataframe tbody tr th {\n",
       "        vertical-align: top;\n",
       "    }\n",
       "\n",
       "    .dataframe thead th {\n",
       "        text-align: right;\n",
       "    }\n",
       "</style>\n",
       "<table border=\"1\" class=\"dataframe\">\n",
       "  <thead>\n",
       "    <tr style=\"text-align: right;\">\n",
       "      <th></th>\n",
       "      <th>ltv_1</th>\n",
       "      <th>cac_1</th>\n",
       "      <th>romi_1</th>\n",
       "      <th>ltv_2</th>\n",
       "      <th>cac_2</th>\n",
       "      <th>romi_2</th>\n",
       "      <th>ltv_3</th>\n",
       "      <th>cac_3</th>\n",
       "      <th>romi_3</th>\n",
       "      <th>ltv_4</th>\n",
       "      <th>...</th>\n",
       "      <th>romi_4</th>\n",
       "      <th>ltv_5</th>\n",
       "      <th>cac_5</th>\n",
       "      <th>romi_5</th>\n",
       "      <th>ltv_9</th>\n",
       "      <th>cac_9</th>\n",
       "      <th>romi_9</th>\n",
       "      <th>ltv_10</th>\n",
       "      <th>cac_10</th>\n",
       "      <th>romi_10</th>\n",
       "    </tr>\n",
       "    <tr>\n",
       "      <th>first_buy_month</th>\n",
       "      <th></th>\n",
       "      <th></th>\n",
       "      <th></th>\n",
       "      <th></th>\n",
       "      <th></th>\n",
       "      <th></th>\n",
       "      <th></th>\n",
       "      <th></th>\n",
       "      <th></th>\n",
       "      <th></th>\n",
       "      <th></th>\n",
       "      <th></th>\n",
       "      <th></th>\n",
       "      <th></th>\n",
       "      <th></th>\n",
       "      <th></th>\n",
       "      <th></th>\n",
       "      <th></th>\n",
       "      <th></th>\n",
       "      <th></th>\n",
       "      <th></th>\n",
       "    </tr>\n",
       "  </thead>\n",
       "  <tbody>\n",
       "    <tr>\n",
       "      <td>2017-06-01</td>\n",
       "      <td>20.64</td>\n",
       "      <td>5.92</td>\n",
       "      <td>3.49</td>\n",
       "      <td>11.31</td>\n",
       "      <td>10.46</td>\n",
       "      <td>1.08</td>\n",
       "      <td>5.51</td>\n",
       "      <td>12.27</td>\n",
       "      <td>0.45</td>\n",
       "      <td>9.51</td>\n",
       "      <td>...</td>\n",
       "      <td>1.11</td>\n",
       "      <td>10.92</td>\n",
       "      <td>6.87</td>\n",
       "      <td>1.59</td>\n",
       "      <td>6.08</td>\n",
       "      <td>4.19</td>\n",
       "      <td>1.45</td>\n",
       "      <td>2.46</td>\n",
       "      <td>3.42</td>\n",
       "      <td>0.72</td>\n",
       "    </tr>\n",
       "    <tr>\n",
       "      <td>2017-07-01</td>\n",
       "      <td>17.10</td>\n",
       "      <td>6.46</td>\n",
       "      <td>2.65</td>\n",
       "      <td>10.70</td>\n",
       "      <td>11.33</td>\n",
       "      <td>0.94</td>\n",
       "      <td>7.08</td>\n",
       "      <td>15.38</td>\n",
       "      <td>0.46</td>\n",
       "      <td>6.09</td>\n",
       "      <td>...</td>\n",
       "      <td>0.88</td>\n",
       "      <td>5.85</td>\n",
       "      <td>7.19</td>\n",
       "      <td>0.81</td>\n",
       "      <td>6.80</td>\n",
       "      <td>5.71</td>\n",
       "      <td>1.19</td>\n",
       "      <td>8.32</td>\n",
       "      <td>6.47</td>\n",
       "      <td>1.29</td>\n",
       "    </tr>\n",
       "    <tr>\n",
       "      <td>2017-08-01</td>\n",
       "      <td>13.41</td>\n",
       "      <td>8.42</td>\n",
       "      <td>1.59</td>\n",
       "      <td>7.84</td>\n",
       "      <td>14.72</td>\n",
       "      <td>0.53</td>\n",
       "      <td>6.13</td>\n",
       "      <td>18.12</td>\n",
       "      <td>0.34</td>\n",
       "      <td>6.01</td>\n",
       "      <td>...</td>\n",
       "      <td>0.62</td>\n",
       "      <td>9.32</td>\n",
       "      <td>6.21</td>\n",
       "      <td>1.50</td>\n",
       "      <td>5.40</td>\n",
       "      <td>4.08</td>\n",
       "      <td>1.32</td>\n",
       "      <td>5.44</td>\n",
       "      <td>6.29</td>\n",
       "      <td>0.86</td>\n",
       "    </tr>\n",
       "    <tr>\n",
       "      <td>2017-09-01</td>\n",
       "      <td>10.01</td>\n",
       "      <td>6.39</td>\n",
       "      <td>1.57</td>\n",
       "      <td>25.09</td>\n",
       "      <td>13.27</td>\n",
       "      <td>1.89</td>\n",
       "      <td>6.55</td>\n",
       "      <td>13.09</td>\n",
       "      <td>0.50</td>\n",
       "      <td>7.47</td>\n",
       "      <td>...</td>\n",
       "      <td>0.83</td>\n",
       "      <td>26.27</td>\n",
       "      <td>6.64</td>\n",
       "      <td>3.96</td>\n",
       "      <td>7.97</td>\n",
       "      <td>4.72</td>\n",
       "      <td>1.69</td>\n",
       "      <td>2.57</td>\n",
       "      <td>5.30</td>\n",
       "      <td>0.48</td>\n",
       "    </tr>\n",
       "    <tr>\n",
       "      <td>2017-10-01</td>\n",
       "      <td>7.95</td>\n",
       "      <td>6.73</td>\n",
       "      <td>1.18</td>\n",
       "      <td>12.38</td>\n",
       "      <td>12.58</td>\n",
       "      <td>0.98</td>\n",
       "      <td>5.62</td>\n",
       "      <td>13.95</td>\n",
       "      <td>0.40</td>\n",
       "      <td>5.18</td>\n",
       "      <td>...</td>\n",
       "      <td>0.94</td>\n",
       "      <td>6.04</td>\n",
       "      <td>6.15</td>\n",
       "      <td>0.98</td>\n",
       "      <td>6.97</td>\n",
       "      <td>4.80</td>\n",
       "      <td>1.45</td>\n",
       "      <td>2.77</td>\n",
       "      <td>3.04</td>\n",
       "      <td>0.91</td>\n",
       "    </tr>\n",
       "    <tr>\n",
       "      <td>2017-11-01</td>\n",
       "      <td>10.10</td>\n",
       "      <td>7.32</td>\n",
       "      <td>1.38</td>\n",
       "      <td>9.65</td>\n",
       "      <td>13.02</td>\n",
       "      <td>0.74</td>\n",
       "      <td>5.00</td>\n",
       "      <td>14.27</td>\n",
       "      <td>0.35</td>\n",
       "      <td>6.74</td>\n",
       "      <td>...</td>\n",
       "      <td>1.46</td>\n",
       "      <td>5.28</td>\n",
       "      <td>9.19</td>\n",
       "      <td>0.57</td>\n",
       "      <td>4.49</td>\n",
       "      <td>4.91</td>\n",
       "      <td>0.91</td>\n",
       "      <td>5.03</td>\n",
       "      <td>6.29</td>\n",
       "      <td>0.80</td>\n",
       "    </tr>\n",
       "  </tbody>\n",
       "</table>\n",
       "<p>6 rows × 21 columns</p>\n",
       "</div>"
      ],
      "text/plain": [
       "                 ltv_1  cac_1  romi_1  ltv_2  cac_2  romi_2  ltv_3  cac_3  \\\n",
       "first_buy_month                                                             \n",
       "2017-06-01       20.64   5.92    3.49  11.31  10.46    1.08   5.51  12.27   \n",
       "2017-07-01       17.10   6.46    2.65  10.70  11.33    0.94   7.08  15.38   \n",
       "2017-08-01       13.41   8.42    1.59   7.84  14.72    0.53   6.13  18.12   \n",
       "2017-09-01       10.01   6.39    1.57  25.09  13.27    1.89   6.55  13.09   \n",
       "2017-10-01        7.95   6.73    1.18  12.38  12.58    0.98   5.62  13.95   \n",
       "2017-11-01       10.10   7.32    1.38   9.65  13.02    0.74   5.00  14.27   \n",
       "\n",
       "                 romi_3  ltv_4  ...  romi_4  ltv_5  cac_5  romi_5  ltv_9  \\\n",
       "first_buy_month                 ...                                        \n",
       "2017-06-01         0.45   9.51  ...    1.11  10.92   6.87    1.59   6.08   \n",
       "2017-07-01         0.46   6.09  ...    0.88   5.85   7.19    0.81   6.80   \n",
       "2017-08-01         0.34   6.01  ...    0.62   9.32   6.21    1.50   5.40   \n",
       "2017-09-01         0.50   7.47  ...    0.83  26.27   6.64    3.96   7.97   \n",
       "2017-10-01         0.40   5.18  ...    0.94   6.04   6.15    0.98   6.97   \n",
       "2017-11-01         0.35   6.74  ...    1.46   5.28   9.19    0.57   4.49   \n",
       "\n",
       "                 cac_9  romi_9  ltv_10  cac_10  romi_10  \n",
       "first_buy_month                                          \n",
       "2017-06-01        4.19    1.45    2.46    3.42     0.72  \n",
       "2017-07-01        5.71    1.19    8.32    6.47     1.29  \n",
       "2017-08-01        4.08    1.32    5.44    6.29     0.86  \n",
       "2017-09-01        4.72    1.69    2.57    5.30     0.48  \n",
       "2017-10-01        4.80    1.45    2.77    3.04     0.91  \n",
       "2017-11-01        4.91    0.91    5.03    6.29     0.80  \n",
       "\n",
       "[6 rows x 21 columns]"
      ]
     },
     "execution_count": 69,
     "metadata": {},
     "output_type": "execute_result"
    }
   ],
   "source": [
    "# Посторим отчет по источникам\n",
    "source_result = create_report(orders_by_source, list_of_source_columns, source_id_list, \"source_id\")\n",
    "source_result"
   ]
  },
  {
   "cell_type": "code",
   "execution_count": 70,
   "metadata": {},
   "outputs": [
    {
     "data": {
      "image/png": "[encoded data removed]",
      "text/plain": [
       "<Figure size 1080x504 with 1 Axes>"
      ]
     },
     "metadata": {},
     "output_type": "display_data"
    }
   ],
   "source": [
    "# Построим график по LTV\n",
    "(source_result [[idx for idx in list_of_source_columns if idx.startswith('ltv_')]]\n",
    " .plot( grid=True, kind='bar', figsize=(15,7)));"
   ]
  },
  {
   "cell_type": "markdown",
   "metadata": {},
   "source": [
    "Почти для всех месяцев самый большой LTV для 1 и 2 источников. Для сентябрьской когорты видим резкий рост 5 источника."
   ]
  },
  {
   "cell_type": "code",
   "execution_count": 71,
   "metadata": {},
   "outputs": [
    {
     "data": {
      "image/png": "[encoded data removed]",
      "text/plain": [
       "<Figure size 1080x504 with 1 Axes>"
      ]
     },
     "metadata": {},
     "output_type": "display_data"
    }
   ],
   "source": [
    "# Построим график по CAC\n",
    "(source_result [[idx for idx in list_of_source_columns if idx.startswith('cac_')]]\n",
    " .plot( grid=True, kind='bar', figsize=(15,7)));"
   ]
  },
  {
   "cell_type": "markdown",
   "metadata": {},
   "source": [
    "Для всех периодов самый большой показатель CAC из 2 и 3 источников."
   ]
  },
  {
   "cell_type": "code",
   "execution_count": 72,
   "metadata": {},
   "outputs": [
    {
     "data": {
      "image/png": "[encoded data removed]",
      "text/plain": [
       "<Figure size 1080x504 with 1 Axes>"
      ]
     },
     "metadata": {},
     "output_type": "display_data"
    }
   ],
   "source": [
    "# Построим график по ROMI\n",
    "(source_result [[idx for idx in list_of_source_columns if idx.startswith('romi_')]]\n",
    " .plot( grid=True, kind='bar', figsize=(15,7)));"
   ]
  },
  {
   "cell_type": "markdown",
   "metadata": {},
   "source": [
    "Летом 17 больше всего окупаемость с источника 1. В сентябре - с источника 5.\n",
    "Начиная с января 18 года, почти по всем источникам ROMI меньше единицы."
   ]
  },
  {
   "cell_type": "code",
   "execution_count": 73,
   "metadata": {
    "scrolled": false
   },
   "outputs": [
    {
     "name": "stderr",
     "output_type": "stream",
     "text": [
      "/opt/conda/lib/python3.7/site-packages/ipykernel_launcher.py:35: SettingWithCopyWarning: \n",
      "A value is trying to be set on a copy of a slice from a DataFrame.\n",
      "Try using .loc[row_indexer,col_indexer] = value instead\n",
      "\n",
      "See the caveats in the documentation: http://pandas.pydata.org/pandas-docs/stable/user_guide/indexing.html#returning-a-view-versus-a-copy\n",
      "/opt/conda/lib/python3.7/site-packages/ipykernel_launcher.py:39: SettingWithCopyWarning: \n",
      "A value is trying to be set on a copy of a slice from a DataFrame.\n",
      "Try using .loc[row_indexer,col_indexer] = value instead\n",
      "\n",
      "See the caveats in the documentation: http://pandas.pydata.org/pandas-docs/stable/user_guide/indexing.html#returning-a-view-versus-a-copy\n",
      "/opt/conda/lib/python3.7/site-packages/ipykernel_launcher.py:40: SettingWithCopyWarning: \n",
      "A value is trying to be set on a copy of a slice from a DataFrame.\n",
      "Try using .loc[row_indexer,col_indexer] = value instead\n",
      "\n",
      "See the caveats in the documentation: http://pandas.pydata.org/pandas-docs/stable/user_guide/indexing.html#returning-a-view-versus-a-copy\n"
     ]
    },
    {
     "data": {
      "text/html": [
       "<div>\n",
       "<style scoped>\n",
       "    .dataframe tbody tr th:only-of-type {\n",
       "        vertical-align: middle;\n",
       "    }\n",
       "\n",
       "    .dataframe tbody tr th {\n",
       "        vertical-align: top;\n",
       "    }\n",
       "\n",
       "    .dataframe thead th {\n",
       "        text-align: right;\n",
       "    }\n",
       "</style>\n",
       "<table border=\"1\" class=\"dataframe\">\n",
       "  <thead>\n",
       "    <tr style=\"text-align: right;\">\n",
       "      <th></th>\n",
       "      <th>device</th>\n",
       "      <th>first_buy_month</th>\n",
       "      <th>buy_month</th>\n",
       "      <th>total_revenue</th>\n",
       "      <th>amount_of_orders</th>\n",
       "      <th>amount_of_users</th>\n",
       "      <th>initial_cohort_size</th>\n",
       "      <th>total_costs</th>\n",
       "      <th>orders_per_user</th>\n",
       "      <th>revenue_per_user</th>\n",
       "      <th>cohort_lifetime</th>\n",
       "      <th>max_cohort_lifetime</th>\n",
       "      <th>ltv</th>\n",
       "      <th>cac</th>\n",
       "      <th>romi</th>\n",
       "    </tr>\n",
       "  </thead>\n",
       "  <tbody>\n",
       "    <tr>\n",
       "      <td>0</td>\n",
       "      <td>desktop</td>\n",
       "      <td>2017-06-01</td>\n",
       "      <td>2017-06-01</td>\n",
       "      <td>8247.05</td>\n",
       "      <td>1983</td>\n",
       "      <td>1691</td>\n",
       "      <td>1691</td>\n",
       "      <td>18015.0</td>\n",
       "      <td>1.172679</td>\n",
       "      <td>4.877025</td>\n",
       "      <td>0.0</td>\n",
       "      <td>11.0</td>\n",
       "      <td>4.877025</td>\n",
       "      <td>10.653459</td>\n",
       "      <td>0.457788</td>\n",
       "    </tr>\n",
       "    <tr>\n",
       "      <td>1</td>\n",
       "      <td>desktop</td>\n",
       "      <td>2017-06-01</td>\n",
       "      <td>2017-07-01</td>\n",
       "      <td>882.43</td>\n",
       "      <td>166</td>\n",
       "      <td>51</td>\n",
       "      <td>1691</td>\n",
       "      <td>18015.0</td>\n",
       "      <td>3.254902</td>\n",
       "      <td>17.302549</td>\n",
       "      <td>1.0</td>\n",
       "      <td>11.0</td>\n",
       "      <td>0.521839</td>\n",
       "      <td>10.653459</td>\n",
       "      <td>0.048983</td>\n",
       "    </tr>\n",
       "    <tr>\n",
       "      <td>2</td>\n",
       "      <td>desktop</td>\n",
       "      <td>2017-06-01</td>\n",
       "      <td>2017-08-01</td>\n",
       "      <td>844.70</td>\n",
       "      <td>169</td>\n",
       "      <td>45</td>\n",
       "      <td>1691</td>\n",
       "      <td>18015.0</td>\n",
       "      <td>3.755556</td>\n",
       "      <td>18.771111</td>\n",
       "      <td>2.0</td>\n",
       "      <td>11.0</td>\n",
       "      <td>0.499527</td>\n",
       "      <td>10.653459</td>\n",
       "      <td>0.046889</td>\n",
       "    </tr>\n",
       "    <tr>\n",
       "      <td>3</td>\n",
       "      <td>desktop</td>\n",
       "      <td>2017-06-01</td>\n",
       "      <td>2017-09-01</td>\n",
       "      <td>1905.09</td>\n",
       "      <td>221</td>\n",
       "      <td>52</td>\n",
       "      <td>1691</td>\n",
       "      <td>18015.0</td>\n",
       "      <td>4.250000</td>\n",
       "      <td>36.636346</td>\n",
       "      <td>3.0</td>\n",
       "      <td>11.0</td>\n",
       "      <td>1.126606</td>\n",
       "      <td>10.653459</td>\n",
       "      <td>0.105750</td>\n",
       "    </tr>\n",
       "    <tr>\n",
       "      <td>4</td>\n",
       "      <td>desktop</td>\n",
       "      <td>2017-06-01</td>\n",
       "      <td>2017-10-01</td>\n",
       "      <td>1992.87</td>\n",
       "      <td>278</td>\n",
       "      <td>81</td>\n",
       "      <td>1691</td>\n",
       "      <td>18015.0</td>\n",
       "      <td>3.432099</td>\n",
       "      <td>24.603333</td>\n",
       "      <td>4.0</td>\n",
       "      <td>11.0</td>\n",
       "      <td>1.178516</td>\n",
       "      <td>10.653459</td>\n",
       "      <td>0.110623</td>\n",
       "    </tr>\n",
       "  </tbody>\n",
       "</table>\n",
       "</div>"
      ],
      "text/plain": [
       "    device first_buy_month  buy_month  total_revenue  amount_of_orders  \\\n",
       "0  desktop      2017-06-01 2017-06-01        8247.05              1983   \n",
       "1  desktop      2017-06-01 2017-07-01         882.43               166   \n",
       "2  desktop      2017-06-01 2017-08-01         844.70               169   \n",
       "3  desktop      2017-06-01 2017-09-01        1905.09               221   \n",
       "4  desktop      2017-06-01 2017-10-01        1992.87               278   \n",
       "\n",
       "   amount_of_users  initial_cohort_size  total_costs  orders_per_user  \\\n",
       "0             1691                 1691      18015.0         1.172679   \n",
       "1               51                 1691      18015.0         3.254902   \n",
       "2               45                 1691      18015.0         3.755556   \n",
       "3               52                 1691      18015.0         4.250000   \n",
       "4               81                 1691      18015.0         3.432099   \n",
       "\n",
       "   revenue_per_user  cohort_lifetime  max_cohort_lifetime       ltv  \\\n",
       "0          4.877025              0.0                 11.0  4.877025   \n",
       "1         17.302549              1.0                 11.0  0.521839   \n",
       "2         18.771111              2.0                 11.0  0.499527   \n",
       "3         36.636346              3.0                 11.0  1.126606   \n",
       "4         24.603333              4.0                 11.0  1.178516   \n",
       "\n",
       "         cac      romi  \n",
       "0  10.653459  0.457788  \n",
       "1  10.653459  0.048983  \n",
       "2  10.653459  0.046889  \n",
       "3  10.653459  0.105750  \n",
       "4  10.653459  0.110623  "
      ]
     },
     "execution_count": 73,
     "metadata": {},
     "output_type": "execute_result"
    }
   ],
   "source": [
    "# Построим когорты по источникам\n",
    "orders_by_device = create_cohorts('device') \n",
    "orders_by_device.head()"
   ]
  },
  {
   "cell_type": "code",
   "execution_count": 74,
   "metadata": {},
   "outputs": [
    {
     "data": {
      "text/html": [
       "<div>\n",
       "<style scoped>\n",
       "    .dataframe tbody tr th:only-of-type {\n",
       "        vertical-align: middle;\n",
       "    }\n",
       "\n",
       "    .dataframe tbody tr th {\n",
       "        vertical-align: top;\n",
       "    }\n",
       "\n",
       "    .dataframe thead th {\n",
       "        text-align: right;\n",
       "    }\n",
       "</style>\n",
       "<table border=\"1\" class=\"dataframe\">\n",
       "  <thead>\n",
       "    <tr style=\"text-align: right;\">\n",
       "      <th></th>\n",
       "      <th>ltv_desktop</th>\n",
       "      <th>cac_desktop</th>\n",
       "      <th>romi_desktop</th>\n",
       "      <th>ltv_touch</th>\n",
       "      <th>cac_touch</th>\n",
       "      <th>romi_touch</th>\n",
       "    </tr>\n",
       "    <tr>\n",
       "      <th>first_buy_month</th>\n",
       "      <th></th>\n",
       "      <th></th>\n",
       "      <th></th>\n",
       "      <th></th>\n",
       "      <th></th>\n",
       "      <th></th>\n",
       "    </tr>\n",
       "  </thead>\n",
       "  <tbody>\n",
       "    <tr>\n",
       "      <td>2017-06-01</td>\n",
       "      <td>10.20</td>\n",
       "      <td>10.65</td>\n",
       "      <td>0.96</td>\n",
       "      <td>4.69</td>\n",
       "      <td>57.74</td>\n",
       "      <td>0.08</td>\n",
       "    </tr>\n",
       "    <tr>\n",
       "      <td>2017-07-01</td>\n",
       "      <td>8.12</td>\n",
       "      <td>12.03</td>\n",
       "      <td>0.67</td>\n",
       "      <td>6.72</td>\n",
       "      <td>47.13</td>\n",
       "      <td>0.14</td>\n",
       "    </tr>\n",
       "    <tr>\n",
       "      <td>2017-08-01</td>\n",
       "      <td>7.97</td>\n",
       "      <td>13.37</td>\n",
       "      <td>0.60</td>\n",
       "      <td>6.17</td>\n",
       "      <td>58.69</td>\n",
       "      <td>0.11</td>\n",
       "    </tr>\n",
       "    <tr>\n",
       "      <td>2017-09-01</td>\n",
       "      <td>13.85</td>\n",
       "      <td>11.93</td>\n",
       "      <td>1.16</td>\n",
       "      <td>10.12</td>\n",
       "      <td>47.69</td>\n",
       "      <td>0.21</td>\n",
       "    </tr>\n",
       "    <tr>\n",
       "      <td>2017-10-01</td>\n",
       "      <td>6.46</td>\n",
       "      <td>10.38</td>\n",
       "      <td>0.62</td>\n",
       "      <td>5.52</td>\n",
       "      <td>46.04</td>\n",
       "      <td>0.12</td>\n",
       "    </tr>\n",
       "    <tr>\n",
       "      <td>2017-11-01</td>\n",
       "      <td>6.42</td>\n",
       "      <td>11.45</td>\n",
       "      <td>0.56</td>\n",
       "      <td>6.38</td>\n",
       "      <td>51.65</td>\n",
       "      <td>0.12</td>\n",
       "    </tr>\n",
       "  </tbody>\n",
       "</table>\n",
       "</div>"
      ],
      "text/plain": [
       "                 ltv_desktop  cac_desktop  romi_desktop  ltv_touch  cac_touch  \\\n",
       "first_buy_month                                                                 \n",
       "2017-06-01             10.20        10.65          0.96       4.69      57.74   \n",
       "2017-07-01              8.12        12.03          0.67       6.72      47.13   \n",
       "2017-08-01              7.97        13.37          0.60       6.17      58.69   \n",
       "2017-09-01             13.85        11.93          1.16      10.12      47.69   \n",
       "2017-10-01              6.46        10.38          0.62       5.52      46.04   \n",
       "2017-11-01              6.42        11.45          0.56       6.38      51.65   \n",
       "\n",
       "                 romi_touch  \n",
       "first_buy_month              \n",
       "2017-06-01             0.08  \n",
       "2017-07-01             0.14  \n",
       "2017-08-01             0.11  \n",
       "2017-09-01             0.21  \n",
       "2017-10-01             0.12  \n",
       "2017-11-01             0.12  "
      ]
     },
     "execution_count": 74,
     "metadata": {},
     "output_type": "execute_result"
    }
   ],
   "source": [
    "# Подготовим вспомогательные списки и построим отчет по источникам\n",
    "list_of_device_columns = ['ltv_desktop', 'cac_desktop','romi_desktop','ltv_touch', 'cac_touch','romi_touch']\n",
    "list_of_devices =  list(orders_by_device['device'].unique())\n",
    "\n",
    "device_result = create_report(orders_by_device, list_of_device_columns, list_of_devices, \"device\")\n",
    "device_result"
   ]
  },
  {
   "cell_type": "code",
   "execution_count": 75,
   "metadata": {},
   "outputs": [
    {
     "data": {
      "image/png": "[encoded data removed]",
      "text/plain": [
       "<Figure size 1080x504 with 1 Axes>"
      ]
     },
     "metadata": {},
     "output_type": "display_data"
    }
   ],
   "source": [
    "# Построим график по LTV\n",
    "(device_result [[idx for idx in list_of_device_columns if idx.startswith('ltv_')]]\n",
    " .plot( grid=True, kind='bar', figsize=(15,7)));"
   ]
  },
  {
   "cell_type": "markdown",
   "metadata": {},
   "source": [
    "Почти для всех периодов LTV  выше для десктопа."
   ]
  },
  {
   "cell_type": "code",
   "execution_count": 76,
   "metadata": {},
   "outputs": [
    {
     "data": {
      "image/png": "[encoded data removed]",
      "text/plain": [
       "<Figure size 1080x504 with 1 Axes>"
      ]
     },
     "metadata": {},
     "output_type": "display_data"
    }
   ],
   "source": [
    "# Построим график по CAC\n",
    "(device_result [[idx for idx in list_of_device_columns if idx.startswith('cac_')]]\n",
    " .plot( grid=True, kind='bar', figsize=(15,7)));"
   ]
  },
  {
   "cell_type": "markdown",
   "metadata": {},
   "source": [
    "CAC не оправданно высок для всех периодов."
   ]
  },
  {
   "cell_type": "code",
   "execution_count": 77,
   "metadata": {},
   "outputs": [
    {
     "data": {
      "image/png": "[encoded data removed]",
      "text/plain": [
       "<Figure size 1080x504 with 1 Axes>"
      ]
     },
     "metadata": {},
     "output_type": "display_data"
    }
   ],
   "source": [
    "# Построим график по ROMI\n",
    "(device_result [[idx for idx in list_of_device_columns if idx.startswith('romi_')]]\n",
    " .plot( grid=True, kind='bar', figsize=(15,7)));"
   ]
  },
  {
   "cell_type": "markdown",
   "metadata": {},
   "source": [
    "Ожидаемо ROMI для мобильных версий очень мал. Для десктопных - приемлимый.Мобильная версия совсем не окупается."
   ]
  },
  {
   "cell_type": "markdown",
   "metadata": {},
   "source": [
    "\n",
    "---\n",
    "\n",
    "<div class=\"alert alert-block alert-danger\">\n",
    "    \n",
    "\n",
    "### Комментарий от ревьюера\n",
    "\n",
    "Здесь такое же замечание как в предыдущем комментарии по LTV -- необходимо выбрать какое-то время жизни. А расчеты верные\n",
    "</div>\n",
    "\n",
    "---\n"
   ]
  },
  {
   "cell_type": "markdown",
   "metadata": {},
   "source": [
    "<div class=\"alert alert-block alert-info\">\n",
    "\n",
    "### Комментарий от студента  \n",
    "    \n",
    "Исправил \n",
    "</div>"
   ]
  },
  {
   "cell_type": "markdown",
   "metadata": {},
   "source": [
    "## Вывод"
   ]
  },
  {
   "cell_type": "markdown",
   "metadata": {},
   "source": [
    "Анализ показал, что пользователи в разы активне посещают сайт и совершают покупки с десктопных устройств, нежели чем с мобильных. Это приводит к тому, что затраты на мобильную версию совсем не окупаются.  \n",
    "Почти для всех периодов самый большой LTV для 1 и 2 источников, а самый большой показатель CAC из 2 и 3 источников.\n",
    "\n",
    "Для дальнейшего построения стратегии развития, целесообразно сосредоточиться на декстопной версии, снизить затраты на 3 источник рекламы, и повысить вложения в 1 источник."
   ]
  },
  {
   "cell_type": "markdown",
   "metadata": {},
   "source": [
    "---\n",
    "\n",
    "<div class=\"alert alert-block alert-warning\">\n",
    "    \n",
    "\n",
    "### Общий Комментарий от ревьюера\n",
    "\n",
    "В целом -- отличный отчет! Приятно его читать, все понятно, картинки красивые, выводы верные и полезные. Есть недочет, связанный с подсчетами окупаемости -- из-за того что нужно зафиксировать одинаковое время жизни пользователя. \n",
    "    \n",
    "И прошу отдельно уделить внимание выводам, как промежуточным, так и итговым. Из них должно быть все понятно, даже если у пользователя отчета нет времени или знаний вникнуть в твои расчеты.\n",
    "    \n",
    "Я думаю, ты все быстро поправишь и жду новой версии)\n",
    "</div>\n",
    "\n",
    "---\n"
   ]
  },
  {
   "cell_type": "markdown",
   "metadata": {},
   "source": [
    "---\n",
    "\n",
    "<div class=\"alert alert-block alert-warning\">\n",
    "    \n",
    "\n",
    "### Общий Комментарий от ревьюера V2\n",
    "\n",
    "Мне очень понравилось как ты доработал проект, учел все мои замечания. К сожалению вылезла досадная ошибка (среднее от среднего), обязательно нужно этот момент понять и поправить\n",
    "</div>\n",
    "\n",
    "---\n"
   ]
  },
  {
   "cell_type": "markdown",
   "metadata": {},
   "source": [
    "---\n",
    "\n",
    "<div class=\"alert alert-block alert-success\">\n",
    "    \n",
    "\n",
    "### Общий Комментарий от ревьюера v2\n",
    "\n",
    "Отлично, критичных замечаний у меня не осталось -- работа зачтена!)\n",
    "</div>\n",
    "\n",
    "---\n"
   ]
  },
  {
   "cell_type": "code",
   "execution_count": null,
   "metadata": {},
   "outputs": [],
   "source": []
  }
 ],
 "metadata": {
  "kernelspec": {
   "display_name": "Python 3",
   "language": "python",
   "name": "python3"
  },
  "language_info": {
   "codemirror_mode": {
    "name": "ipython",
    "version": 3
   },
   "file_extension": ".py",
   "mimetype": "text/x-python",
   "name": "python",
   "nbconvert_exporter": "python",
   "pygments_lexer": "ipython3",
   "version": "3.7.6"
  }
 },
 "nbformat": 4,
 "nbformat_minor": 2
}
