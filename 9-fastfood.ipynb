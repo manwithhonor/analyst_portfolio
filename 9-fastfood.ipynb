{
 "cells": [
  {
   "cell_type": "markdown",
   "metadata": {},
   "source": [
    "# Рынок заведений общественного питания Москвы"
   ]
  },
  {
   "cell_type": "markdown",
   "metadata": {},
   "source": [
    "Заказчик решил открыть небольшое кафе в Москве. Оно оригинальное — гостей должны обслуживать роботы. Проект многообещающий, но дорогой.Инвесторов интересует текущее положение дел на рынке.  \n",
    "Требуется подготовить исследование рынка. На руках есть открытые данные о заведениях общественного питания в Москве.\n",
    "\n",
    "План работы:  \n",
    "1. [Выгрузка данных и импорт библиотек](#Выгрузка-данных-и-импорт-библиотек)  \n",
    "1. [Предобработка данных](#Предобработка-данных)   \n",
    "1. [Анализ данных](#Анализ-данных)  \n",
    "    1. [Анализ типов заведений](#Анализ-типов-заведений)  \n",
    "    1. [Анализ расположения заведений](#Анализ-расположения-заведений)  \n",
    "1. [Вывод](#Вывод)  "
   ]
  },
  {
   "cell_type": "markdown",
   "metadata": {},
   "source": [
    "# Выгрузка данных и импорт библиотек"
   ]
  },
  {
   "cell_type": "code",
   "execution_count": 18,
   "metadata": {},
   "outputs": [],
   "source": [
    "# Импортируем необходимые библиотеки и модули\n",
    "import pandas as pd\n",
    "import numpy as np\n",
    "from scipy import stats as st\n",
    "\n",
    "import matplotlib.pyplot as plt\n",
    "import seaborn as sns \n",
    "\n",
    "from io import BytesIO\n",
    "import requests"
   ]
  },
  {
   "cell_type": "code",
   "execution_count": 19,
   "metadata": {},
   "outputs": [
    {
     "data": {
      "text/html": [
       "<div>\n",
       "<style scoped>\n",
       "    .dataframe tbody tr th:only-of-type {\n",
       "        vertical-align: middle;\n",
       "    }\n",
       "\n",
       "    .dataframe tbody tr th {\n",
       "        vertical-align: top;\n",
       "    }\n",
       "\n",
       "    .dataframe thead th {\n",
       "        text-align: right;\n",
       "    }\n",
       "</style>\n",
       "<table border=\"1\" class=\"dataframe\">\n",
       "  <thead>\n",
       "    <tr style=\"text-align: right;\">\n",
       "      <th></th>\n",
       "      <th>id</th>\n",
       "      <th>object_name</th>\n",
       "      <th>chain</th>\n",
       "      <th>object_type</th>\n",
       "      <th>address</th>\n",
       "      <th>number</th>\n",
       "    </tr>\n",
       "  </thead>\n",
       "  <tbody>\n",
       "    <tr>\n",
       "      <td>0</td>\n",
       "      <td>151635</td>\n",
       "      <td>СМЕТАНА</td>\n",
       "      <td>нет</td>\n",
       "      <td>кафе</td>\n",
       "      <td>город Москва, улица Егора Абакумова, дом 9</td>\n",
       "      <td>48</td>\n",
       "    </tr>\n",
       "    <tr>\n",
       "      <td>1</td>\n",
       "      <td>77874</td>\n",
       "      <td>Родник</td>\n",
       "      <td>нет</td>\n",
       "      <td>кафе</td>\n",
       "      <td>город Москва, улица Талалихина, дом 2/1, корпус 1</td>\n",
       "      <td>35</td>\n",
       "    </tr>\n",
       "    <tr>\n",
       "      <td>2</td>\n",
       "      <td>24309</td>\n",
       "      <td>Кафе «Академия»</td>\n",
       "      <td>нет</td>\n",
       "      <td>кафе</td>\n",
       "      <td>город Москва, Абельмановская улица, дом 6</td>\n",
       "      <td>95</td>\n",
       "    </tr>\n",
       "    <tr>\n",
       "      <td>3</td>\n",
       "      <td>21894</td>\n",
       "      <td>ПИЦЦЕТОРИЯ</td>\n",
       "      <td>да</td>\n",
       "      <td>кафе</td>\n",
       "      <td>город Москва, Абрамцевская улица, дом 1</td>\n",
       "      <td>40</td>\n",
       "    </tr>\n",
       "    <tr>\n",
       "      <td>4</td>\n",
       "      <td>119365</td>\n",
       "      <td>Кафе «Вишневая метель»</td>\n",
       "      <td>нет</td>\n",
       "      <td>кафе</td>\n",
       "      <td>город Москва, Абрамцевская улица, дом 9, корпус 1</td>\n",
       "      <td>50</td>\n",
       "    </tr>\n",
       "    <tr>\n",
       "      <td>5</td>\n",
       "      <td>27429</td>\n",
       "      <td>СТОЛ. ПРИ ГОУ СОШ № 1051</td>\n",
       "      <td>нет</td>\n",
       "      <td>столовая</td>\n",
       "      <td>город Москва, Абрамцевская улица, дом 15, корп...</td>\n",
       "      <td>240</td>\n",
       "    </tr>\n",
       "    <tr>\n",
       "      <td>6</td>\n",
       "      <td>148815</td>\n",
       "      <td>Брусника</td>\n",
       "      <td>да</td>\n",
       "      <td>кафе</td>\n",
       "      <td>город Москва, переулок Сивцев Вражек, дом 6/2</td>\n",
       "      <td>10</td>\n",
       "    </tr>\n",
       "    <tr>\n",
       "      <td>7</td>\n",
       "      <td>20957</td>\n",
       "      <td>Буфет МТУСИ</td>\n",
       "      <td>нет</td>\n",
       "      <td>столовая</td>\n",
       "      <td>город Москва, Авиамоторная улица, дом 8, строе...</td>\n",
       "      <td>90</td>\n",
       "    </tr>\n",
       "    <tr>\n",
       "      <td>8</td>\n",
       "      <td>20958</td>\n",
       "      <td>КПФ СЕМЬЯ-1</td>\n",
       "      <td>нет</td>\n",
       "      <td>столовая</td>\n",
       "      <td>город Москва, Авиамоторная улица, дом 8, строе...</td>\n",
       "      <td>150</td>\n",
       "    </tr>\n",
       "    <tr>\n",
       "      <td>9</td>\n",
       "      <td>28858</td>\n",
       "      <td>Столовая МТУСИ</td>\n",
       "      <td>нет</td>\n",
       "      <td>столовая</td>\n",
       "      <td>город Москва, Авиамоторная улица, дом 8, строе...</td>\n",
       "      <td>120</td>\n",
       "    </tr>\n",
       "  </tbody>\n",
       "</table>\n",
       "</div>"
      ],
      "text/plain": [
       "       id               object_name chain object_type  \\\n",
       "0  151635                   СМЕТАНА   нет        кафе   \n",
       "1   77874                    Родник   нет        кафе   \n",
       "2   24309           Кафе «Академия»   нет        кафе   \n",
       "3   21894                ПИЦЦЕТОРИЯ    да        кафе   \n",
       "4  119365    Кафе «Вишневая метель»   нет        кафе   \n",
       "5   27429  СТОЛ. ПРИ ГОУ СОШ № 1051   нет    столовая   \n",
       "6  148815                  Брусника    да        кафе   \n",
       "7   20957               Буфет МТУСИ   нет    столовая   \n",
       "8   20958               КПФ СЕМЬЯ-1   нет    столовая   \n",
       "9   28858            Столовая МТУСИ   нет    столовая   \n",
       "\n",
       "                                             address  number  \n",
       "0         город Москва, улица Егора Абакумова, дом 9      48  \n",
       "1  город Москва, улица Талалихина, дом 2/1, корпус 1      35  \n",
       "2          город Москва, Абельмановская улица, дом 6      95  \n",
       "3            город Москва, Абрамцевская улица, дом 1      40  \n",
       "4  город Москва, Абрамцевская улица, дом 9, корпус 1      50  \n",
       "5  город Москва, Абрамцевская улица, дом 15, корп...     240  \n",
       "6      город Москва, переулок Сивцев Вражек, дом 6/2      10  \n",
       "7  город Москва, Авиамоторная улица, дом 8, строе...      90  \n",
       "8  город Москва, Авиамоторная улица, дом 8, строе...     150  \n",
       "9  город Москва, Авиамоторная улица, дом 8, строе...     120  "
      ]
     },
     "execution_count": 19,
     "metadata": {},
     "output_type": "execute_result"
    }
   ],
   "source": [
    "# Считаем данные из датасета rest_data и проверим корректность выгрузки\n",
    "rest_data = pd.read_csv('/datasets/rest_data.csv')\n",
    "rest_data.head(10)"
   ]
  },
  {
   "cell_type": "code",
   "execution_count": 20,
   "metadata": {},
   "outputs": [
    {
     "name": "stdout",
     "output_type": "stream",
     "text": [
      "<class 'pandas.core.frame.DataFrame'>\n",
      "RangeIndex: 15366 entries, 0 to 15365\n",
      "Data columns (total 6 columns):\n",
      "id             15366 non-null int64\n",
      "object_name    15366 non-null object\n",
      "chain          15366 non-null object\n",
      "object_type    15366 non-null object\n",
      "address        15366 non-null object\n",
      "number         15366 non-null int64\n",
      "dtypes: int64(2), object(4)\n",
      "memory usage: 720.4+ KB\n"
     ]
    }
   ],
   "source": [
    "# Расмотрим общую информацию о данных\n",
    "rest_data.info()"
   ]
  },
  {
   "cell_type": "markdown",
   "metadata": {},
   "source": [
    "В таблице rest_data 6 столбцов. В них содержится информация о рынке общесвтенного питания в Мсокве:  \n",
    "* **id** - идентификационный номер;\n",
    "* **object_name** — название объекта общественного питания;\n",
    "* **chain** — сетевой ли ресторан;\n",
    "* **object_type** — тип объекта общественного питания;\n",
    "* **address** — адрес;\n",
    "* **number** — количество посадочных мест.\n",
    "\n",
    "В данных нет пропусков. Типы данных верны. В столбце object_name навзания написаны разными регистрами, от этого лучше избавиться."
   ]
  },
  {
   "cell_type": "markdown",
   "metadata": {},
   "source": [
    "## Предобработка данных"
   ]
  },
  {
   "cell_type": "code",
   "execution_count": 21,
   "metadata": {},
   "outputs": [
    {
     "data": {
      "text/plain": [
       "170"
      ]
     },
     "execution_count": 21,
     "metadata": {},
     "output_type": "execute_result"
    }
   ],
   "source": [
    "# Проверим датасет на наличие дубликатов.\n",
    "rest_data.drop(['id', 'number'], axis=1).duplicated().sum()"
   ]
  },
  {
   "cell_type": "code",
   "execution_count": 22,
   "metadata": {},
   "outputs": [
    {
     "data": {
      "text/plain": [
       "0"
      ]
     },
     "execution_count": 22,
     "metadata": {},
     "output_type": "execute_result"
    }
   ],
   "source": [
    "# Удалим дубликаты, сбросим нумерацию индексов и проверим результат\n",
    "rest_data = rest_data.drop(rest_data[rest_data.drop(['id', 'number'], axis=1).duplicated()].index ).reset_index(drop = True)\n",
    "rest_data.duplicated().sum()"
   ]
  },
  {
   "cell_type": "code",
   "execution_count": 23,
   "metadata": {},
   "outputs": [
    {
     "data": {
      "text/html": [
       "<div>\n",
       "<style scoped>\n",
       "    .dataframe tbody tr th:only-of-type {\n",
       "        vertical-align: middle;\n",
       "    }\n",
       "\n",
       "    .dataframe tbody tr th {\n",
       "        vertical-align: top;\n",
       "    }\n",
       "\n",
       "    .dataframe thead th {\n",
       "        text-align: right;\n",
       "    }\n",
       "</style>\n",
       "<table border=\"1\" class=\"dataframe\">\n",
       "  <thead>\n",
       "    <tr style=\"text-align: right;\">\n",
       "      <th></th>\n",
       "      <th>id</th>\n",
       "      <th>place_name</th>\n",
       "      <th>chain</th>\n",
       "      <th>place_type</th>\n",
       "      <th>address</th>\n",
       "      <th>number_of_seats</th>\n",
       "    </tr>\n",
       "  </thead>\n",
       "  <tbody>\n",
       "    <tr>\n",
       "      <td>0</td>\n",
       "      <td>151635</td>\n",
       "      <td>СМЕТАНА</td>\n",
       "      <td>нет</td>\n",
       "      <td>кафе</td>\n",
       "      <td>город Москва, улица Егора Абакумова, дом 9</td>\n",
       "      <td>48</td>\n",
       "    </tr>\n",
       "    <tr>\n",
       "      <td>1</td>\n",
       "      <td>77874</td>\n",
       "      <td>Родник</td>\n",
       "      <td>нет</td>\n",
       "      <td>кафе</td>\n",
       "      <td>город Москва, улица Талалихина, дом 2/1, корпус 1</td>\n",
       "      <td>35</td>\n",
       "    </tr>\n",
       "    <tr>\n",
       "      <td>2</td>\n",
       "      <td>24309</td>\n",
       "      <td>Кафе «Академия»</td>\n",
       "      <td>нет</td>\n",
       "      <td>кафе</td>\n",
       "      <td>город Москва, Абельмановская улица, дом 6</td>\n",
       "      <td>95</td>\n",
       "    </tr>\n",
       "    <tr>\n",
       "      <td>3</td>\n",
       "      <td>21894</td>\n",
       "      <td>ПИЦЦЕТОРИЯ</td>\n",
       "      <td>да</td>\n",
       "      <td>кафе</td>\n",
       "      <td>город Москва, Абрамцевская улица, дом 1</td>\n",
       "      <td>40</td>\n",
       "    </tr>\n",
       "    <tr>\n",
       "      <td>4</td>\n",
       "      <td>119365</td>\n",
       "      <td>Кафе «Вишневая метель»</td>\n",
       "      <td>нет</td>\n",
       "      <td>кафе</td>\n",
       "      <td>город Москва, Абрамцевская улица, дом 9, корпус 1</td>\n",
       "      <td>50</td>\n",
       "    </tr>\n",
       "  </tbody>\n",
       "</table>\n",
       "</div>"
      ],
      "text/plain": [
       "       id              place_name chain place_type  \\\n",
       "0  151635                 СМЕТАНА   нет       кафе   \n",
       "1   77874                  Родник   нет       кафе   \n",
       "2   24309         Кафе «Академия»   нет       кафе   \n",
       "3   21894              ПИЦЦЕТОРИЯ    да       кафе   \n",
       "4  119365  Кафе «Вишневая метель»   нет       кафе   \n",
       "\n",
       "                                             address  number_of_seats  \n",
       "0         город Москва, улица Егора Абакумова, дом 9               48  \n",
       "1  город Москва, улица Талалихина, дом 2/1, корпус 1               35  \n",
       "2          город Москва, Абельмановская улица, дом 6               95  \n",
       "3            город Москва, Абрамцевская улица, дом 1               40  \n",
       "4  город Москва, Абрамцевская улица, дом 9, корпус 1               50  "
      ]
     },
     "execution_count": 23,
     "metadata": {},
     "output_type": "execute_result"
    }
   ],
   "source": [
    "# Для удобства переименуем колонки\n",
    "rest_data.columns = ['id', 'place_name', 'chain', 'place_type', 'address', 'number_of_seats']\n",
    "rest_data.head()"
   ]
  },
  {
   "cell_type": "code",
   "execution_count": 24,
   "metadata": {
    "scrolled": true
   },
   "outputs": [
    {
     "data": {
      "text/html": [
       "<div>\n",
       "<style scoped>\n",
       "    .dataframe tbody tr th:only-of-type {\n",
       "        vertical-align: middle;\n",
       "    }\n",
       "\n",
       "    .dataframe tbody tr th {\n",
       "        vertical-align: top;\n",
       "    }\n",
       "\n",
       "    .dataframe thead th {\n",
       "        text-align: right;\n",
       "    }\n",
       "</style>\n",
       "<table border=\"1\" class=\"dataframe\">\n",
       "  <thead>\n",
       "    <tr style=\"text-align: right;\">\n",
       "      <th></th>\n",
       "      <th>id</th>\n",
       "      <th>place_name</th>\n",
       "      <th>chain</th>\n",
       "      <th>place_type</th>\n",
       "      <th>address</th>\n",
       "      <th>number_of_seats</th>\n",
       "    </tr>\n",
       "  </thead>\n",
       "  <tbody>\n",
       "    <tr>\n",
       "      <td>0</td>\n",
       "      <td>151635</td>\n",
       "      <td>сметана</td>\n",
       "      <td>нет</td>\n",
       "      <td>кафе</td>\n",
       "      <td>город Москва, улица Егора Абакумова, дом 9</td>\n",
       "      <td>48</td>\n",
       "    </tr>\n",
       "    <tr>\n",
       "      <td>1</td>\n",
       "      <td>77874</td>\n",
       "      <td>родник</td>\n",
       "      <td>нет</td>\n",
       "      <td>кафе</td>\n",
       "      <td>город Москва, улица Талалихина, дом 2/1, корпус 1</td>\n",
       "      <td>35</td>\n",
       "    </tr>\n",
       "    <tr>\n",
       "      <td>2</td>\n",
       "      <td>24309</td>\n",
       "      <td>кафе «академия»</td>\n",
       "      <td>нет</td>\n",
       "      <td>кафе</td>\n",
       "      <td>город Москва, Абельмановская улица, дом 6</td>\n",
       "      <td>95</td>\n",
       "    </tr>\n",
       "    <tr>\n",
       "      <td>3</td>\n",
       "      <td>21894</td>\n",
       "      <td>пиццетория</td>\n",
       "      <td>да</td>\n",
       "      <td>кафе</td>\n",
       "      <td>город Москва, Абрамцевская улица, дом 1</td>\n",
       "      <td>40</td>\n",
       "    </tr>\n",
       "    <tr>\n",
       "      <td>4</td>\n",
       "      <td>119365</td>\n",
       "      <td>кафе «вишневая метель»</td>\n",
       "      <td>нет</td>\n",
       "      <td>кафе</td>\n",
       "      <td>город Москва, Абрамцевская улица, дом 9, корпус 1</td>\n",
       "      <td>50</td>\n",
       "    </tr>\n",
       "  </tbody>\n",
       "</table>\n",
       "</div>"
      ],
      "text/plain": [
       "       id              place_name chain place_type  \\\n",
       "0  151635                 сметана   нет       кафе   \n",
       "1   77874                  родник   нет       кафе   \n",
       "2   24309         кафе «академия»   нет       кафе   \n",
       "3   21894              пиццетория    да       кафе   \n",
       "4  119365  кафе «вишневая метель»   нет       кафе   \n",
       "\n",
       "                                             address  number_of_seats  \n",
       "0         город Москва, улица Егора Абакумова, дом 9               48  \n",
       "1  город Москва, улица Талалихина, дом 2/1, корпус 1               35  \n",
       "2          город Москва, Абельмановская улица, дом 6               95  \n",
       "3            город Москва, Абрамцевская улица, дом 1               40  \n",
       "4  город Москва, Абрамцевская улица, дом 9, корпус 1               50  "
      ]
     },
     "execution_count": 24,
     "metadata": {},
     "output_type": "execute_result"
    }
   ],
   "source": [
    "# Приведем столбец с названиями к нижнему регистру и проверим резульат\n",
    "rest_data ['place_name'] = rest_data['place_name'].str.lower()\n",
    "rest_data.head()"
   ]
  },
  {
   "cell_type": "markdown",
   "metadata": {},
   "source": [
    "### Промежуточный вывод  \n",
    "Мы избавились от дубликатов, переименовали столбцы, и привели содержимое столбца **place_name** к нижнему регистру."
   ]
  },
  {
   "cell_type": "markdown",
   "metadata": {},
   "source": [
    "## Анализ данных"
   ]
  },
  {
   "cell_type": "markdown",
   "metadata": {},
   "source": [
    "### Анализ типов заведений"
   ]
  },
  {
   "cell_type": "markdown",
   "metadata": {},
   "source": [
    "Исследуем соотношение типов объектов общественного питания по количеству."
   ]
  },
  {
   "cell_type": "code",
   "execution_count": 25,
   "metadata": {},
   "outputs": [
    {
     "data": {
      "text/html": [
       "<div>\n",
       "<style scoped>\n",
       "    .dataframe tbody tr th:only-of-type {\n",
       "        vertical-align: middle;\n",
       "    }\n",
       "\n",
       "    .dataframe tbody tr th {\n",
       "        vertical-align: top;\n",
       "    }\n",
       "\n",
       "    .dataframe thead th {\n",
       "        text-align: right;\n",
       "    }\n",
       "</style>\n",
       "<table border=\"1\" class=\"dataframe\">\n",
       "  <thead>\n",
       "    <tr style=\"text-align: right;\">\n",
       "      <th></th>\n",
       "      <th>count</th>\n",
       "      <th>rate%</th>\n",
       "    </tr>\n",
       "    <tr>\n",
       "      <th>place_type</th>\n",
       "      <th></th>\n",
       "      <th></th>\n",
       "    </tr>\n",
       "  </thead>\n",
       "  <tbody>\n",
       "    <tr>\n",
       "      <td>кафе</td>\n",
       "      <td>6017</td>\n",
       "      <td>39.60</td>\n",
       "    </tr>\n",
       "    <tr>\n",
       "      <td>столовая</td>\n",
       "      <td>2575</td>\n",
       "      <td>16.95</td>\n",
       "    </tr>\n",
       "    <tr>\n",
       "      <td>ресторан</td>\n",
       "      <td>2276</td>\n",
       "      <td>14.98</td>\n",
       "    </tr>\n",
       "    <tr>\n",
       "      <td>предприятие быстрого обслуживания</td>\n",
       "      <td>1891</td>\n",
       "      <td>12.44</td>\n",
       "    </tr>\n",
       "    <tr>\n",
       "      <td>бар</td>\n",
       "      <td>853</td>\n",
       "      <td>5.61</td>\n",
       "    </tr>\n",
       "    <tr>\n",
       "      <td>буфет</td>\n",
       "      <td>571</td>\n",
       "      <td>3.76</td>\n",
       "    </tr>\n",
       "    <tr>\n",
       "      <td>кафетерий</td>\n",
       "      <td>393</td>\n",
       "      <td>2.59</td>\n",
       "    </tr>\n",
       "    <tr>\n",
       "      <td>закусочная</td>\n",
       "      <td>348</td>\n",
       "      <td>2.29</td>\n",
       "    </tr>\n",
       "    <tr>\n",
       "      <td>магазин (отдел кулинарии)</td>\n",
       "      <td>272</td>\n",
       "      <td>1.79</td>\n",
       "    </tr>\n",
       "  </tbody>\n",
       "</table>\n",
       "</div>"
      ],
      "text/plain": [
       "                                   count  rate%\n",
       "place_type                                     \n",
       "кафе                                6017  39.60\n",
       "столовая                            2575  16.95\n",
       "ресторан                            2276  14.98\n",
       "предприятие быстрого обслуживания   1891  12.44\n",
       "бар                                  853   5.61\n",
       "буфет                                571   3.76\n",
       "кафетерий                            393   2.59\n",
       "закусочная                           348   2.29\n",
       "магазин (отдел кулинарии)            272   1.79"
      ]
     },
     "execution_count": 25,
     "metadata": {},
     "output_type": "execute_result"
    }
   ],
   "source": [
    "# Сгруппируем данные по типу заведений\n",
    "place_grouped = rest_data.groupby('place_type').agg( count = ('place_type', 'count')).sort_values(by='count', ascending=False)\n",
    "place_grouped['rate%'] = round(place_grouped['count'] /  place_grouped['count'].sum() *100,2)\n",
    "place_grouped"
   ]
  },
  {
   "cell_type": "code",
   "execution_count": 26,
   "metadata": {},
   "outputs": [],
   "source": [
    "# Перед построением графиков установим стиль и палитру\n",
    "sns.set_style(\"darkgrid\")\n",
    "sns.set_palette('Paired')"
   ]
  },
  {
   "cell_type": "code",
   "execution_count": 27,
   "metadata": {
    "scrolled": false
   },
   "outputs": [
    {
     "data": {
      "image/png": "[encoded data removed]",
      "text/plain": [
       "<Figure size 720x360 with 1 Axes>"
      ]
     },
     "metadata": {},
     "output_type": "display_data"
    }
   ],
   "source": [
    "# Построим столбчатую диаграмму. Для удобства вывода немного изменим подписи на графике\n",
    "lables = list(map(lambda x: x.replace(\" \", '\\n'), place_grouped.index))\n",
    "\n",
    "plt.figure(figsize=(10, 5))\n",
    "sns.barplot(x=lables, y=\"count\", data=place_grouped)\n",
    "plt.xticks(rotation=80, fontsize = 12 )\n",
    "plt.title('Количество заведений общественного питания по типу', fontsize = 13)\n",
    "plt.ylabel('Количество заведений', fontsize = 13);"
   ]
  },
  {
   "cell_type": "code",
   "execution_count": 28,
   "metadata": {},
   "outputs": [
    {
     "data": {
      "image/png": "[encoded data removed]",
      "text/plain": [
       "<Figure size 504x504 with 1 Axes>"
      ]
     },
     "metadata": {},
     "output_type": "display_data"
    }
   ],
   "source": [
    "# Построим круговую диаграмму\n",
    "place_grouped.plot(y='count', kind='pie', figsize=(7,7), autopct='%1.1f%%')\n",
    "plt.ylabel('')\n",
    "plt.title('Соотношение заведений общественного питания по количеству (%)', fontsize = 13)\n",
    "plt.legend().set_visible(False)"
   ]
  },
  {
   "cell_type": "markdown",
   "metadata": {},
   "source": [
    "### Промежуточный вывод  \n",
    "С большим отрывом лидируют кафе, далее идут столовые и рестораны. Суммарно они занимают около 70% рынка."
   ]
  },
  {
   "cell_type": "markdown",
   "metadata": {},
   "source": [
    "***"
   ]
  },
  {
   "cell_type": "markdown",
   "metadata": {},
   "source": [
    "Исследуем соотношение сетевых и несетевых заведений по количеству. "
   ]
  },
  {
   "cell_type": "code",
   "execution_count": 29,
   "metadata": {},
   "outputs": [
    {
     "data": {
      "text/html": [
       "<div>\n",
       "<style scoped>\n",
       "    .dataframe tbody tr th:only-of-type {\n",
       "        vertical-align: middle;\n",
       "    }\n",
       "\n",
       "    .dataframe tbody tr th {\n",
       "        vertical-align: top;\n",
       "    }\n",
       "\n",
       "    .dataframe thead th {\n",
       "        text-align: right;\n",
       "    }\n",
       "</style>\n",
       "<table border=\"1\" class=\"dataframe\">\n",
       "  <thead>\n",
       "    <tr style=\"text-align: right;\">\n",
       "      <th></th>\n",
       "      <th>count</th>\n",
       "      <th>rate%</th>\n",
       "    </tr>\n",
       "    <tr>\n",
       "      <th>chain</th>\n",
       "      <th></th>\n",
       "      <th></th>\n",
       "    </tr>\n",
       "  </thead>\n",
       "  <tbody>\n",
       "    <tr>\n",
       "      <td>да</td>\n",
       "      <td>2951</td>\n",
       "      <td>19.42</td>\n",
       "    </tr>\n",
       "    <tr>\n",
       "      <td>нет</td>\n",
       "      <td>12245</td>\n",
       "      <td>80.58</td>\n",
       "    </tr>\n",
       "  </tbody>\n",
       "</table>\n",
       "</div>"
      ],
      "text/plain": [
       "       count  rate%\n",
       "chain              \n",
       "да      2951  19.42\n",
       "нет    12245  80.58"
      ]
     },
     "execution_count": 29,
     "metadata": {},
     "output_type": "execute_result"
    }
   ],
   "source": [
    "# Сгруппируем данные и посчитаем мтерики\n",
    "chain_grouped = rest_data.groupby('chain').agg( count = ('chain', 'count'))\n",
    "chain_grouped['rate%'] = round(chain_grouped['count'] /  chain_grouped['count'].sum() *100,2)\n",
    "chain_grouped"
   ]
  },
  {
   "cell_type": "markdown",
   "metadata": {},
   "source": [
    "Сетевых заведений примерно в четыре раза меньше."
   ]
  },
  {
   "cell_type": "code",
   "execution_count": 30,
   "metadata": {},
   "outputs": [
    {
     "data": {
      "text/html": [
       "<div>\n",
       "<style scoped>\n",
       "    .dataframe tbody tr th:only-of-type {\n",
       "        vertical-align: middle;\n",
       "    }\n",
       "\n",
       "    .dataframe tbody tr th {\n",
       "        vertical-align: top;\n",
       "    }\n",
       "\n",
       "    .dataframe thead th {\n",
       "        text-align: right;\n",
       "    }\n",
       "</style>\n",
       "<table border=\"1\" class=\"dataframe\">\n",
       "  <thead>\n",
       "    <tr style=\"text-align: right;\">\n",
       "      <th></th>\n",
       "      <th>place_type</th>\n",
       "      <th>chain</th>\n",
       "      <th>count</th>\n",
       "    </tr>\n",
       "  </thead>\n",
       "  <tbody>\n",
       "    <tr>\n",
       "      <td>7</td>\n",
       "      <td>кафе</td>\n",
       "      <td>нет</td>\n",
       "      <td>4628</td>\n",
       "    </tr>\n",
       "    <tr>\n",
       "      <td>17</td>\n",
       "      <td>столовая</td>\n",
       "      <td>нет</td>\n",
       "      <td>2572</td>\n",
       "    </tr>\n",
       "    <tr>\n",
       "      <td>15</td>\n",
       "      <td>ресторан</td>\n",
       "      <td>нет</td>\n",
       "      <td>1734</td>\n",
       "    </tr>\n",
       "    <tr>\n",
       "      <td>6</td>\n",
       "      <td>кафе</td>\n",
       "      <td>да</td>\n",
       "      <td>1389</td>\n",
       "    </tr>\n",
       "    <tr>\n",
       "      <td>13</td>\n",
       "      <td>предприятие быстрого обслуживания</td>\n",
       "      <td>нет</td>\n",
       "      <td>1107</td>\n",
       "    </tr>\n",
       "    <tr>\n",
       "      <td>1</td>\n",
       "      <td>бар</td>\n",
       "      <td>нет</td>\n",
       "      <td>816</td>\n",
       "    </tr>\n",
       "    <tr>\n",
       "      <td>12</td>\n",
       "      <td>предприятие быстрого обслуживания</td>\n",
       "      <td>да</td>\n",
       "      <td>784</td>\n",
       "    </tr>\n",
       "    <tr>\n",
       "      <td>3</td>\n",
       "      <td>буфет</td>\n",
       "      <td>нет</td>\n",
       "      <td>560</td>\n",
       "    </tr>\n",
       "    <tr>\n",
       "      <td>14</td>\n",
       "      <td>ресторан</td>\n",
       "      <td>да</td>\n",
       "      <td>542</td>\n",
       "    </tr>\n",
       "    <tr>\n",
       "      <td>9</td>\n",
       "      <td>кафетерий</td>\n",
       "      <td>нет</td>\n",
       "      <td>342</td>\n",
       "    </tr>\n",
       "    <tr>\n",
       "      <td>5</td>\n",
       "      <td>закусочная</td>\n",
       "      <td>нет</td>\n",
       "      <td>292</td>\n",
       "    </tr>\n",
       "    <tr>\n",
       "      <td>11</td>\n",
       "      <td>магазин (отдел кулинарии)</td>\n",
       "      <td>нет</td>\n",
       "      <td>194</td>\n",
       "    </tr>\n",
       "    <tr>\n",
       "      <td>10</td>\n",
       "      <td>магазин (отдел кулинарии)</td>\n",
       "      <td>да</td>\n",
       "      <td>78</td>\n",
       "    </tr>\n",
       "    <tr>\n",
       "      <td>4</td>\n",
       "      <td>закусочная</td>\n",
       "      <td>да</td>\n",
       "      <td>56</td>\n",
       "    </tr>\n",
       "    <tr>\n",
       "      <td>8</td>\n",
       "      <td>кафетерий</td>\n",
       "      <td>да</td>\n",
       "      <td>51</td>\n",
       "    </tr>\n",
       "    <tr>\n",
       "      <td>0</td>\n",
       "      <td>бар</td>\n",
       "      <td>да</td>\n",
       "      <td>37</td>\n",
       "    </tr>\n",
       "    <tr>\n",
       "      <td>2</td>\n",
       "      <td>буфет</td>\n",
       "      <td>да</td>\n",
       "      <td>11</td>\n",
       "    </tr>\n",
       "    <tr>\n",
       "      <td>16</td>\n",
       "      <td>столовая</td>\n",
       "      <td>да</td>\n",
       "      <td>3</td>\n",
       "    </tr>\n",
       "  </tbody>\n",
       "</table>\n",
       "</div>"
      ],
      "text/plain": [
       "                           place_type chain  count\n",
       "7                                кафе   нет   4628\n",
       "17                           столовая   нет   2572\n",
       "15                           ресторан   нет   1734\n",
       "6                                кафе    да   1389\n",
       "13  предприятие быстрого обслуживания   нет   1107\n",
       "1                                 бар   нет    816\n",
       "12  предприятие быстрого обслуживания    да    784\n",
       "3                               буфет   нет    560\n",
       "14                           ресторан    да    542\n",
       "9                           кафетерий   нет    342\n",
       "5                          закусочная   нет    292\n",
       "11          магазин (отдел кулинарии)   нет    194\n",
       "10          магазин (отдел кулинарии)    да     78\n",
       "4                          закусочная    да     56\n",
       "8                           кафетерий    да     51\n",
       "0                                 бар    да     37\n",
       "2                               буфет    да     11\n",
       "16                           столовая    да      3"
      ]
     },
     "execution_count": 30,
     "metadata": {},
     "output_type": "execute_result"
    }
   ],
   "source": [
    "# Посчитаем количество сетевых и несестевых заведений для каждого типа \n",
    "place_chain_grouped = (rest_data\n",
    "               .groupby(['place_type', 'chain'])\n",
    "               .agg(count = ('place_type', 'count'))\n",
    "               .reset_index()\n",
    "               .sort_values(by='count', ascending=False))\n",
    "place_chain_grouped"
   ]
  },
  {
   "cell_type": "code",
   "execution_count": 31,
   "metadata": {},
   "outputs": [
    {
     "data": {
      "image/png": "[encoded data removed]",
      "text/plain": [
       "<Figure size 720x360 with 1 Axes>"
      ]
     },
     "metadata": {},
     "output_type": "display_data"
    }
   ],
   "source": [
    "# Построим график по всем заведениям Для удобства вывода немного изменим подписи на графике\n",
    "lables = list(map(lambda x: x.replace(\" \", '\\n'), place_chain_grouped['place_type']))\n",
    "\n",
    "plt.figure(figsize=(10, 5))\n",
    "sns.barplot(x=lables, y=\"count\", hue='chain', data=place_chain_grouped)\n",
    "plt.xticks(rotation=80, fontsize = 11 )\n",
    "plt.title('Соотношение сетевых и несетевых заведений по количеству', fontsize = 13)\n",
    "plt.ylabel('Количество заведений', fontsize = 13)\n",
    "plt.legend(title=\"Сетевой\");"
   ]
  },
  {
   "cell_type": "markdown",
   "metadata": {},
   "source": [
    "Пропорции по количеству для сетевых и несетевых не сохраняются: на графике несетевые плавно убывают слева направо, в то время как сетевые изменяются скачкообразно."
   ]
  },
  {
   "cell_type": "code",
   "execution_count": 32,
   "metadata": {
    "scrolled": false
   },
   "outputs": [
    {
     "data": {
      "image/png": "[encoded data removed]",
      "text/plain": [
       "<Figure size 720x360 with 1 Axes>"
      ]
     },
     "metadata": {},
     "output_type": "display_data"
    }
   ],
   "source": [
    "# Построим график только по сетевым заведениям\n",
    "lables = list(map(lambda x: x.replace(\" \", '\\n'), place_chain_grouped.query('chain == \"да\"')['place_type']))\n",
    "\n",
    "plt.figure(figsize=(10, 5))\n",
    "sns.barplot(x=lables, y=\"count\" , data=place_chain_grouped.query('chain == \"да\"'))\n",
    "plt.xticks(rotation=80, fontsize = 11 )\n",
    "plt.title('Количество сетевых заведений', fontsize = 13)\n",
    "plt.ylabel('Количество заведений', fontsize = 13);"
   ]
  },
  {
   "cell_type": "code",
   "execution_count": 33,
   "metadata": {},
   "outputs": [
    {
     "data": {
      "text/html": [
       "<div>\n",
       "<style scoped>\n",
       "    .dataframe tbody tr th:only-of-type {\n",
       "        vertical-align: middle;\n",
       "    }\n",
       "\n",
       "    .dataframe tbody tr th {\n",
       "        vertical-align: top;\n",
       "    }\n",
       "\n",
       "    .dataframe thead th {\n",
       "        text-align: right;\n",
       "    }\n",
       "</style>\n",
       "<table border=\"1\" class=\"dataframe\">\n",
       "  <thead>\n",
       "    <tr style=\"text-align: right;\">\n",
       "      <th></th>\n",
       "      <th>place_type</th>\n",
       "      <th>count</th>\n",
       "      <th>rate%</th>\n",
       "    </tr>\n",
       "  </thead>\n",
       "  <tbody>\n",
       "    <tr>\n",
       "      <td>0</td>\n",
       "      <td>кафе</td>\n",
       "      <td>1389</td>\n",
       "      <td>23.08</td>\n",
       "    </tr>\n",
       "    <tr>\n",
       "      <td>1</td>\n",
       "      <td>предприятие быстрого обслуживания</td>\n",
       "      <td>784</td>\n",
       "      <td>41.46</td>\n",
       "    </tr>\n",
       "    <tr>\n",
       "      <td>2</td>\n",
       "      <td>ресторан</td>\n",
       "      <td>542</td>\n",
       "      <td>23.81</td>\n",
       "    </tr>\n",
       "    <tr>\n",
       "      <td>3</td>\n",
       "      <td>магазин (отдел кулинарии)</td>\n",
       "      <td>78</td>\n",
       "      <td>28.68</td>\n",
       "    </tr>\n",
       "    <tr>\n",
       "      <td>4</td>\n",
       "      <td>закусочная</td>\n",
       "      <td>56</td>\n",
       "      <td>16.09</td>\n",
       "    </tr>\n",
       "    <tr>\n",
       "      <td>5</td>\n",
       "      <td>кафетерий</td>\n",
       "      <td>51</td>\n",
       "      <td>12.98</td>\n",
       "    </tr>\n",
       "    <tr>\n",
       "      <td>6</td>\n",
       "      <td>бар</td>\n",
       "      <td>37</td>\n",
       "      <td>4.34</td>\n",
       "    </tr>\n",
       "    <tr>\n",
       "      <td>7</td>\n",
       "      <td>буфет</td>\n",
       "      <td>11</td>\n",
       "      <td>1.93</td>\n",
       "    </tr>\n",
       "    <tr>\n",
       "      <td>8</td>\n",
       "      <td>столовая</td>\n",
       "      <td>3</td>\n",
       "      <td>0.12</td>\n",
       "    </tr>\n",
       "  </tbody>\n",
       "</table>\n",
       "</div>"
      ],
      "text/plain": [
       "                          place_type  count  rate%\n",
       "0                               кафе   1389  23.08\n",
       "1  предприятие быстрого обслуживания    784  41.46\n",
       "2                           ресторан    542  23.81\n",
       "3          магазин (отдел кулинарии)     78  28.68\n",
       "4                         закусочная     56  16.09\n",
       "5                          кафетерий     51  12.98\n",
       "6                                бар     37   4.34\n",
       "7                              буфет     11   1.93\n",
       "8                           столовая      3   0.12"
      ]
     },
     "execution_count": 33,
     "metadata": {},
     "output_type": "execute_result"
    }
   ],
   "source": [
    "# Узнаем процентное соотношение количества сетевых заведений к общему количеству\n",
    "place_chain = (place_chain_grouped\n",
    "               .query('chain == \"да\"')\n",
    "               .merge(place_grouped\n",
    "                      .reset_index()[['place_type', 'count']],\n",
    "                      left_on='place_type', right_on='place_type',\n",
    "                      suffixes=['', '_all']))\n",
    "\n",
    "place_chain['rate%'] = round(place_chain['count'] / place_chain['count_all']*100,2)\n",
    "place_chain.drop(['chain', 'count_all'], axis=1)"
   ]
  },
  {
   "cell_type": "markdown",
   "metadata": {},
   "source": [
    "### Промежуточный вывод  \n",
    "Сетевых заведений в Москве в 4 раза меньше чем несетевых. Среди стевых наиболее распространены кафе, рестораны и предприятия быстрого обслуживания (по сути обычные \"забегаловки\")."
   ]
  },
  {
   "cell_type": "markdown",
   "metadata": {},
   "source": [
    "***"
   ]
  },
  {
   "cell_type": "markdown",
   "metadata": {},
   "source": [
    "Выясним, что более характерно для сетевых заведений:\n",
    "* **много** заведений с **небольшим** числом посадочных мест в каждом  \n",
    "или\n",
    "* **мало** заведений с **большим** количеством посадочных мест"
   ]
  },
  {
   "cell_type": "code",
   "execution_count": 34,
   "metadata": {
    "scrolled": false
   },
   "outputs": [
    {
     "data": {
      "text/html": [
       "<div>\n",
       "<style scoped>\n",
       "    .dataframe tbody tr th:only-of-type {\n",
       "        vertical-align: middle;\n",
       "    }\n",
       "\n",
       "    .dataframe tbody tr th {\n",
       "        vertical-align: top;\n",
       "    }\n",
       "\n",
       "    .dataframe thead th {\n",
       "        text-align: right;\n",
       "    }\n",
       "</style>\n",
       "<table border=\"1\" class=\"dataframe\">\n",
       "  <thead>\n",
       "    <tr style=\"text-align: right;\">\n",
       "      <th></th>\n",
       "      <th>id</th>\n",
       "      <th>place_name</th>\n",
       "      <th>chain</th>\n",
       "      <th>place_type</th>\n",
       "      <th>address</th>\n",
       "      <th>number_of_seats</th>\n",
       "    </tr>\n",
       "  </thead>\n",
       "  <tbody>\n",
       "    <tr>\n",
       "      <td>3</td>\n",
       "      <td>21894</td>\n",
       "      <td>пиццетория</td>\n",
       "      <td>да</td>\n",
       "      <td>кафе</td>\n",
       "      <td>город Москва, Абрамцевская улица, дом 1</td>\n",
       "      <td>40</td>\n",
       "    </tr>\n",
       "    <tr>\n",
       "      <td>6</td>\n",
       "      <td>148815</td>\n",
       "      <td>брусника</td>\n",
       "      <td>да</td>\n",
       "      <td>кафе</td>\n",
       "      <td>город Москва, переулок Сивцев Вражек, дом 6/2</td>\n",
       "      <td>10</td>\n",
       "    </tr>\n",
       "    <tr>\n",
       "      <td>13</td>\n",
       "      <td>22579</td>\n",
       "      <td>алло пицца</td>\n",
       "      <td>да</td>\n",
       "      <td>кафе</td>\n",
       "      <td>город Москва, улица Авиаторов, дом 14</td>\n",
       "      <td>32</td>\n",
       "    </tr>\n",
       "    <tr>\n",
       "      <td>16</td>\n",
       "      <td>144107</td>\n",
       "      <td>суши wok</td>\n",
       "      <td>да</td>\n",
       "      <td>предприятие быстрого обслуживания</td>\n",
       "      <td>город Москва, Азовская улица, дом 3</td>\n",
       "      <td>7</td>\n",
       "    </tr>\n",
       "    <tr>\n",
       "      <td>18</td>\n",
       "      <td>58565</td>\n",
       "      <td>тануки</td>\n",
       "      <td>да</td>\n",
       "      <td>ресторан</td>\n",
       "      <td>город Москва, Большая Академическая улица, дом 65</td>\n",
       "      <td>160</td>\n",
       "    </tr>\n",
       "  </tbody>\n",
       "</table>\n",
       "</div>"
      ],
      "text/plain": [
       "        id  place_name chain                         place_type  \\\n",
       "3    21894  пиццетория    да                               кафе   \n",
       "6   148815    брусника    да                               кафе   \n",
       "13   22579  алло пицца    да                               кафе   \n",
       "16  144107    суши wok    да  предприятие быстрого обслуживания   \n",
       "18   58565      тануки    да                           ресторан   \n",
       "\n",
       "                                              address  number_of_seats  \n",
       "3             город Москва, Абрамцевская улица, дом 1               40  \n",
       "6       город Москва, переулок Сивцев Вражек, дом 6/2               10  \n",
       "13              город Москва, улица Авиаторов, дом 14               32  \n",
       "16                город Москва, Азовская улица, дом 3                7  \n",
       "18  город Москва, Большая Академическая улица, дом 65              160  "
      ]
     },
     "execution_count": 34,
     "metadata": {},
     "output_type": "execute_result"
    }
   ],
   "source": [
    "# Выделим сетевые рестораны\n",
    "chain_places = rest_data.query('chain == \"да\"')\n",
    "chain_places.head()"
   ]
  },
  {
   "cell_type": "code",
   "execution_count": 35,
   "metadata": {},
   "outputs": [
    {
     "data": {
      "text/html": [
       "<div>\n",
       "<style scoped>\n",
       "    .dataframe tbody tr th:only-of-type {\n",
       "        vertical-align: middle;\n",
       "    }\n",
       "\n",
       "    .dataframe tbody tr th {\n",
       "        vertical-align: top;\n",
       "    }\n",
       "\n",
       "    .dataframe thead th {\n",
       "        text-align: right;\n",
       "    }\n",
       "</style>\n",
       "<table border=\"1\" class=\"dataframe\">\n",
       "  <thead>\n",
       "    <tr style=\"text-align: right;\">\n",
       "      <th></th>\n",
       "      <th>place_count</th>\n",
       "      <th>median_number</th>\n",
       "    </tr>\n",
       "    <tr>\n",
       "      <th>place_name</th>\n",
       "      <th></th>\n",
       "      <th></th>\n",
       "    </tr>\n",
       "  </thead>\n",
       "  <tbody>\n",
       "    <tr>\n",
       "      <td>beverly hills diner</td>\n",
       "      <td>1</td>\n",
       "      <td>88.0</td>\n",
       "    </tr>\n",
       "    <tr>\n",
       "      <td>bierloga</td>\n",
       "      <td>1</td>\n",
       "      <td>75.0</td>\n",
       "    </tr>\n",
       "    <tr>\n",
       "      <td>black &amp; white</td>\n",
       "      <td>1</td>\n",
       "      <td>40.0</td>\n",
       "    </tr>\n",
       "    <tr>\n",
       "      <td>bocconcino</td>\n",
       "      <td>3</td>\n",
       "      <td>68.0</td>\n",
       "    </tr>\n",
       "    <tr>\n",
       "      <td>boobo</td>\n",
       "      <td>1</td>\n",
       "      <td>46.0</td>\n",
       "    </tr>\n",
       "  </tbody>\n",
       "</table>\n",
       "</div>"
      ],
      "text/plain": [
       "                     place_count  median_number\n",
       "place_name                                     \n",
       "beverly hills diner            1           88.0\n",
       "bierloga                       1           75.0\n",
       "black & white                  1           40.0\n",
       "bocconcino                     3           68.0\n",
       "boobo                          1           46.0"
      ]
     },
     "execution_count": 35,
     "metadata": {},
     "output_type": "execute_result"
    }
   ],
   "source": [
    "# Сгруппируем сети по названиям, посчитаем кол-во заведений и посадочных мест\n",
    "chain_places_grouped = (chain_places\n",
    "                        .groupby('place_name')\n",
    "                        .agg( place_count = ('place_name', 'count'),\n",
    "                             median_number=('number_of_seats','median')))\n",
    "chain_places_grouped.head()"
   ]
  },
  {
   "cell_type": "code",
   "execution_count": 36,
   "metadata": {
    "scrolled": false
   },
   "outputs": [
    {
     "data": {
      "image/png": "[encoded data removed]",
      "text/plain": [
       "<Figure size 720x360 with 1 Axes>"
      ]
     },
     "metadata": {},
     "output_type": "display_data"
    }
   ],
   "source": [
    "# Построим точечный график зависимости количества заведений и медианнного количества мест\n",
    "plt.figure(figsize=(10, 5))\n",
    "sns.scatterplot(x=\"median_number\", y=\"place_count\", data=chain_places_grouped);\n",
    "plt.title('Распределение заведений по количеству заведений и посадочных мест', fontsize = 13)\n",
    "plt.ylabel('Количество заведений', fontsize = 13);\n",
    "plt.xlabel('Медианное количество посадочных мест', fontsize = 13);"
   ]
  },
  {
   "cell_type": "markdown",
   "metadata": {},
   "source": [
    "### Промежуточный вывод  \n",
    "Большинство сетей имеет до 20 заведений и в них до 150 мест."
   ]
  },
  {
   "cell_type": "markdown",
   "metadata": {},
   "source": [
    "***"
   ]
  },
  {
   "cell_type": "markdown",
   "metadata": {},
   "source": [
    "Для каждого вида объекта общественного питания опишем среднее количество посадочных мест. Узнаем, какой вид предоставляет в среднем самое большое количество посадочных мест."
   ]
  },
  {
   "cell_type": "code",
   "execution_count": 37,
   "metadata": {},
   "outputs": [
    {
     "data": {
      "text/html": [
       "<div>\n",
       "<style scoped>\n",
       "    .dataframe tbody tr th:only-of-type {\n",
       "        vertical-align: middle;\n",
       "    }\n",
       "\n",
       "    .dataframe tbody tr th {\n",
       "        vertical-align: top;\n",
       "    }\n",
       "\n",
       "    .dataframe thead th {\n",
       "        text-align: right;\n",
       "    }\n",
       "</style>\n",
       "<table border=\"1\" class=\"dataframe\">\n",
       "  <thead>\n",
       "    <tr style=\"text-align: right;\">\n",
       "      <th></th>\n",
       "      <th>place_count</th>\n",
       "      <th>median_number</th>\n",
       "    </tr>\n",
       "    <tr>\n",
       "      <th>place_name</th>\n",
       "      <th></th>\n",
       "      <th></th>\n",
       "    </tr>\n",
       "  </thead>\n",
       "  <tbody>\n",
       "    <tr>\n",
       "      <td>beverly hills diner</td>\n",
       "      <td>1</td>\n",
       "      <td>88.0</td>\n",
       "    </tr>\n",
       "    <tr>\n",
       "      <td>bierloga</td>\n",
       "      <td>1</td>\n",
       "      <td>75.0</td>\n",
       "    </tr>\n",
       "    <tr>\n",
       "      <td>black &amp; white</td>\n",
       "      <td>1</td>\n",
       "      <td>40.0</td>\n",
       "    </tr>\n",
       "    <tr>\n",
       "      <td>bocconcino</td>\n",
       "      <td>3</td>\n",
       "      <td>68.0</td>\n",
       "    </tr>\n",
       "    <tr>\n",
       "      <td>boobo</td>\n",
       "      <td>1</td>\n",
       "      <td>46.0</td>\n",
       "    </tr>\n",
       "  </tbody>\n",
       "</table>\n",
       "</div>"
      ],
      "text/plain": [
       "                     place_count  median_number\n",
       "place_name                                     \n",
       "beverly hills diner            1           88.0\n",
       "bierloga                       1           75.0\n",
       "black & white                  1           40.0\n",
       "bocconcino                     3           68.0\n",
       "boobo                          1           46.0"
      ]
     },
     "execution_count": 37,
     "metadata": {},
     "output_type": "execute_result"
    }
   ],
   "source": [
    "# Сгруппируем сети по названиям, посчитаем кол-во заведений и посадочных мест\n",
    "chain_places_grouped = (chain_places\n",
    "                        .groupby('place_name')\n",
    "                        .agg( place_count = ('place_name', 'count'),\n",
    "                             median_number=('number_of_seats','median')))\n",
    "chain_places_grouped.head()"
   ]
  },
  {
   "cell_type": "code",
   "execution_count": 38,
   "metadata": {},
   "outputs": [
    {
     "data": {
      "text/html": [
       "<div>\n",
       "<style scoped>\n",
       "    .dataframe tbody tr th:only-of-type {\n",
       "        vertical-align: middle;\n",
       "    }\n",
       "\n",
       "    .dataframe tbody tr th {\n",
       "        vertical-align: top;\n",
       "    }\n",
       "\n",
       "    .dataframe thead th {\n",
       "        text-align: right;\n",
       "    }\n",
       "</style>\n",
       "<table border=\"1\" class=\"dataframe\">\n",
       "  <thead>\n",
       "    <tr style=\"text-align: right;\">\n",
       "      <th></th>\n",
       "      <th>count</th>\n",
       "      <th>rate%</th>\n",
       "      <th>av_number_of_seats</th>\n",
       "    </tr>\n",
       "    <tr>\n",
       "      <th>place_type</th>\n",
       "      <th></th>\n",
       "      <th></th>\n",
       "      <th></th>\n",
       "    </tr>\n",
       "  </thead>\n",
       "  <tbody>\n",
       "    <tr>\n",
       "      <td>кафе</td>\n",
       "      <td>6017</td>\n",
       "      <td>39.60</td>\n",
       "      <td>40.0</td>\n",
       "    </tr>\n",
       "    <tr>\n",
       "      <td>столовая</td>\n",
       "      <td>2575</td>\n",
       "      <td>16.95</td>\n",
       "      <td>130.0</td>\n",
       "    </tr>\n",
       "    <tr>\n",
       "      <td>ресторан</td>\n",
       "      <td>2276</td>\n",
       "      <td>14.98</td>\n",
       "      <td>97.0</td>\n",
       "    </tr>\n",
       "    <tr>\n",
       "      <td>предприятие быстрого обслуживания</td>\n",
       "      <td>1891</td>\n",
       "      <td>12.44</td>\n",
       "      <td>21.0</td>\n",
       "    </tr>\n",
       "    <tr>\n",
       "      <td>бар</td>\n",
       "      <td>853</td>\n",
       "      <td>5.61</td>\n",
       "      <td>44.0</td>\n",
       "    </tr>\n",
       "    <tr>\n",
       "      <td>буфет</td>\n",
       "      <td>571</td>\n",
       "      <td>3.76</td>\n",
       "      <td>52.0</td>\n",
       "    </tr>\n",
       "    <tr>\n",
       "      <td>кафетерий</td>\n",
       "      <td>393</td>\n",
       "      <td>2.59</td>\n",
       "      <td>9.0</td>\n",
       "    </tr>\n",
       "    <tr>\n",
       "      <td>закусочная</td>\n",
       "      <td>348</td>\n",
       "      <td>2.29</td>\n",
       "      <td>8.0</td>\n",
       "    </tr>\n",
       "    <tr>\n",
       "      <td>магазин (отдел кулинарии)</td>\n",
       "      <td>272</td>\n",
       "      <td>1.79</td>\n",
       "      <td>6.0</td>\n",
       "    </tr>\n",
       "  </tbody>\n",
       "</table>\n",
       "</div>"
      ],
      "text/plain": [
       "                                   count  rate%  av_number_of_seats\n",
       "place_type                                                         \n",
       "кафе                                6017  39.60                40.0\n",
       "столовая                            2575  16.95               130.0\n",
       "ресторан                            2276  14.98                97.0\n",
       "предприятие быстрого обслуживания   1891  12.44                21.0\n",
       "бар                                  853   5.61                44.0\n",
       "буфет                                571   3.76                52.0\n",
       "кафетерий                            393   2.59                 9.0\n",
       "закусочная                           348   2.29                 8.0\n",
       "магазин (отдел кулинарии)            272   1.79                 6.0"
      ]
     },
     "execution_count": 38,
     "metadata": {},
     "output_type": "execute_result"
    }
   ],
   "source": [
    "# Посчитаем среднее количество посадочных мест\n",
    "place_grouped = (place_grouped\n",
    "                 .join(rest_data\n",
    "                       .groupby('place_type')\n",
    "                       .agg( av_number_of_seats = ('number_of_seats', 'mean'))\n",
    "                       .round()))\n",
    "place_grouped"
   ]
  },
  {
   "cell_type": "code",
   "execution_count": 39,
   "metadata": {
    "scrolled": false
   },
   "outputs": [
    {
     "data": {
      "image/png": "[encoded data removed]",
      "text/plain": [
       "<Figure size 720x360 with 1 Axes>"
      ]
     },
     "metadata": {},
     "output_type": "display_data"
    }
   ],
   "source": [
    "# Исследуем соотношение видов объектов общественного питания по количеству мест\n",
    "plt.figure(figsize=(10, 5))\n",
    "plt.ylim(-1, 500)\n",
    "sns.boxplot(x=\"place_type\", y=\"number_of_seats\", data=rest_data)\n",
    "plt.xticks(rotation=80, fontsize = 11 )\n",
    "plt.title('Соотношение видов объектов общественного питания по среднему количеству мест', fontsize = 11)\n",
    "plt.ylabel('Среднее количество посадочных мест', fontsize = 10);\n",
    "plt.xlabel('');"
   ]
  },
  {
   "cell_type": "markdown",
   "metadata": {},
   "source": [
    "### Промежуточный вывод  \n",
    "Больше всего посадочных мест в столовых и в ресторанах."
   ]
  },
  {
   "cell_type": "markdown",
   "metadata": {},
   "source": [
    "### Анализ расположения заведений"
   ]
  },
  {
   "cell_type": "markdown",
   "metadata": {},
   "source": [
    "Выделим в отдельный столбец информацию об улице из столбца address. Для автоматизации этого процесса возьмем перечень с типами улиц из [Википедии](https://ru.wikipedia.org/wiki/Улица)."
   ]
  },
  {
   "cell_type": "code",
   "execution_count": 40,
   "metadata": {},
   "outputs": [],
   "source": [
    "# Создадим список со всеми классами улиц\n",
    "street_list = ['улица', 'бульвар', 'переулок', 'проезд' , 'проспект', 'шоссе',\\\n",
    "               'линия','площадь', 'набережная', 'аллея', 'квартал' ]"
   ]
  },
  {
   "cell_type": "code",
   "execution_count": 41,
   "metadata": {},
   "outputs": [],
   "source": [
    "# Создадим вспомогатльеную функцию для извлечения улицы из адреса\n",
    "def get_street(address):\n",
    "    for subject in address.split(','): # Разобьем адрес на субъекты\n",
    "        if len(list(set(street_list) & set(subject.split()))): # Разобьем субъект на свлоа и найдем вхождение в street_list\n",
    "            return subject.strip()  "
   ]
  },
  {
   "cell_type": "code",
   "execution_count": 42,
   "metadata": {},
   "outputs": [
    {
     "data": {
      "text/plain": [
       "0    улица Егора Абакумова\n",
       "1         улица Талалихина\n",
       "2     Абельмановская улица\n",
       "3       Абрамцевская улица\n",
       "4       Абрамцевская улица\n",
       "Name: street, dtype: object"
      ]
     },
     "execution_count": 42,
     "metadata": {},
     "output_type": "execute_result"
    }
   ],
   "source": [
    "# Извлечем названия улиц из адресов и проверим результат\n",
    "rest_data['street'] = rest_data['address'].apply(get_street)\n",
    "rest_data['street'].head() "
   ]
  },
  {
   "cell_type": "code",
   "execution_count": 43,
   "metadata": {
    "scrolled": true
   },
   "outputs": [
    {
     "data": {
      "text/plain": [
       "394"
      ]
     },
     "execution_count": 43,
     "metadata": {},
     "output_type": "execute_result"
    }
   ],
   "source": [
    "# Проверим, сколько осталось незаполненных ячеек\n",
    "rest_data['street'].isna().sum()"
   ]
  },
  {
   "cell_type": "code",
   "execution_count": 44,
   "metadata": {},
   "outputs": [
    {
     "name": "stdout",
     "output_type": "stream",
     "text": [
      "Доля незаполненных улиц: 2.59%\n"
     ]
    }
   ],
   "source": [
    "print(\"Доля незаполненных улиц: {:.2%}\".format(rest_data['street'].isna().sum() / rest_data.shape[0]))"
   ]
  },
  {
   "cell_type": "code",
   "execution_count": 45,
   "metadata": {},
   "outputs": [
    {
     "data": {
      "text/plain": [
       "1402            город Москва, город Зеленоград, корпус 401\n",
       "1403            город Москва, город Зеленоград, корпус 435\n",
       "1404            город Москва, город Зеленоград, корпус 436\n",
       "1405            город Москва, город Зеленоград, корпус 438\n",
       "1406           город Москва, город Зеленоград, корпус 834А\n",
       "                               ...                        \n",
       "14837    город Москва, поселение Десеновское, деревня В...\n",
       "14850    поселение \"Мосрентген\", деревня Дудкино, владе...\n",
       "14972    город Москва, город Зеленоград, Проезд № 4806,...\n",
       "15018          город Москва, город Зеленоград, корпус 1627\n",
       "15106    город Москва, микрорайон Северное Чертаново, д...\n",
       "Name: address, Length: 394, dtype: object"
      ]
     },
     "execution_count": 45,
     "metadata": {},
     "output_type": "execute_result"
    }
   ],
   "source": [
    "# Изучим, из каких адресов не полуичлось извлечь имя улицы\n",
    "rest_data.query('street.isna()')['address'] "
   ]
  },
  {
   "cell_type": "markdown",
   "metadata": {},
   "source": [
    "Поверхностный взгляд дает понять, что речь идет о различных специфичных субъектах, где отсутствует классическое деление на улицы: деревни, микрорайоны, город Зеленоград (город полностью без улиц) и тд. Учитывая, что суммарно таких строк менеее 3%, то в дальнейшем исследовании их можно не учитывать."
   ]
  },
  {
   "cell_type": "markdown",
   "metadata": {},
   "source": [
    "Необходимо узнать, в каких районах Москвы находятся эти улицы. Для этого воспользуемся внешним источником: [Адресный реестр объектов недвижимости города Москвы](https://data.mos.ru/opendata/60562). Скачаем таблицу и зальем на Google Drive."
   ]
  },
  {
   "cell_type": "code",
   "execution_count": 46,
   "metadata": {},
   "outputs": [
    {
     "data": {
      "text/html": [
       "<div>\n",
       "<style scoped>\n",
       "    .dataframe tbody tr th:only-of-type {\n",
       "        vertical-align: middle;\n",
       "    }\n",
       "\n",
       "    .dataframe tbody tr th {\n",
       "        vertical-align: top;\n",
       "    }\n",
       "\n",
       "    .dataframe thead th {\n",
       "        text-align: right;\n",
       "    }\n",
       "</style>\n",
       "<table border=\"1\" class=\"dataframe\">\n",
       "  <thead>\n",
       "    <tr style=\"text-align: right;\">\n",
       "      <th></th>\n",
       "      <th>ADM_AREA</th>\n",
       "      <th>DISTRICT</th>\n",
       "      <th>P3</th>\n",
       "    </tr>\n",
       "  </thead>\n",
       "  <tbody>\n",
       "    <tr>\n",
       "      <td>0</td>\n",
       "      <td>Южный административный округ</td>\n",
       "      <td>муниципальный округ Чертаново Южное</td>\n",
       "      <td>Варшавское шоссе</td>\n",
       "    </tr>\n",
       "    <tr>\n",
       "      <td>1</td>\n",
       "      <td>Восточный административный округ</td>\n",
       "      <td>муниципальный округ Вешняки</td>\n",
       "      <td>Косинская улица</td>\n",
       "    </tr>\n",
       "    <tr>\n",
       "      <td>2</td>\n",
       "      <td>Центральный административный округ</td>\n",
       "      <td>муниципальный округ Басманный</td>\n",
       "      <td>Гороховский переулок</td>\n",
       "    </tr>\n",
       "    <tr>\n",
       "      <td>3</td>\n",
       "      <td>Восточный административный округ</td>\n",
       "      <td>муниципальный округ Метрогородок</td>\n",
       "      <td>Тагильская улица</td>\n",
       "    </tr>\n",
       "    <tr>\n",
       "      <td>4</td>\n",
       "      <td>Северный административный округ</td>\n",
       "      <td>муниципальный округ Сокол</td>\n",
       "      <td>Ленинградский проспект</td>\n",
       "    </tr>\n",
       "  </tbody>\n",
       "</table>\n",
       "</div>"
      ],
      "text/plain": [
       "                             ADM_AREA                             DISTRICT  \\\n",
       "0        Южный административный округ  муниципальный округ Чертаново Южное   \n",
       "1    Восточный административный округ          муниципальный округ Вешняки   \n",
       "2  Центральный административный округ        муниципальный округ Басманный   \n",
       "3    Восточный административный округ     муниципальный округ Метрогородок   \n",
       "4     Северный административный округ            муниципальный округ Сокол   \n",
       "\n",
       "                       P3  \n",
       "0        Варшавское шоссе  \n",
       "1         Косинская улица  \n",
       "2    Гороховский переулок  \n",
       "3        Тагильская улица  \n",
       "4  Ленинградский проспект  "
      ]
     },
     "execution_count": 46,
     "metadata": {},
     "output_type": "execute_result"
    }
   ],
   "source": [
    "# Импортируем данные с гугл драйва\n",
    "spreadsheet_id = '1M4ImEr1S-xvZb81R4waRK6aveQL49Vefobd030yPM90'\n",
    "\n",
    "file_name = 'https://docs.google.com/spreadsheets/d/{}/export?format=csv'.format(spreadsheet_id)\n",
    "r = requests.get(file_name)\n",
    "reestr = pd.read_csv(BytesIO(r.content))\n",
    "reestr.head()"
   ]
  },
  {
   "cell_type": "code",
   "execution_count": 47,
   "metadata": {},
   "outputs": [
    {
     "data": {
      "text/html": [
       "<div>\n",
       "<style scoped>\n",
       "    .dataframe tbody tr th:only-of-type {\n",
       "        vertical-align: middle;\n",
       "    }\n",
       "\n",
       "    .dataframe tbody tr th {\n",
       "        vertical-align: top;\n",
       "    }\n",
       "\n",
       "    .dataframe thead th {\n",
       "        text-align: right;\n",
       "    }\n",
       "</style>\n",
       "<table border=\"1\" class=\"dataframe\">\n",
       "  <thead>\n",
       "    <tr style=\"text-align: right;\">\n",
       "      <th></th>\n",
       "      <th>street</th>\n",
       "      <th>adm_area</th>\n",
       "      <th>district</th>\n",
       "    </tr>\n",
       "  </thead>\n",
       "  <tbody>\n",
       "    <tr>\n",
       "      <td>0</td>\n",
       "      <td>Варшавское шоссе</td>\n",
       "      <td>Южный административный округ</td>\n",
       "      <td>муниципальный округ Чертаново Южное</td>\n",
       "    </tr>\n",
       "    <tr>\n",
       "      <td>1</td>\n",
       "      <td>Косинская улица</td>\n",
       "      <td>Восточный административный округ</td>\n",
       "      <td>муниципальный округ Вешняки</td>\n",
       "    </tr>\n",
       "    <tr>\n",
       "      <td>2</td>\n",
       "      <td>Гороховский переулок</td>\n",
       "      <td>Центральный административный округ</td>\n",
       "      <td>муниципальный округ Басманный</td>\n",
       "    </tr>\n",
       "    <tr>\n",
       "      <td>3</td>\n",
       "      <td>Тагильская улица</td>\n",
       "      <td>Восточный административный округ</td>\n",
       "      <td>муниципальный округ Метрогородок</td>\n",
       "    </tr>\n",
       "    <tr>\n",
       "      <td>4</td>\n",
       "      <td>Ленинградский проспект</td>\n",
       "      <td>Северный административный округ</td>\n",
       "      <td>муниципальный округ Сокол</td>\n",
       "    </tr>\n",
       "  </tbody>\n",
       "</table>\n",
       "</div>"
      ],
      "text/plain": [
       "                   street                            adm_area  \\\n",
       "0        Варшавское шоссе        Южный административный округ   \n",
       "1         Косинская улица    Восточный административный округ   \n",
       "2    Гороховский переулок  Центральный административный округ   \n",
       "3        Тагильская улица    Восточный административный округ   \n",
       "4  Ленинградский проспект     Северный административный округ   \n",
       "\n",
       "                              district  \n",
       "0  муниципальный округ Чертаново Южное  \n",
       "1          муниципальный округ Вешняки  \n",
       "2        муниципальный округ Басманный  \n",
       "3     муниципальный округ Метрогородок  \n",
       "4            муниципальный округ Сокол  "
      ]
     },
     "execution_count": 47,
     "metadata": {},
     "output_type": "execute_result"
    }
   ],
   "source": [
    "# Оставим только нужные столбцы и переименуем столбцы\n",
    "reestr = reestr[['P3', 'ADM_AREA', 'DISTRICT']]\n",
    "reestr.columns = ['street', 'adm_area', 'district']\n",
    "reestr.head()"
   ]
  },
  {
   "cell_type": "code",
   "execution_count": 48,
   "metadata": {},
   "outputs": [
    {
     "name": "stdout",
     "output_type": "stream",
     "text": [
      "<class 'pandas.core.frame.DataFrame'>\n",
      "RangeIndex: 6785 entries, 0 to 6784\n",
      "Data columns (total 3 columns):\n",
      "street      6651 non-null object\n",
      "adm_area    6785 non-null object\n",
      "district    6785 non-null object\n",
      "dtypes: object(3)\n",
      "memory usage: 159.1+ KB\n"
     ]
    }
   ],
   "source": [
    "# Узнаем общую информацию про данные\n",
    "reestr.info()"
   ]
  },
  {
   "cell_type": "markdown",
   "metadata": {},
   "source": [
    "В таблице reestr 4 столбца. В них содержится информация об объектах в Мсокве:  \n",
    "* **street** — улица объекта;\n",
    "* **adm_area** — административный округ объекта;\n",
    "* **district** — район объекта;\n",
    "\n",
    "В данных есть пропуски с толбце street. Это вызвано тем, что не у всех объектов есть улица в адресе."
   ]
  },
  {
   "cell_type": "code",
   "execution_count": 49,
   "metadata": {},
   "outputs": [
    {
     "data": {
      "text/plain": [
       "0"
      ]
     },
     "execution_count": 49,
     "metadata": {},
     "output_type": "execute_result"
    }
   ],
   "source": [
    "# Выделим столбцы с улицей,районом и окргуом, проверим на наличие дубликатов\n",
    "reestr_cleared = reestr[['street', 'adm_area', 'district']]\n",
    "reestr_cleared.duplicated().sum()"
   ]
  },
  {
   "cell_type": "code",
   "execution_count": 50,
   "metadata": {},
   "outputs": [
    {
     "data": {
      "text/html": [
       "<div>\n",
       "<style scoped>\n",
       "    .dataframe tbody tr th:only-of-type {\n",
       "        vertical-align: middle;\n",
       "    }\n",
       "\n",
       "    .dataframe tbody tr th {\n",
       "        vertical-align: top;\n",
       "    }\n",
       "\n",
       "    .dataframe thead th {\n",
       "        text-align: right;\n",
       "    }\n",
       "</style>\n",
       "<table border=\"1\" class=\"dataframe\">\n",
       "  <thead>\n",
       "    <tr style=\"text-align: right;\">\n",
       "      <th></th>\n",
       "      <th>id</th>\n",
       "      <th>place_name</th>\n",
       "      <th>chain</th>\n",
       "      <th>place_type</th>\n",
       "      <th>address</th>\n",
       "      <th>number_of_seats</th>\n",
       "      <th>street</th>\n",
       "      <th>adm_area</th>\n",
       "      <th>district</th>\n",
       "    </tr>\n",
       "  </thead>\n",
       "  <tbody>\n",
       "    <tr>\n",
       "      <td>0</td>\n",
       "      <td>151635</td>\n",
       "      <td>сметана</td>\n",
       "      <td>нет</td>\n",
       "      <td>кафе</td>\n",
       "      <td>город Москва, улица Егора Абакумова, дом 9</td>\n",
       "      <td>48</td>\n",
       "      <td>улица Егора Абакумова</td>\n",
       "      <td>Северо-Восточный административный округ</td>\n",
       "      <td>муниципальный округ Ярославский</td>\n",
       "    </tr>\n",
       "    <tr>\n",
       "      <td>1</td>\n",
       "      <td>193477</td>\n",
       "      <td>grill-house</td>\n",
       "      <td>нет</td>\n",
       "      <td>закусочная</td>\n",
       "      <td>город Москва, улица Егора Абакумова, дом 14А</td>\n",
       "      <td>0</td>\n",
       "      <td>улица Егора Абакумова</td>\n",
       "      <td>Северо-Восточный административный округ</td>\n",
       "      <td>муниципальный округ Ярославский</td>\n",
       "    </tr>\n",
       "    <tr>\n",
       "      <td>2</td>\n",
       "      <td>196756</td>\n",
       "      <td>пекарня</td>\n",
       "      <td>нет</td>\n",
       "      <td>кафетерий</td>\n",
       "      <td>город Москва, улица Егора Абакумова, дом 14А</td>\n",
       "      <td>12</td>\n",
       "      <td>улица Егора Абакумова</td>\n",
       "      <td>Северо-Восточный административный округ</td>\n",
       "      <td>муниципальный округ Ярославский</td>\n",
       "    </tr>\n",
       "    <tr>\n",
       "      <td>3</td>\n",
       "      <td>77874</td>\n",
       "      <td>родник</td>\n",
       "      <td>нет</td>\n",
       "      <td>кафе</td>\n",
       "      <td>город Москва, улица Талалихина, дом 2/1, корпус 1</td>\n",
       "      <td>35</td>\n",
       "      <td>улица Талалихина</td>\n",
       "      <td>Юго-Западный административный округ</td>\n",
       "      <td>муниципальный округ Южное Бутово</td>\n",
       "    </tr>\n",
       "    <tr>\n",
       "      <td>4</td>\n",
       "      <td>77874</td>\n",
       "      <td>родник</td>\n",
       "      <td>нет</td>\n",
       "      <td>кафе</td>\n",
       "      <td>город Москва, улица Талалихина, дом 2/1, корпус 1</td>\n",
       "      <td>35</td>\n",
       "      <td>улица Талалихина</td>\n",
       "      <td>Юго-Восточный административный округ</td>\n",
       "      <td>муниципальный округ Нижегородский</td>\n",
       "    </tr>\n",
       "    <tr>\n",
       "      <td>...</td>\n",
       "      <td>...</td>\n",
       "      <td>...</td>\n",
       "      <td>...</td>\n",
       "      <td>...</td>\n",
       "      <td>...</td>\n",
       "      <td>...</td>\n",
       "      <td>...</td>\n",
       "      <td>...</td>\n",
       "      <td>...</td>\n",
       "    </tr>\n",
       "    <tr>\n",
       "      <td>33277</td>\n",
       "      <td>223171</td>\n",
       "      <td>кондитерская «пряник.рогалик»</td>\n",
       "      <td>нет</td>\n",
       "      <td>кафе</td>\n",
       "      <td>город Москва, город Троицк, Пионерская улица, ...</td>\n",
       "      <td>20</td>\n",
       "      <td>Пионерская улица</td>\n",
       "      <td>Новомосковский административный округ</td>\n",
       "      <td>городской округ Щербинка</td>\n",
       "    </tr>\n",
       "    <tr>\n",
       "      <td>33278</td>\n",
       "      <td>213851</td>\n",
       "      <td>ресторан «атмосфера»</td>\n",
       "      <td>нет</td>\n",
       "      <td>ресторан</td>\n",
       "      <td>город Москва, улица Василисы Кожиной, дом 1, к...</td>\n",
       "      <td>49</td>\n",
       "      <td>улица Василисы Кожиной</td>\n",
       "      <td>Западный административный округ</td>\n",
       "      <td>муниципальный округ Филевский Парк</td>\n",
       "    </tr>\n",
       "    <tr>\n",
       "      <td>33279</td>\n",
       "      <td>213864</td>\n",
       "      <td>столовая</td>\n",
       "      <td>нет</td>\n",
       "      <td>столовая</td>\n",
       "      <td>город Москва, улица Василисы Кожиной, дом 1, к...</td>\n",
       "      <td>49</td>\n",
       "      <td>улица Василисы Кожиной</td>\n",
       "      <td>Западный административный округ</td>\n",
       "      <td>муниципальный округ Филевский Парк</td>\n",
       "    </tr>\n",
       "    <tr>\n",
       "      <td>33280</td>\n",
       "      <td>213930</td>\n",
       "      <td>горячий хлеб</td>\n",
       "      <td>нет</td>\n",
       "      <td>предприятие быстрого обслуживания</td>\n",
       "      <td>город Москва, поселение Десеновское, улица Дми...</td>\n",
       "      <td>0</td>\n",
       "      <td>улица Дмитрия Рябинкина</td>\n",
       "      <td>Новомосковский административный округ</td>\n",
       "      <td>внутригородская территория поселение Десеновское</td>\n",
       "    </tr>\n",
       "    <tr>\n",
       "      <td>33281</td>\n",
       "      <td>205588</td>\n",
       "      <td>кофейня</td>\n",
       "      <td>нет</td>\n",
       "      <td>кафетерий</td>\n",
       "      <td>город Москва, поселение Щаповское, улица Евген...</td>\n",
       "      <td>16</td>\n",
       "      <td>улица Евгения Родионова</td>\n",
       "      <td>Троицкий административный округ</td>\n",
       "      <td>внутригородская территория поселение Щаповское</td>\n",
       "    </tr>\n",
       "  </tbody>\n",
       "</table>\n",
       "<p>33282 rows × 9 columns</p>\n",
       "</div>"
      ],
      "text/plain": [
       "           id                     place_name chain  \\\n",
       "0      151635                        сметана   нет   \n",
       "1      193477                    grill-house   нет   \n",
       "2      196756                        пекарня   нет   \n",
       "3       77874                         родник   нет   \n",
       "4       77874                         родник   нет   \n",
       "...       ...                            ...   ...   \n",
       "33277  223171  кондитерская «пряник.рогалик»   нет   \n",
       "33278  213851           ресторан «атмосфера»   нет   \n",
       "33279  213864                       столовая   нет   \n",
       "33280  213930                   горячий хлеб   нет   \n",
       "33281  205588                        кофейня   нет   \n",
       "\n",
       "                              place_type  \\\n",
       "0                                   кафе   \n",
       "1                             закусочная   \n",
       "2                              кафетерий   \n",
       "3                                   кафе   \n",
       "4                                   кафе   \n",
       "...                                  ...   \n",
       "33277                               кафе   \n",
       "33278                           ресторан   \n",
       "33279                           столовая   \n",
       "33280  предприятие быстрого обслуживания   \n",
       "33281                          кафетерий   \n",
       "\n",
       "                                                 address  number_of_seats  \\\n",
       "0             город Москва, улица Егора Абакумова, дом 9               48   \n",
       "1           город Москва, улица Егора Абакумова, дом 14А                0   \n",
       "2           город Москва, улица Егора Абакумова, дом 14А               12   \n",
       "3      город Москва, улица Талалихина, дом 2/1, корпус 1               35   \n",
       "4      город Москва, улица Талалихина, дом 2/1, корпус 1               35   \n",
       "...                                                  ...              ...   \n",
       "33277  город Москва, город Троицк, Пионерская улица, ...               20   \n",
       "33278  город Москва, улица Василисы Кожиной, дом 1, к...               49   \n",
       "33279  город Москва, улица Василисы Кожиной, дом 1, к...               49   \n",
       "33280  город Москва, поселение Десеновское, улица Дми...                0   \n",
       "33281  город Москва, поселение Щаповское, улица Евген...               16   \n",
       "\n",
       "                        street                                 adm_area  \\\n",
       "0        улица Егора Абакумова  Северо-Восточный административный округ   \n",
       "1        улица Егора Абакумова  Северо-Восточный административный округ   \n",
       "2        улица Егора Абакумова  Северо-Восточный административный округ   \n",
       "3             улица Талалихина      Юго-Западный административный округ   \n",
       "4             улица Талалихина     Юго-Восточный административный округ   \n",
       "...                        ...                                      ...   \n",
       "33277         Пионерская улица    Новомосковский административный округ   \n",
       "33278   улица Василисы Кожиной          Западный административный округ   \n",
       "33279   улица Василисы Кожиной          Западный административный округ   \n",
       "33280  улица Дмитрия Рябинкина    Новомосковский административный округ   \n",
       "33281  улица Евгения Родионова          Троицкий административный округ   \n",
       "\n",
       "                                               district  \n",
       "0                       муниципальный округ Ярославский  \n",
       "1                       муниципальный округ Ярославский  \n",
       "2                       муниципальный округ Ярославский  \n",
       "3                      муниципальный округ Южное Бутово  \n",
       "4                     муниципальный округ Нижегородский  \n",
       "...                                                 ...  \n",
       "33277                          городской округ Щербинка  \n",
       "33278                муниципальный округ Филевский Парк  \n",
       "33279                муниципальный округ Филевский Парк  \n",
       "33280  внутригородская территория поселение Десеновское  \n",
       "33281    внутригородская территория поселение Щаповское  \n",
       "\n",
       "[33282 rows x 9 columns]"
      ]
     },
     "execution_count": 50,
     "metadata": {},
     "output_type": "execute_result"
    }
   ],
   "source": [
    "# Объеденим данные\n",
    "rest_data_merged = (rest_data\n",
    "                    .query('~street.isna()')\n",
    "                    .merge(reestr_cleared\n",
    "                           .query('~street.isna()'),\n",
    "                           left_on='street', right_on='street'))\n",
    "rest_data_merged"
   ]
  },
  {
   "cell_type": "markdown",
   "metadata": {},
   "source": [
    "Видим увеличение количества строк почти в два раза, что вызвано повялением дубликатов (строки 3 и 4). Эти дубли появляются из-за того, что одна улица может пересекать несколько районов."
   ]
  },
  {
   "cell_type": "markdown",
   "metadata": {},
   "source": [
    "***"
   ]
  },
  {
   "cell_type": "markdown",
   "metadata": {},
   "source": [
    "Узнаем топ-10 улиц по количеству объектов общественного питания."
   ]
  },
  {
   "cell_type": "code",
   "execution_count": 57,
   "metadata": {},
   "outputs": [
    {
     "data": {
      "text/html": [
       "<div>\n",
       "<style scoped>\n",
       "    .dataframe tbody tr th:only-of-type {\n",
       "        vertical-align: middle;\n",
       "    }\n",
       "\n",
       "    .dataframe tbody tr th {\n",
       "        vertical-align: top;\n",
       "    }\n",
       "\n",
       "    .dataframe thead th {\n",
       "        text-align: right;\n",
       "    }\n",
       "</style>\n",
       "<table border=\"1\" class=\"dataframe\">\n",
       "  <thead>\n",
       "    <tr style=\"text-align: right;\">\n",
       "      <th></th>\n",
       "      <th>id</th>\n",
       "      <th>place_name</th>\n",
       "      <th>chain</th>\n",
       "      <th>place_type</th>\n",
       "      <th>address</th>\n",
       "      <th>number_of_seats</th>\n",
       "      <th>street</th>\n",
       "      <th>adm_area</th>\n",
       "      <th>district</th>\n",
       "    </tr>\n",
       "  </thead>\n",
       "  <tbody>\n",
       "    <tr>\n",
       "      <td>0</td>\n",
       "      <td>151635</td>\n",
       "      <td>сметана</td>\n",
       "      <td>нет</td>\n",
       "      <td>кафе</td>\n",
       "      <td>город Москва, улица Егора Абакумова, дом 9</td>\n",
       "      <td>48</td>\n",
       "      <td>улица Егора Абакумова</td>\n",
       "      <td>Северо-Восточный административный округ</td>\n",
       "      <td>муниципальный округ Ярославский</td>\n",
       "    </tr>\n",
       "    <tr>\n",
       "      <td>1</td>\n",
       "      <td>193477</td>\n",
       "      <td>grill-house</td>\n",
       "      <td>нет</td>\n",
       "      <td>закусочная</td>\n",
       "      <td>город Москва, улица Егора Абакумова, дом 14А</td>\n",
       "      <td>0</td>\n",
       "      <td>улица Егора Абакумова</td>\n",
       "      <td>Северо-Восточный административный округ</td>\n",
       "      <td>муниципальный округ Ярославский</td>\n",
       "    </tr>\n",
       "    <tr>\n",
       "      <td>2</td>\n",
       "      <td>196756</td>\n",
       "      <td>пекарня</td>\n",
       "      <td>нет</td>\n",
       "      <td>кафетерий</td>\n",
       "      <td>город Москва, улица Егора Абакумова, дом 14А</td>\n",
       "      <td>12</td>\n",
       "      <td>улица Егора Абакумова</td>\n",
       "      <td>Северо-Восточный административный округ</td>\n",
       "      <td>муниципальный округ Ярославский</td>\n",
       "    </tr>\n",
       "    <tr>\n",
       "      <td>3</td>\n",
       "      <td>77874</td>\n",
       "      <td>родник</td>\n",
       "      <td>нет</td>\n",
       "      <td>кафе</td>\n",
       "      <td>город Москва, улица Талалихина, дом 2/1, корпус 1</td>\n",
       "      <td>35</td>\n",
       "      <td>улица Талалихина</td>\n",
       "      <td>Юго-Западный административный округ</td>\n",
       "      <td>муниципальный округ Южное Бутово</td>\n",
       "    </tr>\n",
       "    <tr>\n",
       "      <td>4</td>\n",
       "      <td>83942</td>\n",
       "      <td>кафе даиси</td>\n",
       "      <td>нет</td>\n",
       "      <td>кафе</td>\n",
       "      <td>город Москва, улица Талалихина, дом 31А/2</td>\n",
       "      <td>78</td>\n",
       "      <td>улица Талалихина</td>\n",
       "      <td>Юго-Западный административный округ</td>\n",
       "      <td>муниципальный округ Южное Бутово</td>\n",
       "    </tr>\n",
       "  </tbody>\n",
       "</table>\n",
       "</div>"
      ],
      "text/plain": [
       "       id   place_name chain  place_type  \\\n",
       "0  151635      сметана   нет        кафе   \n",
       "1  193477  grill-house   нет  закусочная   \n",
       "2  196756      пекарня   нет   кафетерий   \n",
       "3   77874       родник   нет        кафе   \n",
       "4   83942   кафе даиси   нет        кафе   \n",
       "\n",
       "                                             address  number_of_seats  \\\n",
       "0         город Москва, улица Егора Абакумова, дом 9               48   \n",
       "1       город Москва, улица Егора Абакумова, дом 14А                0   \n",
       "2       город Москва, улица Егора Абакумова, дом 14А               12   \n",
       "3  город Москва, улица Талалихина, дом 2/1, корпус 1               35   \n",
       "4          город Москва, улица Талалихина, дом 31А/2               78   \n",
       "\n",
       "                  street                                 adm_area  \\\n",
       "0  улица Егора Абакумова  Северо-Восточный административный округ   \n",
       "1  улица Егора Абакумова  Северо-Восточный административный округ   \n",
       "2  улица Егора Абакумова  Северо-Восточный административный округ   \n",
       "3       улица Талалихина      Юго-Западный административный округ   \n",
       "4       улица Талалихина      Юго-Западный административный округ   \n",
       "\n",
       "                           district  \n",
       "0   муниципальный округ Ярославский  \n",
       "1   муниципальный округ Ярославский  \n",
       "2   муниципальный округ Ярославский  \n",
       "3  муниципальный округ Южное Бутово  \n",
       "4  муниципальный округ Южное Бутово  "
      ]
     },
     "execution_count": 57,
     "metadata": {},
     "output_type": "execute_result"
    }
   ],
   "source": [
    "# Избавимся от дубликатов\n",
    "clean_rest_data_merged = rest_data_merged.drop(rest_data_merged[rest_data_merged.drop(['adm_area', 'district'], axis=1).duplicated()].index ).reset_index(drop = True)\n",
    "clean_rest_data_merged.head()"
   ]
  },
  {
   "cell_type": "code",
   "execution_count": 58,
   "metadata": {},
   "outputs": [
    {
     "data": {
      "text/html": [
       "<div>\n",
       "<style scoped>\n",
       "    .dataframe tbody tr th:only-of-type {\n",
       "        vertical-align: middle;\n",
       "    }\n",
       "\n",
       "    .dataframe tbody tr th {\n",
       "        vertical-align: top;\n",
       "    }\n",
       "\n",
       "    .dataframe thead th {\n",
       "        text-align: right;\n",
       "    }\n",
       "</style>\n",
       "<table border=\"1\" class=\"dataframe\">\n",
       "  <thead>\n",
       "    <tr style=\"text-align: right;\">\n",
       "      <th></th>\n",
       "      <th>place_count</th>\n",
       "    </tr>\n",
       "    <tr>\n",
       "      <th>street</th>\n",
       "      <th></th>\n",
       "    </tr>\n",
       "  </thead>\n",
       "  <tbody>\n",
       "    <tr>\n",
       "      <td>проспект Мира</td>\n",
       "      <td>197</td>\n",
       "    </tr>\n",
       "    <tr>\n",
       "      <td>Профсоюзная улица</td>\n",
       "      <td>181</td>\n",
       "    </tr>\n",
       "    <tr>\n",
       "      <td>Ленинградский проспект</td>\n",
       "      <td>172</td>\n",
       "    </tr>\n",
       "    <tr>\n",
       "      <td>Пресненская набережная</td>\n",
       "      <td>165</td>\n",
       "    </tr>\n",
       "    <tr>\n",
       "      <td>Варшавское шоссе</td>\n",
       "      <td>164</td>\n",
       "    </tr>\n",
       "    <tr>\n",
       "      <td>Ленинский проспект</td>\n",
       "      <td>148</td>\n",
       "    </tr>\n",
       "    <tr>\n",
       "      <td>проспект Вернадского</td>\n",
       "      <td>127</td>\n",
       "    </tr>\n",
       "    <tr>\n",
       "      <td>Кутузовский проспект</td>\n",
       "      <td>114</td>\n",
       "    </tr>\n",
       "    <tr>\n",
       "      <td>Каширское шоссе</td>\n",
       "      <td>110</td>\n",
       "    </tr>\n",
       "    <tr>\n",
       "      <td>Кировоградская улица</td>\n",
       "      <td>107</td>\n",
       "    </tr>\n",
       "  </tbody>\n",
       "</table>\n",
       "</div>"
      ],
      "text/plain": [
       "                        place_count\n",
       "street                             \n",
       "проспект Мира                   197\n",
       "Профсоюзная улица               181\n",
       "Ленинградский проспект          172\n",
       "Пресненская набережная          165\n",
       "Варшавское шоссе                164\n",
       "Ленинский проспект              148\n",
       "проспект Вернадского            127\n",
       "Кутузовский проспект            114\n",
       "Каширское шоссе                 110\n",
       "Кировоградская улица            107"
      ]
     },
     "execution_count": 58,
     "metadata": {},
     "output_type": "execute_result"
    }
   ],
   "source": [
    "# сгруппируем данные и посчитаем количество заведений\n",
    "top_10_street = (clean_rest_data_merged\n",
    "                 .groupby('street')\n",
    "                 .agg( place_count = ('id', 'count'))\n",
    "                 .sort_values(by='place_count', ascending=False)\n",
    "                 .head(10))\n",
    "top_10_street"
   ]
  },
  {
   "cell_type": "code",
   "execution_count": 59,
   "metadata": {},
   "outputs": [
    {
     "data": {
      "image/png": "[encoded data removed]",
      "text/plain": [
       "<Figure size 720x360 with 1 Axes>"
      ]
     },
     "metadata": {},
     "output_type": "display_data"
    }
   ],
   "source": [
    "# Построим столбчатую диаграмму. Для удобства вывода немного изменим подписи на графике\n",
    "lables = list(map(lambda x: x.replace(\" \", '\\n'), top_10_street.index))\n",
    "\n",
    "plt.figure(figsize=(10, 5))\n",
    "sns.barplot(x=lables, y=\"place_count\", data=top_10_street)\n",
    "plt.xticks(rotation=80, fontsize = 12 )\n",
    "plt.title('Топ-10 улиц по количеству объектов общественного питания', fontsize = 13)\n",
    "plt.ylabel('Количество заведений', fontsize = 13);"
   ]
  },
  {
   "cell_type": "markdown",
   "metadata": {},
   "source": [
    "В топ входят самые длинные улицы, которые проходят через весь город и ведут к центру. В целом логичный результат: чем длинее улица, тем больше объектов на ней помещается.  \n",
    "Узнаем, в каких районах Москвы находятся эти улицы. "
   ]
  },
  {
   "cell_type": "code",
   "execution_count": 60,
   "metadata": {},
   "outputs": [
    {
     "data": {
      "text/html": [
       "<div>\n",
       "<style scoped>\n",
       "    .dataframe tbody tr th:only-of-type {\n",
       "        vertical-align: middle;\n",
       "    }\n",
       "\n",
       "    .dataframe tbody tr th {\n",
       "        vertical-align: top;\n",
       "    }\n",
       "\n",
       "    .dataframe thead th {\n",
       "        text-align: right;\n",
       "    }\n",
       "</style>\n",
       "<table border=\"1\" class=\"dataframe\">\n",
       "  <thead>\n",
       "    <tr style=\"text-align: right;\">\n",
       "      <th></th>\n",
       "      <th>street</th>\n",
       "      <th>district</th>\n",
       "    </tr>\n",
       "  </thead>\n",
       "  <tbody>\n",
       "    <tr>\n",
       "      <td>0</td>\n",
       "      <td>Варшавское шоссе</td>\n",
       "      <td>муниципальный округ Донской</td>\n",
       "    </tr>\n",
       "    <tr>\n",
       "      <td>1</td>\n",
       "      <td>Варшавское шоссе</td>\n",
       "      <td>муниципальный округ Нагатино-Садовники</td>\n",
       "    </tr>\n",
       "    <tr>\n",
       "      <td>2</td>\n",
       "      <td>Варшавское шоссе</td>\n",
       "      <td>муниципальный округ Нагорный</td>\n",
       "    </tr>\n",
       "    <tr>\n",
       "      <td>3</td>\n",
       "      <td>Варшавское шоссе</td>\n",
       "      <td>муниципальный округ Северное Бутово</td>\n",
       "    </tr>\n",
       "    <tr>\n",
       "      <td>4</td>\n",
       "      <td>Варшавское шоссе</td>\n",
       "      <td>муниципальный округ Чертаново Северное</td>\n",
       "    </tr>\n",
       "    <tr>\n",
       "      <td>5</td>\n",
       "      <td>Варшавское шоссе</td>\n",
       "      <td>муниципальный округ Чертаново Центральное</td>\n",
       "    </tr>\n",
       "    <tr>\n",
       "      <td>6</td>\n",
       "      <td>Варшавское шоссе</td>\n",
       "      <td>муниципальный округ Чертаново Южное</td>\n",
       "    </tr>\n",
       "    <tr>\n",
       "      <td>7</td>\n",
       "      <td>Варшавское шоссе</td>\n",
       "      <td>муниципальный округ Южное Бутово</td>\n",
       "    </tr>\n",
       "    <tr>\n",
       "      <td>8</td>\n",
       "      <td>Каширское шоссе</td>\n",
       "      <td>муниципальный округ Москворечье-Сабурово</td>\n",
       "    </tr>\n",
       "    <tr>\n",
       "      <td>9</td>\n",
       "      <td>Каширское шоссе</td>\n",
       "      <td>муниципальный округ Нагатино-Садовники</td>\n",
       "    </tr>\n",
       "  </tbody>\n",
       "</table>\n",
       "</div>"
      ],
      "text/plain": [
       "             street                                   district\n",
       "0  Варшавское шоссе                муниципальный округ Донской\n",
       "1  Варшавское шоссе     муниципальный округ Нагатино-Садовники\n",
       "2  Варшавское шоссе               муниципальный округ Нагорный\n",
       "3  Варшавское шоссе        муниципальный округ Северное Бутово\n",
       "4  Варшавское шоссе     муниципальный округ Чертаново Северное\n",
       "5  Варшавское шоссе  муниципальный округ Чертаново Центральное\n",
       "6  Варшавское шоссе        муниципальный округ Чертаново Южное\n",
       "7  Варшавское шоссе           муниципальный округ Южное Бутово\n",
       "8   Каширское шоссе   муниципальный округ Москворечье-Сабурово\n",
       "9   Каширское шоссе     муниципальный округ Нагатино-Садовники"
      ]
     },
     "execution_count": 60,
     "metadata": {},
     "output_type": "execute_result"
    }
   ],
   "source": [
    "# Добавим для каждой улицы все районы, которые она пересекает\n",
    "top_10_street_grouped = (top_10_street\n",
    "                         .reset_index()\n",
    "                         .merge(reestr_cleared\n",
    "                                .query('~street.isna()'),\n",
    "                                left_on='street', right_on='street')\n",
    "                         .groupby(['street', 'district', 'adm_area'])\n",
    "                         .agg( place_count = ('place_count', 'max'))\n",
    "                         .reset_index())\n",
    "top_10_street_grouped.head(10)[['street', 'district']]"
   ]
  },
  {
   "cell_type": "markdown",
   "metadata": {},
   "source": [
    "### Промежуточный вывод  \n",
    "Районов много для каждой улицы, что также логично: длинная улица, пересекающая весь город, также пересекает несколько районов."
   ]
  },
  {
   "cell_type": "markdown",
   "metadata": {},
   "source": [
    "***"
   ]
  },
  {
   "cell_type": "markdown",
   "metadata": {},
   "source": [
    "Найдем число улиц с одним объектом общественного питания, и узнаем в каких районах Москвы находятся эти улицы."
   ]
  },
  {
   "cell_type": "code",
   "execution_count": 173,
   "metadata": {},
   "outputs": [
    {
     "data": {
      "text/html": [
       "<div>\n",
       "<style scoped>\n",
       "    .dataframe tbody tr th:only-of-type {\n",
       "        vertical-align: middle;\n",
       "    }\n",
       "\n",
       "    .dataframe tbody tr th {\n",
       "        vertical-align: top;\n",
       "    }\n",
       "\n",
       "    .dataframe thead th {\n",
       "        text-align: right;\n",
       "    }\n",
       "</style>\n",
       "<table border=\"1\" class=\"dataframe\">\n",
       "  <thead>\n",
       "    <tr style=\"text-align: right;\">\n",
       "      <th></th>\n",
       "      <th>street</th>\n",
       "      <th>place_count</th>\n",
       "    </tr>\n",
       "  </thead>\n",
       "  <tbody>\n",
       "    <tr>\n",
       "      <td>0</td>\n",
       "      <td>1-й Балтийский переулок</td>\n",
       "      <td>1</td>\n",
       "    </tr>\n",
       "    <tr>\n",
       "      <td>1</td>\n",
       "      <td>1-й Ботанический проезд</td>\n",
       "      <td>1</td>\n",
       "    </tr>\n",
       "    <tr>\n",
       "      <td>2</td>\n",
       "      <td>1-й Вешняковский проезд</td>\n",
       "      <td>1</td>\n",
       "    </tr>\n",
       "    <tr>\n",
       "      <td>3</td>\n",
       "      <td>1-й Голутвинский переулок</td>\n",
       "      <td>1</td>\n",
       "    </tr>\n",
       "    <tr>\n",
       "      <td>4</td>\n",
       "      <td>1-й Зачатьевский переулок</td>\n",
       "      <td>1</td>\n",
       "    </tr>\n",
       "    <tr>\n",
       "      <td>...</td>\n",
       "      <td>...</td>\n",
       "      <td>...</td>\n",
       "    </tr>\n",
       "    <tr>\n",
       "      <td>469</td>\n",
       "      <td>улица Шеногина</td>\n",
       "      <td>1</td>\n",
       "    </tr>\n",
       "    <tr>\n",
       "      <td>470</td>\n",
       "      <td>улица Школа-интернат</td>\n",
       "      <td>1</td>\n",
       "    </tr>\n",
       "    <tr>\n",
       "      <td>471</td>\n",
       "      <td>улица Шумилова</td>\n",
       "      <td>1</td>\n",
       "    </tr>\n",
       "    <tr>\n",
       "      <td>472</td>\n",
       "      <td>улица Шумкина</td>\n",
       "      <td>1</td>\n",
       "    </tr>\n",
       "    <tr>\n",
       "      <td>473</td>\n",
       "      <td>улица Щорса</td>\n",
       "      <td>1</td>\n",
       "    </tr>\n",
       "  </tbody>\n",
       "</table>\n",
       "<p>474 rows × 2 columns</p>\n",
       "</div>"
      ],
      "text/plain": [
       "                        street  place_count\n",
       "0      1-й Балтийский переулок            1\n",
       "1      1-й Ботанический проезд            1\n",
       "2      1-й Вешняковский проезд            1\n",
       "3    1-й Голутвинский переулок            1\n",
       "4    1-й Зачатьевский переулок            1\n",
       "..                         ...          ...\n",
       "469             улица Шеногина            1\n",
       "470       улица Школа-интернат            1\n",
       "471             улица Шумилова            1\n",
       "472              улица Шумкина            1\n",
       "473                улица Щорса            1\n",
       "\n",
       "[474 rows x 2 columns]"
      ]
     },
     "execution_count": 173,
     "metadata": {},
     "output_type": "execute_result"
    }
   ],
   "source": [
    "# Выделим те улицы, где всего 1 заведение\n",
    "lonely_street = rest_data_merged.groupby('street').agg( place_count = ('id', 'count')).query('place_count == 1').reset_index() \n",
    "lonely_street"
   ]
  },
  {
   "cell_type": "markdown",
   "metadata": {},
   "source": [
    "Получаем **474** улицы с одним заведением. Узнаем, в каких районах Москвы находятся эти улицы. "
   ]
  },
  {
   "cell_type": "code",
   "execution_count": 174,
   "metadata": {},
   "outputs": [
    {
     "data": {
      "text/plain": [
       "муниципальный округ Таганский         24\n",
       "муниципальный округ Хамовники         22\n",
       "муниципальный округ Басманный         20\n",
       "муниципальный округ Тверской          18\n",
       "муниципальный округ Пресненский       16\n",
       "муниципальный округ Марьина Роща      15\n",
       "муниципальный округ Замоскворечье     12\n",
       "муниципальный округ Соколиная Гора    11\n",
       "муниципальный округ Сокольники        11\n",
       "муниципальный округ Мещанский         11\n",
       "Name: district, dtype: int64"
      ]
     },
     "execution_count": 174,
     "metadata": {},
     "output_type": "execute_result"
    }
   ],
   "source": [
    "# Узнаем сколько и в какие районы входят эти улицы\n",
    "rest_data_merged.query('street.isin(@lonely_street.street)')['district'].value_counts().head(10)"
   ]
  },
  {
   "cell_type": "markdown",
   "metadata": {},
   "source": [
    "### Промежуточный вывод  \n",
    "Если изучить местоположение этих районов на карте, то можно узнать, что эти районы в основном являются спальными и расположены за пределамии кольцевой линии."
   ]
  },
  {
   "cell_type": "markdown",
   "metadata": {},
   "source": [
    "***"
   ]
  },
  {
   "cell_type": "markdown",
   "metadata": {},
   "source": [
    "Изучим распределение количества посадочных мест для улиц с большим количеством объектов общественного питания."
   ]
  },
  {
   "cell_type": "code",
   "execution_count": 175,
   "metadata": {},
   "outputs": [
    {
     "data": {
      "text/html": [
       "<div>\n",
       "<style scoped>\n",
       "    .dataframe tbody tr th:only-of-type {\n",
       "        vertical-align: middle;\n",
       "    }\n",
       "\n",
       "    .dataframe tbody tr th {\n",
       "        vertical-align: top;\n",
       "    }\n",
       "\n",
       "    .dataframe thead th {\n",
       "        text-align: right;\n",
       "    }\n",
       "</style>\n",
       "<table border=\"1\" class=\"dataframe\">\n",
       "  <thead>\n",
       "    <tr style=\"text-align: right;\">\n",
       "      <th></th>\n",
       "      <th>id</th>\n",
       "      <th>place_name</th>\n",
       "      <th>chain</th>\n",
       "      <th>place_type</th>\n",
       "      <th>address</th>\n",
       "      <th>number_of_seats</th>\n",
       "      <th>street</th>\n",
       "      <th>adm_area</th>\n",
       "      <th>district</th>\n",
       "    </tr>\n",
       "  </thead>\n",
       "  <tbody>\n",
       "    <tr>\n",
       "      <td>175</td>\n",
       "      <td>84832</td>\n",
       "      <td>кафе уют</td>\n",
       "      <td>нет</td>\n",
       "      <td>кафе</td>\n",
       "      <td>город Москва, Алтуфьевское шоссе, дом 14</td>\n",
       "      <td>110</td>\n",
       "      <td>Алтуфьевское шоссе</td>\n",
       "      <td>Северо-Восточный административный округ</td>\n",
       "      <td>муниципальный округ Алтуфьевский</td>\n",
       "    </tr>\n",
       "    <tr>\n",
       "      <td>176</td>\n",
       "      <td>84832</td>\n",
       "      <td>кафе уют</td>\n",
       "      <td>нет</td>\n",
       "      <td>кафе</td>\n",
       "      <td>город Москва, Алтуфьевское шоссе, дом 14</td>\n",
       "      <td>110</td>\n",
       "      <td>Алтуфьевское шоссе</td>\n",
       "      <td>Северо-Восточный административный округ</td>\n",
       "      <td>муниципальный округ Отрадное</td>\n",
       "    </tr>\n",
       "    <tr>\n",
       "      <td>177</td>\n",
       "      <td>84832</td>\n",
       "      <td>кафе уют</td>\n",
       "      <td>нет</td>\n",
       "      <td>кафе</td>\n",
       "      <td>город Москва, Алтуфьевское шоссе, дом 14</td>\n",
       "      <td>110</td>\n",
       "      <td>Алтуфьевское шоссе</td>\n",
       "      <td>Северо-Восточный административный округ</td>\n",
       "      <td>муниципальный округ Лианозово</td>\n",
       "    </tr>\n",
       "    <tr>\n",
       "      <td>178</td>\n",
       "      <td>84832</td>\n",
       "      <td>кафе уют</td>\n",
       "      <td>нет</td>\n",
       "      <td>кафе</td>\n",
       "      <td>город Москва, Алтуфьевское шоссе, дом 14</td>\n",
       "      <td>110</td>\n",
       "      <td>Алтуфьевское шоссе</td>\n",
       "      <td>Северо-Восточный административный округ</td>\n",
       "      <td>муниципальный округ Бибирево</td>\n",
       "    </tr>\n",
       "    <tr>\n",
       "      <td>179</td>\n",
       "      <td>26931</td>\n",
       "      <td>долина чайхона</td>\n",
       "      <td>нет</td>\n",
       "      <td>кафе</td>\n",
       "      <td>город Москва, Алтуфьевское шоссе, дом 14</td>\n",
       "      <td>150</td>\n",
       "      <td>Алтуфьевское шоссе</td>\n",
       "      <td>Северо-Восточный административный округ</td>\n",
       "      <td>муниципальный округ Алтуфьевский</td>\n",
       "    </tr>\n",
       "  </tbody>\n",
       "</table>\n",
       "</div>"
      ],
      "text/plain": [
       "        id      place_name chain place_type  \\\n",
       "175  84832        кафе уют   нет       кафе   \n",
       "176  84832        кафе уют   нет       кафе   \n",
       "177  84832        кафе уют   нет       кафе   \n",
       "178  84832        кафе уют   нет       кафе   \n",
       "179  26931  долина чайхона   нет       кафе   \n",
       "\n",
       "                                      address  number_of_seats  \\\n",
       "175  город Москва, Алтуфьевское шоссе, дом 14              110   \n",
       "176  город Москва, Алтуфьевское шоссе, дом 14              110   \n",
       "177  город Москва, Алтуфьевское шоссе, дом 14              110   \n",
       "178  город Москва, Алтуфьевское шоссе, дом 14              110   \n",
       "179  город Москва, Алтуфьевское шоссе, дом 14              150   \n",
       "\n",
       "                 street                                 adm_area  \\\n",
       "175  Алтуфьевское шоссе  Северо-Восточный административный округ   \n",
       "176  Алтуфьевское шоссе  Северо-Восточный административный округ   \n",
       "177  Алтуфьевское шоссе  Северо-Восточный административный округ   \n",
       "178  Алтуфьевское шоссе  Северо-Восточный административный округ   \n",
       "179  Алтуфьевское шоссе  Северо-Восточный административный округ   \n",
       "\n",
       "                             district  \n",
       "175  муниципальный округ Алтуфьевский  \n",
       "176      муниципальный округ Отрадное  \n",
       "177     муниципальный округ Лианозово  \n",
       "178      муниципальный округ Бибирево  \n",
       "179  муниципальный округ Алтуфьевский  "
      ]
     },
     "execution_count": 175,
     "metadata": {},
     "output_type": "execute_result"
    }
   ],
   "source": [
    "# Выделим улицы, где заведений больше 50\n",
    "big_streets = (rest_data_merged\n",
    "                  .groupby('street')\n",
    "                  .agg( place_count = ('id', 'count'))\n",
    "                  .sort_values(by='place_count', ascending=False)\n",
    "                  .query('place_count > 50')\n",
    "                  .index)\n",
    "\n",
    "big_streets_data = rest_data_merged.query('street.isin(@big_streets)')\n",
    "big_streets_data.head()"
   ]
  },
  {
   "cell_type": "code",
   "execution_count": 176,
   "metadata": {
    "scrolled": true
   },
   "outputs": [
    {
     "data": {
      "text/plain": [
       "15545"
      ]
     },
     "execution_count": 176,
     "metadata": {},
     "output_type": "execute_result"
    }
   ],
   "source": [
    "# Проверим датасет на наличие дубликатов.\n",
    "big_streets_data.drop(['adm_area', 'district'], axis=1).duplicated().sum()"
   ]
  },
  {
   "cell_type": "code",
   "execution_count": 177,
   "metadata": {},
   "outputs": [
    {
     "data": {
      "text/plain": [
       "0"
      ]
     },
     "execution_count": 177,
     "metadata": {},
     "output_type": "execute_result"
    }
   ],
   "source": [
    "# Удалим дубликаты, сбросим нумерацию индексов и проверим результат\n",
    "big_streets_data = (big_streets_data\n",
    "                    .drop(big_streets_data[big_streets_data\n",
    "                                           .drop(['adm_area', 'district'], axis=1)\n",
    "                                           .duplicated()].index )\n",
    "                    .reset_index(drop = True))\n",
    "big_streets_data.duplicated().sum()"
   ]
  },
  {
   "cell_type": "code",
   "execution_count": 178,
   "metadata": {},
   "outputs": [
    {
     "data": {
      "image/png": "[encoded data removed]",
      "text/plain": [
       "<Figure size 1080x720 with 2 Axes>"
      ]
     },
     "metadata": {},
     "output_type": "display_data"
    }
   ],
   "source": [
    "# Построим графики\n",
    "fig = plt.figure(figsize=(15,10))\n",
    "ax_1 = fig.add_subplot(211)\n",
    "ax_2 = fig.add_subplot(212)\n",
    "\n",
    "ax_1.hist(rest_data.query('number_of_seats !=0')['number_of_seats'],bins=50, range=(0, 300))\n",
    "ax_1.set_title('Распределение количества посадочных мест для всех улиц', fontsize = 13)\n",
    "ax_1.set_ylabel('Количество заведений', fontsize = 13)\n",
    "ax_1.set_xlabel('Количество посадочных мест', fontsize = 13)\n",
    "\n",
    "ax_2.hist(big_streets_data.query('number_of_seats !=0')['number_of_seats'],bins=50, range=(0, 300))\n",
    "ax_2.set_title('Распределение количества посадочных мест для крупных улиц', fontsize = 13)\n",
    "ax_2.set_ylabel('Количество заведений', fontsize = 13)\n",
    "ax_2.set_xlabel('Количество посадочных мест', fontsize = 13);"
   ]
  },
  {
   "cell_type": "code",
   "execution_count": 179,
   "metadata": {},
   "outputs": [
    {
     "name": "stdout",
     "output_type": "stream",
     "text": [
      "Суммарное количество улиц: 1893\n",
      "Количество улиц, где заведений больше пятидесяти: 104\n"
     ]
    }
   ],
   "source": [
    "# Утчоним количество улиц\n",
    "print('Суммарное количество улиц:', len(rest_data['street'].value_counts()))\n",
    "print('Количество улиц, где заведений больше пятидесяти:', len(big_streets))"
   ]
  },
  {
   "cell_type": "markdown",
   "metadata": {},
   "source": [
    "### Промежуточный вывод  \n",
    "Видим что распределения почти идентичны, хотя крупных улиц в 18 раз меньше. Можно заметить небольшие пики на ровных значениях: 50, 100, 150, 200 и тд."
   ]
  },
  {
   "cell_type": "markdown",
   "metadata": {},
   "source": [
    "# Вывод "
   ]
  },
  {
   "cell_type": "markdown",
   "metadata": {},
   "source": [
    "В ходе исследования были сделаны следующие выводы относительно Московского рынка общесвтенного питания:\n",
    "* В Моске больше всего кафе, столовых и ресторанов. Суммарно они занимают около 70% рынка.\n",
    "* Сетевых заведений в 4 раза меньше чем несетевых.\n",
    "* Среди стевых наиболее распространены кафе, рестораны и предприятия быстрого обслуживания.\n",
    "* Большинство сетей имеет до 20 заведений и в них до 150 мест.\n",
    "* Больше всего посадочных мест в столовых и в ресторанах.\n",
    "* Улицы с наибольшим количеством заведений обычно являются очень протяженными и пересекают весь город.\n",
    "* В спальных районах заведений в разы меньше. \n",
    "\n",
    "Для дальнейшего развития собственной сети можно применить две стратегии:\n",
    "1. \"Алый океан\": выбрать проверенный и самый распространенный вариант. Открыть кафе, Ставить заведения ближе к центру на самых крупных улицах с большим пассажиропотоком.\n",
    "2. \"Голубой океан\": выбрать незанятую нишу. Открывать бары в спальных районах, где не хвататет заведений общесвтенного питания и рынок почти свободен.\n",
    "\n",
    "Учет потенциальных рисков и прибылей для обоих вариантов требует дополнительного исследования."
   ]
  },
  {
   "cell_type": "markdown",
   "metadata": {},
   "source": [
    "Ссылка на презентацию отчет: [Рынок заведений общественного питания Москвы](https://drive.google.com/file/d/1Ywc1Aa7ki6ffCCq1w4q2qZg5b8LGWI7j/view?usp=sharing)"
   ]
  }
 ],
 "metadata": {
  "kernelspec": {
   "display_name": "Python 3",
   "language": "python",
   "name": "python3"
  },
  "language_info": {
   "codemirror_mode": {
    "name": "ipython",
    "version": 3
   },
   "file_extension": ".py",
   "mimetype": "text/x-python",
   "name": "python",
   "nbconvert_exporter": "python",
   "pygments_lexer": "ipython3",
   "version": "3.7.7"
  }
 },
 "nbformat": 4,
 "nbformat_minor": 2
}
